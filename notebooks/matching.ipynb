{
 "cells": [
  {
   "cell_type": "code",
   "execution_count": 1,
   "id": "3158ace2",
   "metadata": {},
   "outputs": [
    {
     "name": "stdout",
     "output_type": "stream",
     "text": [
      "Requirement already satisfied: openpyxl in /opt/conda/lib/python3.11/site-packages (3.1.2)\n",
      "Requirement already satisfied: et-xmlfile in /opt/conda/lib/python3.11/site-packages (from openpyxl) (1.1.0)\n"
     ]
    }
   ],
   "source": [
    "!pip install openpyxl\n"
   ]
  },
  {
   "cell_type": "code",
   "execution_count": 2,
   "id": "76eaa78d",
   "metadata": {},
   "outputs": [],
   "source": [
    "import pandas as pd"
   ]
  },
  {
   "cell_type": "code",
   "execution_count": 4,
   "id": "91db1665",
   "metadata": {},
   "outputs": [
    {
     "name": "stdout",
     "output_type": "stream",
     "text": [
      "dict_keys(['База товаров', 'Товары для проверки', 'Соответсвия товаров'])\n"
     ]
    }
   ],
   "source": [
    "# Показать все листы в Excel\n",
    "df = pd.read_excel(\"data/Товары для мэтчинга.xlsx\", sheet_name=None)\n",
    "print(df.keys())"
   ]
  },
  {
   "cell_type": "code",
   "execution_count": 5,
   "id": "d7d18dc0",
   "metadata": {},
   "outputs": [],
   "source": [
    "df = pd.read_excel(\"data/Товары для мэтчинга.xlsx\", sheet_name=\"База товаров\")"
   ]
  },
  {
   "cell_type": "code",
   "execution_count": 6,
   "id": "1ca0a8ae",
   "metadata": {},
   "outputs": [],
   "source": [
    "df_test = pd.read_excel(\"data/Товары для мэтчинга.xlsx\", sheet_name=\"Соответсвия товаров\")"
   ]
  },
  {
   "cell_type": "code",
   "execution_count": 7,
   "id": "43e2e3f8",
   "metadata": {},
   "outputs": [],
   "source": [
    "del(df_test[\"Наименование\"])"
   ]
  },
  {
   "cell_type": "code",
   "execution_count": 8,
   "id": "d3c6527b",
   "metadata": {},
   "outputs": [],
   "source": [
    "df_test[\"test_name\"] = df_test[\"Unnamed: 2\"]\n",
    "del(df_test[\"Unnamed: 2\"])"
   ]
  },
  {
   "cell_type": "code",
   "execution_count": 9,
   "id": "a62f6889",
   "metadata": {},
   "outputs": [],
   "source": [
    "del(df_test[\"Unnamed: 3\"])    "
   ]
  },
  {
   "cell_type": "code",
   "execution_count": 10,
   "id": "5baa7ad2",
   "metadata": {},
   "outputs": [],
   "source": [
    "del(df_test[\"Unnamed: 4\"])    "
   ]
  },
  {
   "cell_type": "code",
   "execution_count": 11,
   "id": "9403fff0",
   "metadata": {},
   "outputs": [
    {
     "data": {
      "text/html": [
       "<div>\n",
       "<style scoped>\n",
       "    .dataframe tbody tr th:only-of-type {\n",
       "        vertical-align: middle;\n",
       "    }\n",
       "\n",
       "    .dataframe tbody tr th {\n",
       "        vertical-align: top;\n",
       "    }\n",
       "\n",
       "    .dataframe thead th {\n",
       "        text-align: right;\n",
       "    }\n",
       "</style>\n",
       "<table border=\"1\" class=\"dataframe\">\n",
       "  <thead>\n",
       "    <tr style=\"text-align: right;\">\n",
       "      <th></th>\n",
       "      <th>Артикул</th>\n",
       "      <th>Наименование</th>\n",
       "    </tr>\n",
       "  </thead>\n",
       "  <tbody>\n",
       "    <tr>\n",
       "      <th>0</th>\n",
       "      <td>Т0000017607</td>\n",
       "      <td>Абрикос, кг</td>\n",
       "    </tr>\n",
       "    <tr>\n",
       "      <th>1</th>\n",
       "      <td>102058684</td>\n",
       "      <td>Авокадо, вес</td>\n",
       "    </tr>\n",
       "    <tr>\n",
       "      <th>2</th>\n",
       "      <td>Т0000051246</td>\n",
       "      <td>Апельсины, кг</td>\n",
       "    </tr>\n",
       "    <tr>\n",
       "      <th>3</th>\n",
       "      <td>Т0000012233</td>\n",
       "      <td>Бананы Эквадор, кг</td>\n",
       "    </tr>\n",
       "    <tr>\n",
       "      <th>4</th>\n",
       "      <td>101988505</td>\n",
       "      <td>Бедро цыпленка-бройлера охл. вес.</td>\n",
       "    </tr>\n",
       "  </tbody>\n",
       "</table>\n",
       "</div>"
      ],
      "text/plain": [
       "       Артикул                       Наименование\n",
       "0  Т0000017607                        Абрикос, кг\n",
       "1    102058684                       Авокадо, вес\n",
       "2  Т0000051246                      Апельсины, кг\n",
       "3  Т0000012233                 Бананы Эквадор, кг\n",
       "4    101988505  Бедро цыпленка-бройлера охл. вес."
      ]
     },
     "execution_count": 11,
     "metadata": {},
     "output_type": "execute_result"
    }
   ],
   "source": [
    "df.head()"
   ]
  },
  {
   "cell_type": "code",
   "execution_count": null,
   "id": "924e8a75",
   "metadata": {},
   "outputs": [],
   "source": [
    "# Сохраняем для тестов\n",
    "#df.to_csv(\"data/products.tsv\", index=False, sep=\"\\t\", encoding=\"utf-8-sig\")"
   ]
  },
  {
   "cell_type": "code",
   "execution_count": 12,
   "id": "9d38ed99",
   "metadata": {},
   "outputs": [],
   "source": [
    "df_test.dropna(subset=[\"test_name\"], inplace=True)"
   ]
  },
  {
   "cell_type": "code",
   "execution_count": 13,
   "id": "9c090690",
   "metadata": {},
   "outputs": [
    {
     "name": "stdout",
     "output_type": "stream",
     "text": [
      "Index([], dtype='object')\n"
     ]
    }
   ],
   "source": [
    "# df_test вывести все не текстовые колонки\n",
    "print(df_test.select_dtypes(exclude=['object']).columns)"
   ]
  },
  {
   "cell_type": "code",
   "execution_count": 14,
   "id": "c69b0b80",
   "metadata": {},
   "outputs": [
    {
     "name": "stdout",
     "output_type": "stream",
     "text": [
      "Артикул      0\n",
      "test_name    0\n",
      "dtype: int64\n",
      "Empty DataFrame\n",
      "Columns: [Артикул, test_name]\n",
      "Index: []\n"
     ]
    }
   ],
   "source": [
    "# df_test пустые колонки\n",
    "print(df_test.isnull().sum())\n",
    "# вывести их\n",
    "print(df_test[df_test.isnull().any(axis=1)])\n"
   ]
  },
  {
   "cell_type": "code",
   "execution_count": 15,
   "id": "2ecd7976",
   "metadata": {},
   "outputs": [
    {
     "data": {
      "text/plain": [
       "Артикул      object\n",
       "test_name    object\n",
       "dtype: object"
      ]
     },
     "execution_count": 15,
     "metadata": {},
     "output_type": "execute_result"
    }
   ],
   "source": [
    "df_test.dtypes"
   ]
  },
  {
   "cell_type": "code",
   "execution_count": 16,
   "id": "e26da1e8",
   "metadata": {},
   "outputs": [
    {
     "name": "stdout",
     "output_type": "stream",
     "text": [
      "Collecting fuzzywuzzy\n",
      "  Downloading fuzzywuzzy-0.18.0-py2.py3-none-any.whl.metadata (4.9 kB)\n",
      "Downloading fuzzywuzzy-0.18.0-py2.py3-none-any.whl (18 kB)\n",
      "Installing collected packages: fuzzywuzzy\n",
      "Successfully installed fuzzywuzzy-0.18.0\n"
     ]
    }
   ],
   "source": [
    "!pip install fuzzywuzzy"
   ]
  },
  {
   "cell_type": "code",
   "execution_count": 17,
   "id": "c51d73e2",
   "metadata": {},
   "outputs": [],
   "source": [
    "import fuzzywuzzy\n",
    "import rapidfuzz\n",
    "import logging\n",
    "import time\n"
   ]
  },
  {
   "cell_type": "code",
   "execution_count": 18,
   "id": "1e58d453",
   "metadata": {},
   "outputs": [],
   "source": [
    "class Timer:\n",
    "    def __enter__(self):\n",
    "        self.start = time.time()\n",
    "        return self  # возвращаем self, чтобы получить доступ к elapsed_time\n",
    "\n",
    "    def __exit__(self, exc_type, exc_val, exc_tb):\n",
    "        self.end = time.time()\n",
    "        self.elapsed = round(self.end - self.start,4)\n",
    "        #print(f\"Cell execution time: {self.elapsed:.4f} seconds\")\n"
   ]
  },
  {
   "cell_type": "code",
   "execution_count": 20,
   "id": "b2d372f6",
   "metadata": {},
   "outputs": [],
   "source": [
    "\n",
    "import fuzzywuzzy.process\n",
    "\n",
    "\n",
    "logging.basicConfig(level=logging.INFO)\n",
    "logger = logging.getLogger(__name__)\n",
    "\n",
    "class BaseMatcher:\n",
    "    def __init__(self, df, threshold=80):\n",
    "        self.df = df\n",
    "        self.threshold = threshold\n",
    "\n",
    "    def find_best_match(self, ocr_name):\n",
    "        raise NotImplementedError(\"This method should be overridden by subclasses\")\n",
    "\n",
    "class FuzzyWuzzySimpleMatcher(BaseMatcher):\n",
    "    def __init__(self, df, threshold=80, **kwargs):\n",
    "        self.df = df\n",
    "        self.threshold = threshold\n",
    "        self.kwargs = kwargs\n",
    "\n",
    "    def find_best_match(self, ocr_name):\n",
    "        choices = self.df['Наименование'].tolist()\n",
    "        result = fuzzywuzzy.process.extractOne(ocr_name, choices,  score_cutoff = self.threshold, **self.kwargs)\n",
    "        if result is None:\n",
    "            logging.warning(f\"No match found for: {ocr_name}\")\n",
    "            return None\n",
    "\n",
    "        match, score = result\n",
    "        idx = choices.index(match)\n",
    "\n",
    "        logging.info(f\"Match: {match}, Score: {score}\")\n",
    "        return self.df.iloc[idx],score\n",
    "\n",
    "class FuzzyRapidSimpleMatcher(BaseMatcher):\n",
    "    def __init__(self, df, threshold=80, **kwargs):\n",
    "        self.df = df\n",
    "        self.threshold = threshold\n",
    "        self.kwargs = kwargs\n",
    "    def find_best_match(self, ocr_name):\n",
    "        choices = self.df['Наименование'].tolist()\n",
    "        result = rapidfuzz.process.extractOne(ocr_name, choices, score_cutoff=self.threshold, **self.kwargs)\n",
    "\n",
    "        if result is None:\n",
    "            logging.warning(f\"No match found for: {ocr_name}\")\n",
    "            return None\n",
    "\n",
    "        match, score, idx = result\n",
    "        logging.info(f\"Match: {match}, Score: {score}\")\n",
    "        return self.df.iloc[idx],score\n",
    "\n",
    "\n",
    "class FuzzyRapidByWordsMatcher(BaseMatcher):\n",
    "    def __init__(self, df, threshold=80, **kwargs):\n",
    "        self.df = df\n",
    "        self.threshold = threshold\n",
    "        self.kwargs = kwargs\n",
    "    \n",
    "    def find_best_match(self, ocr_name):\n",
    "        words = ocr_name.split()\n",
    "        best_match = None\n",
    "        best_score = 0\n",
    "        for index, row in self.df.iterrows():\n",
    "            name = row['Наименование']\n",
    "            score = rapidfuzz.fuzz.token_set_ratio(ocr_name, name)\n",
    "            if score > best_score and score >= self.threshold:\n",
    "                best_score = score\n",
    "                best_match = row\n",
    "\n",
    "        logging.info(f\"Best match for {ocr_name}: {best_match['Наименование']} with score {best_score}\")\n",
    "        if best_score >= self.threshold:\n",
    "            return best_match\n",
    "        return None\n",
    "\n",
    "def match_products(test_df,  matcher):\n",
    "    matcher \n",
    "    matches = []\n",
    "    \n",
    "    for index, row in test_df.iterrows():\n",
    "        ocr_name = row['test_name']\n",
    "        with Timer() as t:\n",
    "            match_result = matcher.find_best_match(ocr_name)\n",
    "        \n",
    "        if match_result is not None:\n",
    "            match, score = match_result\n",
    "            matched = False\n",
    "            if match[\"Артикул\"] == row['Артикул']:\n",
    "                matched = True\n",
    "                logging.info(f\"Match found for {ocr_name}: {match['Наименование']} with Article {match['Артикул']}\")\n",
    "            else:\n",
    "                logging.warning(f\"Match found for {ocr_name} but article does not match: {match['Артикул']} vs {row['Артикул']}\")\n",
    "            \n",
    "            matches.append({\n",
    "                'Test Name': ocr_name,\n",
    "                'Matched Name': match['Наименование'],\n",
    "                'Article': match['Артикул'],\n",
    "                \"Ожидаемый Артикул\": row['Артикул'],\n",
    "                \"matched\": matched,\n",
    "                \"score\": score,\n",
    "                \"elapsed_time\": t.elapsed\n",
    "            })\n",
    "          \n",
    "        else:\n",
    "            matched = False\n",
    "            matches.append({\n",
    "                'Test Name': ocr_name,\n",
    "                'Matched Name': None,\n",
    "                'Article': None,\n",
    "                \"Ожидаемый Артикул\": row['Артикул'],\n",
    "                \"matched\": matched,\n",
    "                \"score\": None,\n",
    "                \"elapsed_time\": t.elapsed\n",
    "            })\n",
    "            logging.warning(f\"No match found for {ocr_name}\")\n",
    "\n",
    "    return pd.DataFrame(matches)"
   ]
  },
  {
   "cell_type": "code",
   "execution_count": 21,
   "id": "e43b58e5",
   "metadata": {},
   "outputs": [],
   "source": [
    "\n",
    "\n",
    "fuzzywuzzy_scorers = [\n",
    "    fuzzywuzzy.fuzz.ratio,    \n",
    "    fuzzywuzzy.fuzz.token_sort_ratio,\n",
    "    fuzzywuzzy.fuzz.token_set_ratio,\n",
    "\n",
    "    fuzzywuzzy.fuzz.partial_ratio,\n",
    "    fuzzywuzzy.fuzz.partial_token_sort_ratio,\n",
    "    fuzzywuzzy.fuzz.partial_token_set_ratio,\n",
    "\n",
    "    fuzzywuzzy.fuzz.WRatio,\n",
    "    fuzzywuzzy.fuzz.QRatio,\n",
    "#    rapidfuzz.fuzz.partial_ratio_alignment # Будет ошибка\n",
    "    \n",
    "]"
   ]
  },
  {
   "cell_type": "code",
   "execution_count": 22,
   "id": "1a36223b",
   "metadata": {},
   "outputs": [
    {
     "name": "stderr",
     "output_type": "stream",
     "text": [
      "INFO:root:Match: Бульмени со свининой и говядиной п/п 700г., Score: 68\n"
     ]
    },
    {
     "name": "stdout",
     "output_type": "stream",
     "text": [
      "Match: (Артикул                                          102718021\n",
      "Наименование    Бульмени со свининой и говядиной п/п 700г.\n",
      "Name: 6, dtype: object, 68),\n"
     ]
    }
   ],
   "source": [
    "matcher = FuzzyWuzzySimpleMatcher(df, threshold=20)\n",
    "match = matcher.find_best_match(\"Пельмени\")\n",
    "print(f\"Match: {match},\")"
   ]
  },
  {
   "cell_type": "code",
   "execution_count": 51,
   "id": "f9fc8b0c",
   "metadata": {},
   "outputs": [
    {
     "name": "stdout",
     "output_type": "stream",
     "text": [
      "Using scorer: ratio\n",
      "Accuracy: 78.67%\n",
      "Using scorer: token_sort_ratio\n",
      "Accuracy: 74.67%\n",
      "Using scorer: token_set_ratio\n",
      "Accuracy: 89.33%\n",
      "Using scorer: partial_ratio\n",
      "Accuracy: 68.00%\n",
      "Using scorer: partial_token_sort_ratio\n",
      "Accuracy: 73.33%\n",
      "Using scorer: partial_token_set_ratio\n",
      "Accuracy: 28.00%\n",
      "Using scorer: WRatio\n",
      "Accuracy: 49.33%\n",
      "Using scorer: QRatio\n",
      "Accuracy: 78.67%\n"
     ]
    }
   ],
   "source": [
    "logging.disable(logging.CRITICAL + 1)\n",
    "\n",
    "for scorer  in fuzzywuzzy_scorers:\n",
    "    print(f\"Using scorer: {scorer.__name__}\")\n",
    "    matcher = FuzzyWuzzySimpleMatcher(df, threshold=40, scorer=scorer)\n",
    "    #match = matcher.find_best_match(\"Пельмени\")\n",
    "    #print(f\"Match: {match},\")\n",
    "    \n",
    "    result_df = match_products(df_test, matcher)\n",
    "    # result_df посчитать accuracy по колонке matched\n",
    "    accuracy = result_df['matched'].mean() * 100\n",
    "    print(f\"Accuracy: {accuracy:.2f}%\")\n",
    "    result_df.to_excel(f\"data/Результаты мэтчинга_fuzzwuzzy_{scorer.__name__}_{accuracy:.2f}.xlsx\", index=False)\n"
   ]
  },
  {
   "cell_type": "code",
   "execution_count": 227,
   "id": "19afc783",
   "metadata": {},
   "outputs": [],
   "source": [
    "rapidfuzz_scorers = [\n",
    "    rapidfuzz.fuzz.ratio,    \n",
    "    rapidfuzz.fuzz.token_sort_ratio,\n",
    "    rapidfuzz.fuzz.token_set_ratio,\n",
    "\n",
    "    rapidfuzz.fuzz.partial_ratio,\n",
    "    rapidfuzz.fuzz.partial_token_sort_ratio,\n",
    "    rapidfuzz.fuzz.partial_token_set_ratio,\n",
    "\n",
    "    rapidfuzz.fuzz.WRatio,\n",
    "    rapidfuzz.fuzz.QRatio,\n",
    "#    rapidfuzz.fuzz.partial_ratio_alignment # Будет ошибка\n",
    "    \n",
    "]"
   ]
  },
  {
   "cell_type": "code",
   "execution_count": null,
   "id": "e47cf30a",
   "metadata": {},
   "outputs": [
    {
     "name": "stdout",
     "output_type": "stream",
     "text": [
      "Using scorer: QRatio\n",
      "Accuracy: 69.33%\n",
      "Using scorer: QRatio\n",
      "Accuracy: 62.67%\n",
      "Using scorer: QRatio\n",
      "Accuracy: 72.00%\n",
      "Using scorer: QRatio\n",
      "Accuracy: 65.33%\n",
      "Using scorer: QRatio\n",
      "Accuracy: 69.33%\n",
      "Using scorer: QRatio\n",
      "Accuracy: 42.67%\n",
      "Using scorer: QRatio\n",
      "Accuracy: 58.67%\n",
      "Using scorer: QRatio\n",
      "Accuracy: 69.33%\n"
     ]
    }
   ],
   "source": [
    "logging.disable(logging.CRITICAL + 1)\n",
    "\n",
    "for scorer in rapidfuzz_scorers:\n",
    "    print(f\"Using scorer: {scorer.__name__}\")\n",
    "    matcher = FuzzyRapidSimpleMatcher(df, threshold=40, scorer=scorer)\n",
    "    #match = matcher.find_best_match(\"Пельмени\")\n",
    "    #print(f\"Match: {match},\")\n",
    "    \n",
    "    result_df = match_products(df_test, matcher)\n",
    "    # result_df посчитать accuracy по колонке matched\n",
    "    accuracy = result_df['matched'].mean() * 100\n",
    "    print(f\"Accuracy: {accuracy:.2f}%\")\n",
    "    result_df.to_excel(f\"data/Результаты мэтчинга_rapidfuzz_{scorer.__name__}_{accuracy:.2f}.xlsx\", index=False)\n"
   ]
  },
  {
   "cell_type": "markdown",
   "id": "91829879",
   "metadata": {},
   "source": [
    "# Тестируем через api"
   ]
  },
  {
   "cell_type": "code",
   "execution_count": 23,
   "id": "3f40db67",
   "metadata": {},
   "outputs": [],
   "source": [
    "import requests\n",
    "import json\n",
    "\n",
    "# Конфигурация\n",
    "BASE_URL = \"http://matching-api:3000\"  # Замените на ваш URL\n",
    "ENDPOINT = \"/api/matching\"\n",
    "\n",
    "def test_matching_service(query, threshold=80):\n",
    "    \"\"\"\n",
    "    Отправляет запрос к сервису matching\n",
    "    \n",
    "    Args:\n",
    "        query (str): Поисковый запрос\n",
    "        threshold (int): Порог совпадения (по умолчанию 80)\n",
    "    \n",
    "    Returns:\n",
    "        dict: Ответ от сервера\n",
    "    \"\"\"\n",
    "    url = f\"{BASE_URL}{ENDPOINT}\"\n",
    "    \n",
    "    payload = {\n",
    "        \"query\": query,\n",
    "        \"threshold\": threshold\n",
    "    }\n",
    "    \n",
    "    headers = {\n",
    "        \"Content-Type\": \"application/json\"\n",
    "    }\n",
    "    \n",
    "    try:\n",
    "        response = requests.post(url, json=payload, headers=headers)\n",
    "        \n",
    "        # Проверяем статус ответа\n",
    "        if response.status_code == 200:\n",
    "            return {\n",
    "                \"success\": True,\n",
    "                \"data\": response.json()\n",
    "            }\n",
    "        else:\n",
    "            return {\n",
    "                \"success\": False,\n",
    "                \"status_code\": response.status_code,\n",
    "                \"error\": response.json() if response.content else \"Нет содержимого\"\n",
    "            }\n",
    "            \n",
    "    except requests.exceptions.RequestException as e:\n",
    "        return {\n",
    "            \"success\": False,\n",
    "            \"error\": f\"Ошибка соединения: {str(e)}\"\n",
    "        }\n"
   ]
  },
  {
   "cell_type": "code",
   "execution_count": 53,
   "id": "8a97adbf",
   "metadata": {},
   "outputs": [
    {
     "data": {
      "text/plain": [
       "{'success': True,\n",
       " 'data': {'query': 'Капуста белокочанная 1кг.',\n",
       "  'result': {'sku': '100329137', 'description': 'Капуста, кг'},\n",
       "  'score': 82,\n",
       "  'found': True}}"
      ]
     },
     "execution_count": 53,
     "metadata": {},
     "output_type": "execute_result"
    }
   ],
   "source": [
    "test_matching_service(\"Капуста белокочанная 1кг.\", 20)"
   ]
  },
  {
   "cell_type": "code",
   "execution_count": 44,
   "id": "78303508",
   "metadata": {},
   "outputs": [],
   "source": [
    "# Создать отдельрный матчер для rest api\n",
    "class RestApiMatcher(BaseMatcher):\n",
    "    def __init__(self, base_url, endpoint, threshold=80):\n",
    "        self.base_url = base_url\n",
    "        self.endpoint = endpoint\n",
    "        self.threshold = threshold\n",
    "\n",
    "    def find_best_match(self, ocr_name):\n",
    "        response = test_matching_service(ocr_name, self.threshold)\n",
    "        \n",
    "        if not response['success']:\n",
    "            logging.error(f\"Error in API response: {response['error']}\")\n",
    "            return None\n",
    "        \n",
    "        data = response['data']\n",
    "        \n",
    "        if not data:\n",
    "            logging.warning(f\"No match found for: {ocr_name}\")\n",
    "            return None\n",
    "        \n",
    "        match = data.get(\"result\")  # Предполагаем, что первый элемент - лучший матч\n",
    "        score = data.get('score')\n",
    "        \n",
    "        logging.info(f\"Match: {match['description']}, Score: {score}\")\n",
    "        return match, score"
   ]
  },
  {
   "cell_type": "code",
   "execution_count": 54,
   "id": "1c81aaf1",
   "metadata": {},
   "outputs": [
    {
     "name": "stderr",
     "output_type": "stream",
     "text": [
      "INFO:root:Match: Капуста, кг, Score: 82\n"
     ]
    },
    {
     "data": {
      "text/plain": [
       "({'sku': '100329137', 'description': 'Капуста, кг'}, 82)"
      ]
     },
     "execution_count": 54,
     "metadata": {},
     "output_type": "execute_result"
    }
   ],
   "source": [
    "matcher = RestApiMatcher(BASE_URL, ENDPOINT, threshold=20)\n",
    "\n",
    "matcher.find_best_match(\"Капуста белокочанная 1кг.\")\n"
   ]
  },
  {
   "cell_type": "code",
   "execution_count": 55,
   "id": "205f2f6f",
   "metadata": {},
   "outputs": [],
   "source": [
    "def match_products(test_df,  matcher):\n",
    "    matcher \n",
    "    matches = []\n",
    "    \n",
    "    for index, row in test_df.iterrows():\n",
    "        ocr_name = row['test_name']\n",
    "        with Timer() as t:\n",
    "            match_result = matcher.find_best_match(ocr_name)\n",
    "        \n",
    "        if match_result is not None:\n",
    "            match, score = match_result\n",
    "            matched = False\n",
    "            if match[\"sku\"] == row['Артикул']:\n",
    "                matched = True\n",
    "                logging.info(f\"Match found for {ocr_name}: {match['description']} with Article {match['sku']}\")\n",
    "            else:\n",
    "                logging.warning(f\"Match found for {ocr_name} but article does not match: {match['sku']} vs {row['Артикул']}\")\n",
    "            \n",
    "            matches.append({\n",
    "                'Test Name': ocr_name,\n",
    "                'Matched Name': match['description'],\n",
    "                'Article': match['sku'],\n",
    "                \"Ожидаемый Артикул\": row['Артикул'],\n",
    "                \"matched\": matched,\n",
    "                \"score\": score,\n",
    "                \"elapsed_time\": t.elapsed\n",
    "            })\n",
    "          \n",
    "        else:\n",
    "            matched = False\n",
    "            matches.append({\n",
    "                'Test Name': ocr_name,\n",
    "                'Matched Name': None,\n",
    "                'Article': None,\n",
    "                \"Ожидаемый Артикул\": row['Артикул'],\n",
    "                \"matched\": matched,\n",
    "                \"score\": None,\n",
    "                \"elapsed_time\": t.elapsed\n",
    "            })\n",
    "            logging.warning(f\"No match found for {ocr_name}\")\n",
    "\n",
    "    return pd.DataFrame(matches)"
   ]
  },
  {
   "cell_type": "code",
   "execution_count": 56,
   "id": "b950ba13",
   "metadata": {},
   "outputs": [
    {
     "name": "stderr",
     "output_type": "stream",
     "text": [
      "INFO:root:Match: Абрикос, кг, Score: 64\n",
      "INFO:root:Match found for Абрикосы 1кг: Абрикос, кг with Article Т0000017607\n",
      "INFO:root:Match: Авокадо, вес, Score: 78\n",
      "WARNING:root:Match found for Авокадо 100г but article does not match: 102058684 vs 102058684\n"
     ]
    },
    {
     "name": "stderr",
     "output_type": "stream",
     "text": [
      "INFO:root:Match: Апельсины, кг, Score: 96\n",
      "INFO:root:Match found for Апельсины 1кг: Апельсины, кг with Article Т0000051246\n",
      "INFO:root:Match: Бананы Эквадор, кг, Score: 52\n",
      "INFO:root:Match found for Бананы фасованные 1кг КРАСНАЯ ЦЕНА: Бананы Эквадор, кг with Article Т0000012233\n",
      "INFO:root:Match: Батон Молочный нарезка п/п 330г. СМАК, Score: 83\n",
      "WARNING:root:Match found for Батон СМАК 330г молочный классика нар. but article does not match: 101516495 vs 101516495\n",
      "INFO:root:Match: Бедро цыпленка-бройлера охл. вес., Score: 60\n",
      "WARNING:root:Match found for Бедро куриное 1кг охл. but article does not match: 101988505 vs 101988505\n",
      "INFO:root:Match: Бигбули с мясом п/п 700г., Score: 95\n",
      "WARNING:root:Match found for Пельмени Горячая Штучка 700г Бигбули с мясом but article does not match: 102750110 vs 102750110\n",
      "INFO:root:Match: Бульмени со свининой и говядиной п/п 700г., Score: 93\n",
      "WARNING:root:Match found for Пельмени Горячая Штучка 700г Бульмени с говядиной и свининой but article does not match: 102718021 vs 102718021\n",
      "INFO:root:Match: Виноград киш-миш белый, кг, Score: 81\n",
      "INFO:root:Match found for Виноград 1кг БЕЛЫЙ б/к: Виноград киш-миш белый, кг with Article Т0000096483\n",
      "INFO:root:Match: Голень цыпленка-бройлера охл. вес., Score: 63\n",
      "WARNING:root:Match found for Голень куриная 1кг охл. but article does not match: 101988513 vs 101988513\n",
      "INFO:root:Match: Грибы шампиньоны конт. 250г., Score: 89\n",
      "INFO:root:Match found for Грибы шампиньоны 250г GLOBAL VILLAGE: Грибы шампиньоны конт. 250г. with Article Т0000087121\n",
      "INFO:root:Match: Грибы шампиньоны конт. 400г., Score: 89\n",
      "INFO:root:Match found for Грибы шампиньоны 400г GLOBAL VILLAGE: Грибы шампиньоны конт. 400г. with Article Т0000130272\n",
      "INFO:root:Match: Груша Конференция, кг, Score: 98\n",
      "INFO:root:Match found for Груша конференция 1кг: Груша Конференция, кг with Article Т0000018383\n",
      "INFO:root:Match: Капуста, кг, Score: 82\n",
      "WARNING:root:Match found for Капуста белокочанная 1кг but article does not match: 100329137 vs 100329137\n",
      "INFO:root:Match: Картофель Отборный, кг, Score: 78\n",
      "INFO:root:Match found for Картофель ранний 1кг: Картофель Отборный, кг with Article Т0000145936\n",
      "INFO:root:Match: Картофель Отборный, кг, Score: 75\n",
      "WARNING:root:Match found for Картофель отечественный 1кг but article does not match: Т0000145936 vs Т0000102849\n",
      "INFO:root:Match: Киви, кг, Score: 93\n",
      "INFO:root:Match found for Киви 1кг: Киви, кг with Article Т0000016549\n",
      "INFO:root:Match: Колбаса вареная Докторская ГОСТ в/с 350г. ИП Черкашин, Score: 100\n",
      "INFO:root:Match found for Колбаса Черкашин 350г докторская вареная: Колбаса вареная Докторская ГОСТ в/с 350г. ИП Черкашин with Article Т0000142541\n",
      "INFO:root:Match: Колбаса вареная Молочная 1с 350г. ИП Черкашин, Score: 100\n",
      "INFO:root:Match found for Колбаса Черкашин 350г молочная вареная: Колбаса вареная Молочная 1с 350г. ИП Черкашин with Article Т0000142542\n",
      "INFO:root:Match: Круггетсы с сырным соусом 250г. Горячая штучка, Score: 88\n",
      "WARNING:root:Match found for Круггется Горячая штучка 250г с сырным соусом из мяса птицы 1с but article does not match: 101558821 vs 101558821\n",
      "INFO:root:Match: Крупа гречневая прозрачная пл. 800г. PL, Score: 85\n",
      "INFO:root:Match found for Крупа гречневая ядрица 800г: Крупа гречневая прозрачная пл. 800г. PL with Article Т0000127875\n",
      "INFO:root:Match: Кукуруза сладкая в початках 2шт., Score: 56\n",
      "WARNING:root:Match found for Кукуруза сахарная вареная 2шт Global Village but article does not match: 102105487 vs 102105487\n",
      "INFO:root:Match: Лимон, кг, Score: 89\n",
      "INFO:root:Match found for Лимоны 1кг: Лимон, кг with Article Т0000082621\n",
      "INFO:root:Match: Лук зеленый 100г., Score: 81\n",
      "INFO:root:Match found for Зелень лук зеленый 50г в упаковке: Лук зеленый 100г. with Article Т0000035614\n",
      "INFO:root:Match: Лук красный, кг, Score: 97\n",
      "INFO:root:Match found for Лук красный 1кг: Лук красный, кг with Article Т0000011959\n",
      "INFO:root:Match: Лук репчатый, кг, Score: 97\n",
      "INFO:root:Match found for Лук репчатый 1кг: Лук репчатый, кг with Article Т0000028395\n",
      "INFO:root:Match: Майонез Провансаль 67% п/у 800мл. Слобода, Score: 89\n",
      "WARNING:root:Match found for Майонез провансаль 250г 67% but article does not match: Т0000127819 vs Т0000010985\n",
      "INFO:root:Match: Макаронные изделия Рожки гр.В 400г. PL, Score: 91\n",
      "INFO:root:Match found for Изделия макаронные 400г Красная Цена рожки в/с грВ: Макаронные изделия Рожки гр.В 400г. PL with Article Т0000144901\n",
      "INFO:root:Match: Манго, вес, Score: 71\n",
      "WARNING:root:Match found for Манго 100г желтое but article does not match: 102111262 vs 102111262\n",
      "INFO:root:Match: Мандарин, кг, Score: 92\n",
      "INFO:root:Match found for Мандарины 1кг: Мандарин, кг with Article Т0000028079\n",
      "INFO:root:Match: Масло подсолнечное Олейна рафинированное дезодорированное п/б 1л., Score: 81\n",
      "INFO:root:Match found for Масло Олейна подсолнечное 1л рафинир. дезодор.1с: Масло подсолнечное Олейна рафинированное дезодорированное п/б 1л. with Article Т0000003779\n",
      "INFO:root:Match: Масло подсолнечное рафинированное п/б 0,87-0,9л., Score: 92\n",
      "INFO:root:Match found for Масло Красная Цена 0,9л подсолнечное рафинированное: Масло подсолнечное рафинированное п/б 0,87-0,9л. with Article Т0000128403\n",
      "INFO:root:Match: МИНТАЙ ПЕРВАЯ ЦЕНА 25+ б/г с/м глаз., Score: 58\n",
      "INFO:root:Match found for Минтай Красная Цена 1 кг н/потр.б/головы средний зам.: МИНТАЙ ПЕРВАЯ ЦЕНА 25+ б/г с/м глаз. with Article Т0000144741\n",
      "INFO:root:Match: МОЙВА с/м 500г., Score: 55\n",
      "WARNING:root:Match found for Мойва BOREALIS 700г неразд.зам. but article does not match: 101650782 vs 101650782\n",
      "INFO:root:Match: Морковь мытая, кг, Score: 90\n",
      "INFO:root:Match found for Морковь мытая 1уп: Морковь мытая, кг with Article Т0000080854\n",
      "INFO:root:Match: Мороженое пломбир крем-брюле в шоколадно-сливочной глазури ф/п 90г. Коровка из Кореновки БЗМЖ, Score: 72\n",
      "WARNING:root:Match found for Морож. крем-брюле пломб 100г коровка из кореновки ваф/ст but article does not match: 101698612 vs 101317568\n",
      "INFO:root:Match: Мука пшеничная ГОСТ Правильное решение в/с бум/уп 2кг. PL, Score: 100\n",
      "INFO:root:Match found for Мука пшеничная 2кг: Мука пшеничная ГОСТ Правильное решение в/с бум/уп 2кг. PL with Article Т0000125948\n",
      "INFO:root:Match: Наггетсы Вязанка из печи 0,25, Score: 91\n",
      "WARNING:root:Match found for Наггетсы Вязанка из печи 250г из мяса птицы зам. but article does not match: 102291259 vs 102291259\n",
      "INFO:root:Match: Наггетсы Вязанка с индейкой 0,25, Score: 92\n",
      "WARNING:root:Match found for Наггетсы Вязанка 250г с индейкой зам. but article does not match: 102336728 vs 102336728\n",
      "INFO:root:Match: Наггетсы Вязанка с куриным филе и сыром 250г., Score: 100\n",
      "WARNING:root:Match found for Наггетсы Вязанка 250г с куриным филе и сыром but article does not match: 102718056 vs 102718056\n",
      "INFO:root:Match: Нектарин, кг, Score: 92\n",
      "INFO:root:Match found for Нектарины 1кг: Нектарин, кг with Article Т0000020461\n",
      "INFO:root:Match: Огурцы короткоплодные 450г., Score: 68\n",
      "WARNING:root:Match found for Огурцы 1кг среднеплодные but article does not match: 100995017 vs Т0000102959\n",
      "INFO:root:Match: Огурцы короткоплодные 450г., Score: 100\n",
      "WARNING:root:Match found for Огурцы люкс короткоплодные 450г global village but article does not match: 100995017 vs 100995017\n",
      "INFO:root:Match: Рис круглозерный шлифованный п/п 800г. PL, Score: 52\n",
      "WARNING:root:Match found for Окунь мороженый FISH HOUSE 800г разделанный but article does not match: Т0000097655 vs Т0000017015\n",
      "INFO:root:Match: Перец красный, кг, Score: 90\n",
      "INFO:root:Match found for Перец красный сладкий 100г: Перец красный, кг with Article Т0000032707\n",
      "INFO:root:Match: Рис длиннозерный шлифованный п/п 800г. PL, Score: 88\n",
      "INFO:root:Match found for Крупа рис длиннозерный 800г: Рис длиннозерный шлифованный п/п 800г. PL with Article Т0000118616\n",
      "INFO:root:Match: Рис круглозерный шлифованный п/п 800г. PL, Score: 100\n",
      "INFO:root:Match found for Рис круглозерный 800г: Рис круглозерный шлифованный п/п 800г. PL with Article Т0000097655\n",
      "INFO:root:Match: Сахар песок п/п 5кг., Score: 94\n",
      "WARNING:root:Match found for Сахар-песок/Сахар белый 5кг but article does not match: 101934671 vs 101934671\n",
      "INFO:root:Match: Сахар Рафинад 1кг., Score: 69\n",
      "WARNING:root:Match found for Сахар 1кг кат.Экстра but article does not match: Т0000137180 vs Т0000127016\n",
      "INFO:root:Match: Сахар Рафинад 1кг., Score: 69\n",
      "INFO:root:Match found for Сахар прессованный 1кг сахар белый кусковой: Сахар Рафинад 1кг. with Article Т0000137180\n",
      "INFO:root:Match: Сахар Рафинад 500г., Score: 100\n",
      "INFO:root:Match found for Сахар русский рафинад 500г пресованный: Сахар Рафинад 500г. with Article Т0000029372\n",
      "INFO:root:Match: Свекла, кг, Score: 95\n",
      "INFO:root:Match found for Свекла 1кг: Свекла, кг with Article Т0000030602\n",
      "INFO:root:Match: СКУМБРИЯ с/м глазир., Score: 59\n",
      "INFO:root:Match found for Скумбрия fish house 1кг морожен фас.: СКУМБРИЯ с/м глазир. with Article Т0000014752\n",
      "INFO:root:Match: Слива отборная, кг., Score: 63\n",
      "INFO:root:Match found for Слива 1кг темная круглая: Слива отборная, кг. with Article Т0000022320\n",
      "INFO:root:Match: Сосиски Молочные в/у 285г. ИП Черкашин, Score: 100\n",
      "INFO:root:Match found for Сосиски Черкашин Молочные 285г в/у: Сосиски Молочные в/у 285г. ИП Черкашин with Article Т0000141688\n",
      "INFO:root:Match: Сыр Голландский 45% вес. БЗМЖ, Score: 71\n",
      "WARNING:root:Match found for Сыр Красная Цена 100г голландский фасованный but article does not match: 101131991 vs 101131991\n",
      "INFO:root:Match: Сахар Рафинад Русский 500г., Score: 60\n",
      "WARNING:root:Match found for Сыр Красная Цена 100г российсикий фас. but article does not match: 100035260 vs 101919008\n",
      "INFO:root:Match: Тесто слоеное дрожжевое по-домашнему пластовое 500г. PL, Score: 86\n",
      "WARNING:root:Match found for Тесто Restoria 500г слоеное дрожжевое but article does not match: 101875818 vs 101875818\n",
      "INFO:root:Match: Томаты сливовидные Flamenco 450г., Score: 84\n",
      "WARNING:root:Match found for Томаты Фламенко 450г сливовидные красные but article does not match: 102058887 vs 102058887\n",
      "INFO:root:Match: Томаты сливовидные Flamenco, кг, Score: 75\n",
      "INFO:root:Match found for Томаты Фламенко 1кг сливовидные: Томаты сливовидные Flamenco, кг with Article Т0000040999\n",
      "INFO:root:Match: Томаты тепличные, кг, Score: 91\n",
      "WARNING:root:Match found for Томаты черри красные 250г global village тепличные but article does not match: Т0000101359 vs Т0000016814\n",
      "INFO:root:Match: Тушка цыпленка-бройлера 1 сорт потрошеная охл. вес., Score: 73\n",
      "WARNING:root:Match found for Тушка цып-бройлера рестория 1кг 1сорт охл but article does not match: 101977582 vs 101977582\n",
      "INFO:root:Match: Филе цыпленка-бройлера охл. вес., Score: 57\n",
      "WARNING:root:Match found for Филе куриное охл. 1кг but article does not match: 102003499 vs 102003499\n",
      "INFO:root:Match: Горбуша неразделанная с/м глазир., Score: 51\n",
      "WARNING:root:Match found for Форель ВКУС АРТ 1кг радужная неразд. but article does not match: Т0000136590 vs 102600189\n",
      "INFO:root:Match: Хлеб Селянский п/п 500г. Тагилхлеб, Score: 81\n",
      "WARNING:root:Match found for Хлеб Селянский формовой 500г but article does not match: 102562098 vs 102562098\n",
      "INFO:root:Match: Хотстеры Горячая штучка 0,25, Score: 90\n",
      "WARNING:root:Match found for Хотстеры горячая штучка 250г зам. but article does not match: 101307298 vs 101307298\n",
      "INFO:root:Match: Чебупели сочные с мясом Горячая штучка 0,3, Score: 95\n",
      "WARNING:root:Match found for Чебупели Горячая Штучка 240г сочные с мясом зам. but article does not match: 100645316 vs 100645316\n",
      "INFO:root:Match: Чебупицца Курочка по-Итальянски 0,25, Score: 93\n",
      "WARNING:root:Match found for Изделия Горячая Штучка 250г чебупицца курочка по-итальянски but article does not match: 102249587 vs 102249587\n",
      "INFO:root:Match: Чебупицца Пепперони Горячая штучка 0,25, Score: 95\n",
      "WARNING:root:Match found for Чебупицца пепперони 250г Горячая Штучка but article does not match: 101307280 vs 101307280\n",
      "INFO:root:Match: Чеснок фас. 1 уп., Score: 57\n",
      "WARNING:root:Match found for Чеснок фасованный 1уп global village but article does not match: 100448152 vs 100448152\n",
      "INFO:root:Match: Яблоки Голден, кг, Score: 97\n",
      "INFO:root:Match found for Яблоки голден 1кг: Яблоки Голден, кг with Article Т0000083823\n",
      "INFO:root:Match: Яблоко Зеленое (Гренни смит), кг, Score: 78\n",
      "INFO:root:Match found for Яблоки гренни смит 1кг: Яблоко Зеленое (Гренни смит), кг with Article Т0000035073\n",
      "INFO:root:Match: Яблоко Красное, кг, Score: 97\n",
      "INFO:root:Match found for Яблоко красное 1кг: Яблоко Красное, кг with Article Т0000012391\n",
      "INFO:root:Match: Яблоко Сезонное, кг, Score: 91\n",
      "INFO:root:Match found for Яблоко сезонное фасованное 1кг: Яблоко Сезонное, кг with Article Т0000028211\n",
      "INFO:root:Match: Яйцо куриное С1 10шт., Score: 58\n",
      "WARNING:root:Match found for Яйца выручай 10шт куриные пищевые столовые С1 but article does not match: 102685178 vs Т0000072176\n"
     ]
    }
   ],
   "source": [
    "result_df = match_products(df_test, matcher)"
   ]
  },
  {
   "cell_type": "code",
   "execution_count": 57,
   "id": "a95e252b",
   "metadata": {},
   "outputs": [
    {
     "name": "stdout",
     "output_type": "stream",
     "text": [
      "Accuracy: 50.67%\n"
     ]
    }
   ],
   "source": [
    "accuracy = result_df['matched'].mean() * 100\n",
    "print(f\"Accuracy: {accuracy:.2f}%\")\n",
    "result_df.to_excel(f\"data/Результаты мэтчинга_rest_api_{accuracy:.2f}.xlsx\", index=False)\n"
   ]
  }
 ],
 "metadata": {
  "kernelspec": {
   "display_name": "base",
   "language": "python",
   "name": "python3"
  },
  "language_info": {
   "codemirror_mode": {
    "name": "ipython",
    "version": 3
   },
   "file_extension": ".py",
   "mimetype": "text/x-python",
   "name": "python",
   "nbconvert_exporter": "python",
   "pygments_lexer": "ipython3",
   "version": "3.11.6"
  }
 },
 "nbformat": 4,
 "nbformat_minor": 5
}
