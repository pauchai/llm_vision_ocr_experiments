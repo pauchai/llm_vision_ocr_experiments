{
 "cells": [
  {
   "cell_type": "code",
   "execution_count": null,
   "id": "874eac2b",
   "metadata": {},
   "outputs": [],
   "source": []
  },
  {
   "cell_type": "code",
   "execution_count": null,
   "id": "82a38021",
   "metadata": {},
   "outputs": [],
   "source": [
    "from rapidfuzz import process, fuzz\n",
    "\n",
    "class PhraseCorrector:\n",
    "    def __init__(self, words_file=\"words.csv\"):\n",
    "        with open(words_file, \"r\", encoding=\"utf-8\") as f:\n",
    "            self.reference_words = [line.strip() for line in f]\n",
    "\n",
    "\n",
    "\n",
    "\n",
    "\n",
    "    def correct_words_in_text(self,text, score_cutoff=70, min_len = 5):\n",
    "        corrected_lines = []\n",
    "        for line in text.strip().split('\\n'):\n",
    "            corrected_words = []\n",
    "            for word in line.upper().replace(\"Ё\", \"Е\").split():\n",
    "                if len(word) < min_len:\n",
    "                    corrected_words.append(word)\n",
    "                    continue\n",
    "                # Ищем наиболее близкое слово из словаря\n",
    "                match = process.extractOne(word, self.reference_words, scorer=fuzz.ratio, score_cutoff=score_cutoff)\n",
    "                #print(match)\n",
    "                corrected_word = match[0] if match else word\n",
    "                corrected_words.append(corrected_word)\n",
    "            corrected_lines.append(' '.join(corrected_words))\n",
    "        return '\\n'.join(corrected_lines)"
   ]
  },
  {
   "cell_type": "code",
   "execution_count": 8,
   "id": "cf0b4d01",
   "metadata": {},
   "outputs": [],
   "source": [
    "phrase_corrector = PhraseCorrector()"
   ]
  },
  {
   "cell_type": "code",
   "execution_count": null,
   "id": "eef2e996",
   "metadata": {},
   "outputs": [],
   "source": []
  },
  {
   "cell_type": "code",
   "execution_count": 9,
   "id": "4f099bb0",
   "metadata": {},
   "outputs": [
    {
     "name": "stdout",
     "output_type": "stream",
     "text": [
      "ПЮРЕ ФРУТОНЯНЯ\n",
      "ЦЫПЛЕНОК 80Г\n",
      "МЯСНОЕ ИЗДЕЛИЯ ДЛЯ ДЕТСКОГО ПИТАНИЯ\n"
     ]
    }
   ],
   "source": [
    "to_be_corrected = '''\n",
    "Пюре Фрутонята\n",
    "Цыпленок 80г\n",
    "Мясое изделие для детского питания\n",
    "'''\n",
    "\n",
    "\n",
    "corrected_text = phrase_corrector.correct_words_in_text(to_be_corrected)\n",
    "print(corrected_text)"
   ]
  },
  {
   "cell_type": "code",
   "execution_count": 11,
   "id": "38f5d3f5",
   "metadata": {},
   "outputs": [
    {
     "name": "stdout",
     "output_type": "stream",
     "text": [
      "ПЮРЕ ФРУТОНЯНЯ\n",
      "ЦЫПЛЕНОК 80000Г\n",
      "МЯСНОЕ ДЛЯ ДЕТСКОГО ПИТАНИЯ\n"
     ]
    }
   ],
   "source": [
    "to_be_corrected = '''\n",
    "Пюре фруктоня\n",
    "цыбленок 80000г\n",
    "мясное для детского питания\n",
    "'''\n",
    "\n",
    "corrected_text = phrase_corrector.correct_words_in_text(to_be_corrected)\n",
    "print(corrected_text)"
   ]
  },
  {
   "cell_type": "code",
   "execution_count": 12,
   "id": "843f16f2",
   "metadata": {},
   "outputs": [
    {
     "name": "stdout",
     "output_type": "stream",
     "text": [
      "БАЛЬЗАМ ШАУМ 7\n",
      "ТРАВ 300МЛ\n",
      "ДЛЯ НОРМАЛЬНЫХ И ЖИРНЫХ ВОЛОС\n"
     ]
    }
   ],
   "source": [
    "to_be_corrected = '''\n",
    "бальзам ШАУМ 7\n",
    "ТРАВ 300мл \n",
    "для нормальных и жирных волос\n",
    "'''\n",
    "\n",
    "corrected_text = phrase_corrector.correct_words_in_text(to_be_corrected)\n",
    "print(corrected_text)"
   ]
  },
  {
   "cell_type": "code",
   "execution_count": 13,
   "id": "f3dc1514",
   "metadata": {},
   "outputs": [
    {
     "name": "stdout",
     "output_type": "stream",
     "text": [
      "БАЛЬЗАМ ШАУМА 7\n",
      "ТРАВ 300МЛ\n",
      "ДЛЯ НОРМАЛЬНЫХ И ЖИРНЫХ ВОЛОС\n"
     ]
    }
   ],
   "source": [
    "to_be_corrected = '''\n",
    "Балъзам ШАУМА 7\n",
    "ТРАВ 300мл\n",
    "для нормальных и жирных волос\n",
    "'''\n",
    "\n",
    "corrected_text = phrase_corrector.correct_words_in_text(to_be_corrected)\n",
    "print(corrected_text)"
   ]
  },
  {
   "cell_type": "code",
   "execution_count": 15,
   "id": "db781969",
   "metadata": {},
   "outputs": [
    {
     "name": "stdout",
     "output_type": "stream",
     "text": [
      "ТЮТЮНОК ЗАНДУКЕЛИ\n",
      "500 МГ\n"
     ]
    }
   ],
   "source": [
    "\n",
    "to_be_corrected = '''\n",
    "Тютюнок Занукелия\n",
    "500 мг\n",
    "'''\n",
    "\n",
    "corrected_text = phrase_corrector.correct_words_in_text(to_be_corrected)\n",
    "print(corrected_text)"
   ]
  }
 ],
 "metadata": {
  "kernelspec": {
   "display_name": "base",
   "language": "python",
   "name": "python3"
  },
  "language_info": {
   "codemirror_mode": {
    "name": "ipython",
    "version": 3
   },
   "file_extension": ".py",
   "mimetype": "text/x-python",
   "name": "python",
   "nbconvert_exporter": "python",
   "pygments_lexer": "ipython3",
   "version": "3.11.6"
  }
 },
 "nbformat": 4,
 "nbformat_minor": 5
}
