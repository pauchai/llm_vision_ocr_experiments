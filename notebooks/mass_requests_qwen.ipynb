{
 "cells": [
  {
   "cell_type": "code",
   "execution_count": 15,
   "id": "92951c1c",
   "metadata": {},
   "outputs": [],
   "source": [
    "from gradio_client import Client, handle_file   \n",
    "# импорт contenxtmanager\n",
    "from contextlib import contextmanager\n",
    "import time\n",
    "import os\n",
    "from pydantic import BaseModel, Field\n",
    "import csv\n",
    "from rapidfuzz import process, fuzz\n",
    "import re\n",
    "\n",
    "from tqdm import tqdm\n",
    "from matplotlib import pyplot as plt\n",
    "import matplotlib.image as mpimg\n",
    "import pandas as pd\n",
    "import json\n",
    "from pathlib import Path"
   ]
  },
  {
   "cell_type": "code",
   "execution_count": 2,
   "id": "e38d5848",
   "metadata": {},
   "outputs": [],
   "source": [
    "class Timer:\n",
    "    def __enter__(self):\n",
    "        self.start = time.time()\n",
    "        return self  # возвращаем self, чтобы получить доступ к elapsed_time\n",
    "\n",
    "    def __exit__(self, exc_type, exc_val, exc_tb):\n",
    "        self.end = time.time()\n",
    "        self.elapsed = round(self.end - self.start,4)\n",
    "        #print(f\"Cell execution time: {self.elapsed:.4f} seconds\")\n"
   ]
  },
  {
   "cell_type": "code",
   "execution_count": 3,
   "id": "c92bc465",
   "metadata": {},
   "outputs": [
    {
     "name": "stdout",
     "output_type": "stream",
     "text": [
      "1.0001\n"
     ]
    }
   ],
   "source": [
    "with Timer() as t:\n",
    "    time.sleep(1)\n",
    "\n",
    "print(t.elapsed)"
   ]
  },
  {
   "cell_type": "code",
   "execution_count": 18,
   "id": "ffe32cbf-c410-4d04-834c-a43c08c8c32b",
   "metadata": {},
   "outputs": [],
   "source": [
    "DATA_BASE_DIR = Path(\"/home/jovyan/data\")"
   ]
  },
  {
   "cell_type": "code",
   "execution_count": 58,
   "id": "0b26a51b-ef26-4035-a5cd-df22094d701d",
   "metadata": {},
   "outputs": [],
   "source": [
    "with open(DATA_BASE_DIR / \"test_dataset.json\", \"r\") as f:\n",
    "    test_data = json.load(f)"
   ]
  },
  {
   "cell_type": "code",
   "execution_count": 74,
   "id": "23b57c55-b2dc-4e59-94f1-570691759b35",
   "metadata": {},
   "outputs": [
    {
     "data": {
      "text/plain": [
       "[{'image_path': 'names/930.jpg',\n",
       "  'text': 'Молоко КРАСНАЯ ЦЕНА\\n800мл\\nмит.паст.2,5%'}]"
      ]
     },
     "execution_count": 74,
     "metadata": {},
     "output_type": "execute_result"
    }
   ],
   "source": [
    "test_data[:1]"
   ]
  },
  {
   "cell_type": "code",
   "execution_count": 51,
   "id": "07288c4d",
   "metadata": {},
   "outputs": [
    {
     "name": "stdout",
     "output_type": "stream",
     "text": [
      "Loaded as API: http://qwen_api:7860/ ✔\n"
     ]
    }
   ],
   "source": [
    "client = Client(\"http://qwen_api:7860/\")"
   ]
  },
  {
   "cell_type": "code",
   "execution_count": 52,
   "id": "fbe73f00",
   "metadata": {},
   "outputs": [],
   "source": [
    "SYSTEM_PROMPT = '''\n",
    "Вы — ассистент, который извлекает информацию с русских товарных этикеток на изображениях. В тексте могут встречаться названия на английском.\n",
    "Выведи Только текст, без лишних слов. Никаких объяснений.\n",
    "'''"
   ]
  },
  {
   "cell_type": "code",
   "execution_count": 66,
   "id": "945feb27",
   "metadata": {},
   "outputs": [],
   "source": [
    "def  predict(file_path, model_name = \"Qwen2_5-7b\"):    \n",
    "    result = client.predict(\n",
    "\t\tsystem_prompt =SYSTEM_PROMPT,\n",
    "\t\tuser_prompt=\"\",\n",
    "\t\timage=handle_file(file_path),\n",
    "        #image=None,\n",
    "\t\tselected_model=model_name,\n",
    "\t\ttemperature=0.2,\n",
    "\t\tapi_name=\"/predict\"\n",
    "\t)\n",
    "    return result"
   ]
  },
  {
   "cell_type": "code",
   "execution_count": 68,
   "id": "8b8317fd-569c-4713-b8bb-30337fc31c64",
   "metadata": {},
   "outputs": [
    {
     "data": {
      "text/plain": [
       "'Вода святой источник 1.0л природная питьевая негаз.ПЭТ'"
      ]
     },
     "execution_count": 68,
     "metadata": {},
     "output_type": "execute_result"
    }
   ],
   "source": [
    "predict(DATA_BASE_DIR / \"names/1.jpg\")"
   ]
  },
  {
   "cell_type": "code",
   "execution_count": 54,
   "id": "e1e6485f",
   "metadata": {},
   "outputs": [],
   "source": [
    "\n",
    "\n",
    "class PhraseCorrector:\n",
    "    def __init__(self, words_file=\"words.csv\",score_cutoff=70, min_len = 5):\n",
    "        with open(words_file, \"r\", encoding=\"utf-8\") as f:\n",
    "            self.reference_words = [line.strip() for line in f]\n",
    "        self.score_cutoff = score_cutoff\n",
    "        self.min_len = min_len\n",
    "\n",
    "\n",
    "\n",
    "\n",
    "\n",
    "    def correct_words_in_text(self,text):\n",
    "        corrected_lines = []\n",
    "        for line in text.strip().split('\\n'):\n",
    "            corrected_words = []\n",
    "            words = re.split(r\"[ \\t\\f\\v.,!?;:()\\\"«»—–\\-\\/]+\", line.upper().replace(\"Ё\", \"Е\"))\n",
    "            words = list(filter(None, words))  # убираем пустые строки, если они есть\n",
    "        \n",
    "            for word in words:\n",
    "                if len(word) < self.min_len:\n",
    "                    corrected_words.append(word)\n",
    "                    continue\n",
    "                # Ищем наиболее близкое слово из словаря\n",
    "                match = process.extractOne(word, self.reference_words, scorer=fuzz.ratio, score_cutoff=self.score_cutoff)\n",
    "                #print(match)\n",
    "                corrected_word = match[0] if match else word\n",
    "                corrected_words.append(corrected_word)\n",
    "            corrected_lines.append(' '.join(corrected_words))\n",
    "        return '\\n'.join(corrected_lines)"
   ]
  },
  {
   "cell_type": "code",
   "execution_count": 55,
   "id": "a984660b",
   "metadata": {},
   "outputs": [],
   "source": [
    "phrase_corrector = PhraseCorrector(DATA_BASE_DIR / \"words.txt\")"
   ]
  },
  {
   "cell_type": "code",
   "execution_count": 76,
   "id": "86d61a57",
   "metadata": {},
   "outputs": [],
   "source": [
    "class CSVRow(BaseModel):\n",
    "    file_name: str\n",
    "    text: str\n",
    "    elapsed_time: float\n",
    "    corrected_text: str\n",
    "    elapsed_time_corrected: float\n",
    "    original_text:str\n"
   ]
  },
  {
   "cell_type": "code",
   "execution_count": 86,
   "id": "29b6facc",
   "metadata": {},
   "outputs": [],
   "source": [
    "def mass_experiment(model_name, limit=1, debug=False):\n",
    "    with open(f\"results_{model_name}.tsv\", \"w\", encoding=\"utf-8\") as f:\n",
    "        writer = csv.writer(f, delimiter=\"\\t\", quoting=csv.QUOTE_MINIMAL)\n",
    "        writer.writerow(CSVRow.model_fields.keys())\n",
    "    \n",
    "        for item in tqdm(test_data[:limit], desc=\"Process images\", unit=\"image\"):\n",
    "            try:\n",
    "                file_name = item[\"image_path\"]\n",
    "                original_text = item[\"text\"]\n",
    "                row = CSVRow(\n",
    "                    file_name=file_name,\n",
    "                    text=\"\",\n",
    "                    elapsed_time=0.0,\n",
    "                    corrected_text=\"\",\n",
    "                    elapsed_time_corrected=0.0,\n",
    "                    original_text=original_text\n",
    "                )\n",
    "    \n",
    "                file_path = DATA_BASE_DIR / file_name\n",
    "    \n",
    "                # Чтение изображения\n",
    "                if debug:\n",
    "                    try:\n",
    "                        img = mpimg.imread(file_path)\n",
    "                        plt.imshow(img)\n",
    "                        plt.axis('off')\n",
    "                        plt.show()\n",
    "                    except Exception as img_error:\n",
    "                        print(f\"[Ошибка изображения] {file_name}: {img_error}\")\n",
    "                        continue  # пропустить эту строку\n",
    "        \n",
    "                # Предсказание\n",
    "                with Timer() as t:\n",
    "                    result = predict(file_path, model_name)\n",
    "                row.elapsed_time = t.elapsed\n",
    "                row.text = result\n",
    "    \n",
    "                # Коррекция\n",
    "                with Timer() as t:\n",
    "                    corrected_result = phrase_corrector.correct_words_in_text(result)\n",
    "                row.elapsed_time_corrected = t.elapsed\n",
    "                row.corrected_text = corrected_result\n",
    "    \n",
    "                # Лог + запись\n",
    "                if debug:\n",
    "                    print(json.dumps(row.model_dump(), indent=4, ensure_ascii=False))\n",
    "                writer.writerow(row.model_dump().values())\n",
    "                f.flush()\n",
    "    \n",
    "            except Exception as e:\n",
    "                print(f\"[Общая ошибка] {item['image_path']}: {e}\")\n",
    "                continue\n"
   ]
  },
  {
   "cell_type": "code",
   "execution_count": 82,
   "id": "935a4139-fe95-4ec9-814b-94f2c3410a3e",
   "metadata": {},
   "outputs": [],
   "source": [
    "model_names = [\n",
    "    \"Qwen2_5-3b_finetuned\",\n",
    "    \"Qwen2_5-7b_finetuned\",\n",
    "    \"Qwen2-vl-7b_finetuned\",\n",
    "    \"Qwen2_5-3b\",\n",
    "    \"Qwen2_5-7b\",\n",
    "    \"Qwen2-vl-7b\"\n",
    "]"
   ]
  },
  {
   "cell_type": "code",
   "execution_count": 87,
   "id": "9cf68d7c-38da-4a82-b7f7-8dfb3bcb16a3",
   "metadata": {},
   "outputs": [
    {
     "name": "stdout",
     "output_type": "stream",
     "text": [
      "Qwen2_5-3b_finetuned\n"
     ]
    },
    {
     "name": "stderr",
     "output_type": "stream",
     "text": [
      "Process images:   2%|▏         | 3/198 [00:07<06:18,  1.94s/image]"
     ]
    },
    {
     "name": "stdout",
     "output_type": "stream",
     "text": [
      "[Общая ошибка] names/577.jpg: The upstream Gradio app has raised an exception but has not enabled verbose error reporting. To enable, set show_error=True in launch().\n"
     ]
    },
    {
     "name": "stderr",
     "output_type": "stream",
     "text": [
      "Process images:  25%|██▌       | 50/198 [04:49<18:08,  7.35s/image]"
     ]
    },
    {
     "name": "stdout",
     "output_type": "stream",
     "text": [
      "[Общая ошибка] names/524.jpg: The upstream Gradio app has raised an exception but has not enabled verbose error reporting. To enable, set show_error=True in launch().\n"
     ]
    },
    {
     "name": "stderr",
     "output_type": "stream",
     "text": [
      "Process images:  42%|████▏     | 83/198 [08:03<06:26,  3.36s/image]"
     ]
    },
    {
     "name": "stdout",
     "output_type": "stream",
     "text": [
      "[Общая ошибка] names/958.jpg: The upstream Gradio app has raised an exception but has not enabled verbose error reporting. To enable, set show_error=True in launch().\n"
     ]
    },
    {
     "name": "stderr",
     "output_type": "stream",
     "text": [
      "Process images:  52%|█████▏    | 102/198 [09:19<04:33,  2.85s/image]"
     ]
    },
    {
     "name": "stdout",
     "output_type": "stream",
     "text": [
      "[Общая ошибка] names/993.jpg: The upstream Gradio app has raised an exception but has not enabled verbose error reporting. To enable, set show_error=True in launch().\n"
     ]
    },
    {
     "name": "stderr",
     "output_type": "stream",
     "text": [
      "Process images:  71%|███████   | 140/198 [12:06<03:04,  3.18s/image]"
     ]
    },
    {
     "name": "stdout",
     "output_type": "stream",
     "text": [
      "[Общая ошибка] names/559.jpg: The upstream Gradio app has raised an exception but has not enabled verbose error reporting. To enable, set show_error=True in launch().\n"
     ]
    },
    {
     "name": "stderr",
     "output_type": "stream",
     "text": [
      "Process images:  86%|████████▋ | 171/198 [14:12<01:02,  2.31s/image]"
     ]
    },
    {
     "name": "stdout",
     "output_type": "stream",
     "text": [
      "[Общая ошибка] names/949.jpg: The upstream Gradio app has raised an exception but has not enabled verbose error reporting. To enable, set show_error=True in launch().\n"
     ]
    },
    {
     "name": "stderr",
     "output_type": "stream",
     "text": [
      "Process images: 100%|██████████| 198/198 [16:17<00:00,  4.94s/image]\n"
     ]
    },
    {
     "name": "stdout",
     "output_type": "stream",
     "text": [
      "Qwen2_5-7b_finetuned\n"
     ]
    },
    {
     "name": "stderr",
     "output_type": "stream",
     "text": [
      "Process images:   2%|▏         | 3/198 [00:46<34:56, 10.75s/image]  "
     ]
    },
    {
     "name": "stdout",
     "output_type": "stream",
     "text": [
      "[Общая ошибка] names/577.jpg: The upstream Gradio app has raised an exception but has not enabled verbose error reporting. To enable, set show_error=True in launch().\n"
     ]
    },
    {
     "name": "stderr",
     "output_type": "stream",
     "text": [
      "Process images:  25%|██▌       | 50/198 [03:58<09:25,  3.82s/image]"
     ]
    },
    {
     "name": "stdout",
     "output_type": "stream",
     "text": [
      "[Общая ошибка] names/524.jpg: The upstream Gradio app has raised an exception but has not enabled verbose error reporting. To enable, set show_error=True in launch().\n"
     ]
    },
    {
     "name": "stderr",
     "output_type": "stream",
     "text": [
      "Process images:  41%|████▏     | 82/198 [06:14<07:18,  3.78s/image]"
     ]
    },
    {
     "name": "stdout",
     "output_type": "stream",
     "text": [
      "[Общая ошибка] names/958.jpg: The upstream Gradio app has raised an exception but has not enabled verbose error reporting. To enable, set show_error=True in launch().\n"
     ]
    },
    {
     "name": "stderr",
     "output_type": "stream",
     "text": [
      "Process images:  52%|█████▏    | 102/198 [07:29<04:18,  2.69s/image]"
     ]
    },
    {
     "name": "stdout",
     "output_type": "stream",
     "text": [
      "[Общая ошибка] names/993.jpg: The upstream Gradio app has raised an exception but has not enabled verbose error reporting. To enable, set show_error=True in launch().\n"
     ]
    },
    {
     "name": "stderr",
     "output_type": "stream",
     "text": [
      "Process images:  71%|███████   | 140/198 [09:48<02:54,  3.00s/image]"
     ]
    },
    {
     "name": "stdout",
     "output_type": "stream",
     "text": [
      "[Общая ошибка] names/559.jpg: The upstream Gradio app has raised an exception but has not enabled verbose error reporting. To enable, set show_error=True in launch().\n"
     ]
    },
    {
     "name": "stderr",
     "output_type": "stream",
     "text": [
      "Process images:  86%|████████▋ | 171/198 [11:36<01:16,  2.84s/image]"
     ]
    },
    {
     "name": "stdout",
     "output_type": "stream",
     "text": [
      "[Общая ошибка] names/949.jpg: The upstream Gradio app has raised an exception but has not enabled verbose error reporting. To enable, set show_error=True in launch().\n"
     ]
    },
    {
     "name": "stderr",
     "output_type": "stream",
     "text": [
      "Process images: 100%|██████████| 198/198 [13:13<00:00,  4.01s/image]\n"
     ]
    },
    {
     "name": "stdout",
     "output_type": "stream",
     "text": [
      "Qwen2-vl-7b_finetuned\n"
     ]
    },
    {
     "name": "stderr",
     "output_type": "stream",
     "text": [
      "Process images:   2%|▏         | 3/198 [01:11<53:00, 16.31s/image]  "
     ]
    },
    {
     "name": "stdout",
     "output_type": "stream",
     "text": [
      "[Общая ошибка] names/577.jpg: The upstream Gradio app has raised an exception but has not enabled verbose error reporting. To enable, set show_error=True in launch().\n"
     ]
    },
    {
     "name": "stderr",
     "output_type": "stream",
     "text": [
      "Process images:  25%|██▌       | 50/198 [04:22<09:14,  3.74s/image]"
     ]
    },
    {
     "name": "stdout",
     "output_type": "stream",
     "text": [
      "[Общая ошибка] names/524.jpg: The upstream Gradio app has raised an exception but has not enabled verbose error reporting. To enable, set show_error=True in launch().\n"
     ]
    },
    {
     "name": "stderr",
     "output_type": "stream",
     "text": [
      "Process images:  42%|████▏     | 83/198 [06:28<05:06,  2.66s/image]"
     ]
    },
    {
     "name": "stdout",
     "output_type": "stream",
     "text": [
      "[Общая ошибка] names/958.jpg: The upstream Gradio app has raised an exception but has not enabled verbose error reporting. To enable, set show_error=True in launch().\n"
     ]
    },
    {
     "name": "stderr",
     "output_type": "stream",
     "text": [
      "Process images:  52%|█████▏    | 102/198 [07:45<04:16,  2.68s/image]"
     ]
    },
    {
     "name": "stdout",
     "output_type": "stream",
     "text": [
      "[Общая ошибка] names/993.jpg: The upstream Gradio app has raised an exception but has not enabled verbose error reporting. To enable, set show_error=True in launch().\n"
     ]
    },
    {
     "name": "stderr",
     "output_type": "stream",
     "text": [
      "Process images:  71%|███████   | 140/198 [10:07<02:56,  3.04s/image]"
     ]
    },
    {
     "name": "stdout",
     "output_type": "stream",
     "text": [
      "[Общая ошибка] names/559.jpg: The upstream Gradio app has raised an exception but has not enabled verbose error reporting. To enable, set show_error=True in launch().\n"
     ]
    },
    {
     "name": "stderr",
     "output_type": "stream",
     "text": [
      "Process images:  86%|████████▋ | 171/198 [12:08<02:22,  5.28s/image]"
     ]
    },
    {
     "name": "stdout",
     "output_type": "stream",
     "text": [
      "[Общая ошибка] names/949.jpg: The upstream Gradio app has raised an exception but has not enabled verbose error reporting. To enable, set show_error=True in launch().\n"
     ]
    },
    {
     "name": "stderr",
     "output_type": "stream",
     "text": [
      "Process images: 100%|██████████| 198/198 [14:02<00:00,  4.25s/image]\n"
     ]
    },
    {
     "name": "stdout",
     "output_type": "stream",
     "text": [
      "Qwen2_5-3b\n"
     ]
    },
    {
     "name": "stderr",
     "output_type": "stream",
     "text": [
      "Process images:   1%|          | 2/198 [00:43<58:38, 17.95s/image]  "
     ]
    },
    {
     "name": "stdout",
     "output_type": "stream",
     "text": [
      "[Общая ошибка] names/577.jpg: The upstream Gradio app has raised an exception but has not enabled verbose error reporting. To enable, set show_error=True in launch().\n"
     ]
    },
    {
     "name": "stderr",
     "output_type": "stream",
     "text": [
      "Process images:  25%|██▌       | 50/198 [02:26<04:20,  1.76s/image]"
     ]
    },
    {
     "name": "stdout",
     "output_type": "stream",
     "text": [
      "[Общая ошибка] names/524.jpg: The upstream Gradio app has raised an exception but has not enabled verbose error reporting. To enable, set show_error=True in launch().\n"
     ]
    },
    {
     "name": "stderr",
     "output_type": "stream",
     "text": [
      "Process images:  42%|████▏     | 83/198 [03:41<03:30,  1.83s/image]"
     ]
    },
    {
     "name": "stdout",
     "output_type": "stream",
     "text": [
      "[Общая ошибка] names/958.jpg: The upstream Gradio app has raised an exception but has not enabled verbose error reporting. To enable, set show_error=True in launch().\n"
     ]
    },
    {
     "name": "stderr",
     "output_type": "stream",
     "text": [
      "Process images:  52%|█████▏    | 102/198 [04:24<02:41,  1.69s/image]"
     ]
    },
    {
     "name": "stdout",
     "output_type": "stream",
     "text": [
      "[Общая ошибка] names/993.jpg: The upstream Gradio app has raised an exception but has not enabled verbose error reporting. To enable, set show_error=True in launch().\n"
     ]
    },
    {
     "name": "stderr",
     "output_type": "stream",
     "text": [
      "Process images:  71%|███████   | 140/198 [05:50<01:45,  1.83s/image]"
     ]
    },
    {
     "name": "stdout",
     "output_type": "stream",
     "text": [
      "[Общая ошибка] names/559.jpg: The upstream Gradio app has raised an exception but has not enabled verbose error reporting. To enable, set show_error=True in launch().\n"
     ]
    },
    {
     "name": "stderr",
     "output_type": "stream",
     "text": [
      "Process images:  86%|████████▋ | 171/198 [06:52<00:37,  1.39s/image]"
     ]
    },
    {
     "name": "stdout",
     "output_type": "stream",
     "text": [
      "[Общая ошибка] names/949.jpg: The upstream Gradio app has raised an exception but has not enabled verbose error reporting. To enable, set show_error=True in launch().\n"
     ]
    },
    {
     "name": "stderr",
     "output_type": "stream",
     "text": [
      "Process images: 100%|██████████| 198/198 [08:05<00:00,  2.45s/image]\n"
     ]
    },
    {
     "name": "stdout",
     "output_type": "stream",
     "text": [
      "Qwen2_5-7b\n"
     ]
    },
    {
     "name": "stderr",
     "output_type": "stream",
     "text": [
      "Process images:   2%|▏         | 3/198 [00:51<38:17, 11.78s/image]  "
     ]
    },
    {
     "name": "stdout",
     "output_type": "stream",
     "text": [
      "[Общая ошибка] names/577.jpg: The upstream Gradio app has raised an exception but has not enabled verbose error reporting. To enable, set show_error=True in launch().\n"
     ]
    },
    {
     "name": "stderr",
     "output_type": "stream",
     "text": [
      "Process images:  25%|██▌       | 50/198 [02:43<05:31,  2.24s/image]"
     ]
    },
    {
     "name": "stdout",
     "output_type": "stream",
     "text": [
      "[Общая ошибка] names/524.jpg: The upstream Gradio app has raised an exception but has not enabled verbose error reporting. To enable, set show_error=True in launch().\n"
     ]
    },
    {
     "name": "stderr",
     "output_type": "stream",
     "text": [
      "Process images:  42%|████▏     | 83/198 [04:01<03:17,  1.72s/image]"
     ]
    },
    {
     "name": "stdout",
     "output_type": "stream",
     "text": [
      "[Общая ошибка] names/958.jpg: The upstream Gradio app has raised an exception but has not enabled verbose error reporting. To enable, set show_error=True in launch().\n"
     ]
    },
    {
     "name": "stderr",
     "output_type": "stream",
     "text": [
      "Process images:  52%|█████▏    | 102/198 [04:44<02:27,  1.54s/image]"
     ]
    },
    {
     "name": "stdout",
     "output_type": "stream",
     "text": [
      "[Общая ошибка] names/993.jpg: The upstream Gradio app has raised an exception but has not enabled verbose error reporting. To enable, set show_error=True in launch().\n"
     ]
    },
    {
     "name": "stderr",
     "output_type": "stream",
     "text": [
      "Process images:  70%|███████   | 139/198 [06:14<02:33,  2.61s/image]"
     ]
    },
    {
     "name": "stdout",
     "output_type": "stream",
     "text": [
      "[Общая ошибка] names/559.jpg: The upstream Gradio app has raised an exception but has not enabled verbose error reporting. To enable, set show_error=True in launch().\n"
     ]
    },
    {
     "name": "stderr",
     "output_type": "stream",
     "text": [
      "Process images:  86%|████████▋ | 171/198 [07:24<00:40,  1.48s/image]"
     ]
    },
    {
     "name": "stdout",
     "output_type": "stream",
     "text": [
      "[Общая ошибка] names/949.jpg: The upstream Gradio app has raised an exception but has not enabled verbose error reporting. To enable, set show_error=True in launch().\n"
     ]
    },
    {
     "name": "stderr",
     "output_type": "stream",
     "text": [
      "Process images: 100%|██████████| 198/198 [08:24<00:00,  2.55s/image]\n"
     ]
    },
    {
     "name": "stdout",
     "output_type": "stream",
     "text": [
      "Qwen2-vl-7b\n"
     ]
    },
    {
     "name": "stderr",
     "output_type": "stream",
     "text": [
      "Process images:   2%|▏         | 3/198 [00:56<41:53, 12.89s/image]  "
     ]
    },
    {
     "name": "stdout",
     "output_type": "stream",
     "text": [
      "[Общая ошибка] names/577.jpg: The upstream Gradio app has raised an exception but has not enabled verbose error reporting. To enable, set show_error=True in launch().\n"
     ]
    },
    {
     "name": "stderr",
     "output_type": "stream",
     "text": [
      "Process images:  25%|██▌       | 50/198 [02:23<03:33,  1.44s/image]"
     ]
    },
    {
     "name": "stdout",
     "output_type": "stream",
     "text": [
      "[Общая ошибка] names/524.jpg: The upstream Gradio app has raised an exception but has not enabled verbose error reporting. To enable, set show_error=True in launch().\n"
     ]
    },
    {
     "name": "stderr",
     "output_type": "stream",
     "text": [
      "Process images:  42%|████▏     | 83/198 [03:26<02:59,  1.56s/image]"
     ]
    },
    {
     "name": "stdout",
     "output_type": "stream",
     "text": [
      "[Общая ошибка] names/958.jpg: The upstream Gradio app has raised an exception but has not enabled verbose error reporting. To enable, set show_error=True in launch().\n"
     ]
    },
    {
     "name": "stderr",
     "output_type": "stream",
     "text": [
      "Process images:  52%|█████▏    | 102/198 [04:05<02:07,  1.33s/image]"
     ]
    },
    {
     "name": "stdout",
     "output_type": "stream",
     "text": [
      "[Общая ошибка] names/993.jpg: The upstream Gradio app has raised an exception but has not enabled verbose error reporting. To enable, set show_error=True in launch().\n"
     ]
    },
    {
     "name": "stderr",
     "output_type": "stream",
     "text": [
      "Process images:  71%|███████   | 140/198 [05:21<01:33,  1.62s/image]"
     ]
    },
    {
     "name": "stdout",
     "output_type": "stream",
     "text": [
      "[Общая ошибка] names/559.jpg: The upstream Gradio app has raised an exception but has not enabled verbose error reporting. To enable, set show_error=True in launch().\n"
     ]
    },
    {
     "name": "stderr",
     "output_type": "stream",
     "text": [
      "Process images:  86%|████████▋ | 171/198 [06:16<00:36,  1.37s/image]"
     ]
    },
    {
     "name": "stdout",
     "output_type": "stream",
     "text": [
      "[Общая ошибка] names/949.jpg: The upstream Gradio app has raised an exception but has not enabled verbose error reporting. To enable, set show_error=True in launch().\n"
     ]
    },
    {
     "name": "stderr",
     "output_type": "stream",
     "text": [
      "Process images: 100%|██████████| 198/198 [07:06<00:00,  2.16s/image]\n"
     ]
    }
   ],
   "source": [
    "for model_name in model_names:\n",
    "    print(model_name)\n",
    "    mass_experiment(model_name, -1)"
   ]
  },
  {
   "cell_type": "code",
   "execution_count": null,
   "id": "b0e59444-6946-42aa-bd14-ac29499f9c96",
   "metadata": {},
   "outputs": [],
   "source": []
  }
 ],
 "metadata": {
  "kernelspec": {
   "display_name": "Python 3 (ipykernel)",
   "language": "python",
   "name": "python3"
  },
  "language_info": {
   "codemirror_mode": {
    "name": "ipython",
    "version": 3
   },
   "file_extension": ".py",
   "mimetype": "text/x-python",
   "name": "python",
   "nbconvert_exporter": "python",
   "pygments_lexer": "ipython3",
   "version": "3.11.6"
  }
 },
 "nbformat": 4,
 "nbformat_minor": 5
}
