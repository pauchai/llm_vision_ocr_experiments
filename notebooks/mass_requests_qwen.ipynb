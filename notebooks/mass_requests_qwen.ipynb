{
 "cells": [
  {
   "cell_type": "code",
   "execution_count": 32,
   "id": "197c9ef7",
   "metadata": {},
   "outputs": [
    {
     "data": {
      "text/plain": [
       "<module 'packages.word_corrector.src.core' from '/home/jovyan/work/packages/word_corrector/src/core.py'>"
      ]
     },
     "execution_count": 32,
     "metadata": {},
     "output_type": "execute_result"
    }
   ],
   "source": [
    "import importlib\n",
    "import packages.word_corrector.src.core as core\n",
    "\n",
    "importlib.reload(core)"
   ]
  },
  {
   "cell_type": "code",
   "execution_count": 33,
   "id": "92951c1c",
   "metadata": {},
   "outputs": [],
   "source": [
    "from gradio_client import Client, handle_file   \n",
    "# импорт contenxtmanager\n",
    "from contextlib import contextmanager\n",
    "import time\n",
    "import os\n",
    "from pydantic import BaseModel, Field\n",
    "import csv\n",
    "from rapidfuzz import process, fuzz\n",
    "import re\n",
    "\n",
    "from tqdm import tqdm\n",
    "from matplotlib import pyplot as plt\n",
    "import matplotlib.image as mpimg\n",
    "import pandas as pd\n",
    "import json\n",
    "from pathlib import Path"
   ]
  },
  {
   "cell_type": "code",
   "execution_count": 34,
   "id": "e38d5848",
   "metadata": {},
   "outputs": [],
   "source": [
    "class Timer:\n",
    "    def __enter__(self):\n",
    "        self.start = time.time()\n",
    "        return self  # возвращаем self, чтобы получить доступ к elapsed_time\n",
    "\n",
    "    def __exit__(self, exc_type, exc_val, exc_tb):\n",
    "        self.end = time.time()\n",
    "        self.elapsed = round(self.end - self.start,4)\n",
    "        #print(f\"Cell execution time: {self.elapsed:.4f} seconds\")\n"
   ]
  },
  {
   "cell_type": "code",
   "execution_count": 35,
   "id": "a2a84b9e-2b7a-47ea-9820-3803927f9783",
   "metadata": {},
   "outputs": [],
   "source": [
    "importlib.reload(core)\n",
    "from packages.word_corrector.src.core import   PhraseCorrectorByWords, PhraseCorrectorNgrams, correct_text"
   ]
  },
  {
   "cell_type": "code",
   "execution_count": 36,
   "id": "86d61a57",
   "metadata": {},
   "outputs": [],
   "source": [
    "class CSVRow(BaseModel):\n",
    "    file_name: str\n",
    "    text: str\n",
    "    elapsed_time: float \n",
    "    corrected_text: str\n",
    "    elapsed_time_corrected: float\n",
    "    original_text:str\n"
   ]
  },
  {
   "cell_type": "code",
   "execution_count": 37,
   "id": "80ec16b0",
   "metadata": {},
   "outputs": [
    {
     "name": "stdout",
     "output_type": "stream",
     "text": [
      "--2025-05-26 06:45:25--  https://docs.google.com/spreadsheets/d/1IPXCgSj6a2itzLxY64gVVU6UIyAHaAI4X8P5xPdaykY/export?format=xlsx\n",
      "Resolving docs.google.com (docs.google.com)... 142.251.1.194, 2a00:1450:4010:c1e::c2\n",
      "Connecting to docs.google.com (docs.google.com)|142.251.1.194|:443... connected.\n",
      "HTTP request sent, awaiting response... 307 Temporary Redirect\n",
      "Location: https://doc-14-1s-sheets.googleusercontent.com/export/54bogvaave6cua4cdnls17ksc4/p3g0misr9eb6busg6642v2htqg/1748241925000/117963286932567830463/*/1IPXCgSj6a2itzLxY64gVVU6UIyAHaAI4X8P5xPdaykY?format=xlsx [following]\n",
      "Warning: wildcards not supported in HTTP.\n",
      "--2025-05-26 06:45:25--  https://doc-14-1s-sheets.googleusercontent.com/export/54bogvaave6cua4cdnls17ksc4/p3g0misr9eb6busg6642v2htqg/1748241925000/117963286932567830463/*/1IPXCgSj6a2itzLxY64gVVU6UIyAHaAI4X8P5xPdaykY?format=xlsx\n",
      "Resolving doc-14-1s-sheets.googleusercontent.com (doc-14-1s-sheets.googleusercontent.com)... 64.233.164.132, 2a00:1450:4010:c07::84\n",
      "Connecting to doc-14-1s-sheets.googleusercontent.com (doc-14-1s-sheets.googleusercontent.com)|64.233.164.132|:443... connected.\n",
      "HTTP request sent, awaiting response... 200 OK\n",
      "Length: unspecified [application/vnd.openxmlformats-officedocument.spreadsheetml.sheet]\n",
      "Saving to: ‘data/test_expecting_corrections.xlsx’\n",
      "\n",
      "data/test_expecting     [ <=>                ]   7.21K  --.-KB/s    in 0.008s  \n",
      "\n",
      "2025-05-26 06:45:25 (907 KB/s) - ‘data/test_expecting_corrections.xlsx’ saved [7380]\n",
      "\n"
     ]
    }
   ],
   "source": [
    "# Скачиваем тестовый файл для корректора\n",
    "!wget https://docs.google.com/spreadsheets/d/1IPXCgSj6a2itzLxY64gVVU6UIyAHaAI4X8P5xPdaykY/export?format=xlsx -O data/test_expecting_corrections.xlsx"
   ]
  },
  {
   "cell_type": "code",
   "execution_count": 38,
   "id": "5aa9cd8b",
   "metadata": {},
   "outputs": [],
   "source": [
    "df_test_correction = pd.read_excel('data/test_expecting_corrections.xlsx')"
   ]
  },
  {
   "cell_type": "code",
   "execution_count": 39,
   "id": "57f67acd",
   "metadata": {},
   "outputs": [
    {
     "data": {
      "text/html": [
       "<div>\n",
       "<style scoped>\n",
       "    .dataframe tbody tr th:only-of-type {\n",
       "        vertical-align: middle;\n",
       "    }\n",
       "\n",
       "    .dataframe tbody tr th {\n",
       "        vertical-align: top;\n",
       "    }\n",
       "\n",
       "    .dataframe thead th {\n",
       "        text-align: right;\n",
       "    }\n",
       "</style>\n",
       "<table border=\"1\" class=\"dataframe\">\n",
       "  <thead>\n",
       "    <tr style=\"text-align: right;\">\n",
       "      <th></th>\n",
       "      <th>file_name</th>\n",
       "      <th>text</th>\n",
       "      <th>elapsed_time</th>\n",
       "      <th>corrected_text</th>\n",
       "      <th>elapsed_time_corrected</th>\n",
       "      <th>original_text</th>\n",
       "    </tr>\n",
       "  </thead>\n",
       "  <tbody>\n",
       "    <tr>\n",
       "      <th>0</th>\n",
       "      <td>test1</td>\n",
       "      <td>ТЕСТ_1 ГРАММЫ\\n1r\\n</td>\n",
       "      <td>NaN</td>\n",
       "      <td>ТЕСТ_1 ГРАММЫ\\n1Г\\n</td>\n",
       "      <td>NaN</td>\n",
       "      <td>NaN</td>\n",
       "    </tr>\n",
       "    <tr>\n",
       "      <th>1</th>\n",
       "      <td>test2</td>\n",
       "      <td>ТЕСТ_2 КИЛОГРАММЫ\\n1кг 1кr 1kr 1кr</td>\n",
       "      <td>NaN</td>\n",
       "      <td>ТЕСТ_2 КИЛОГРАММЫ\\n1КГ 1КГ 1КГ 1КГ</td>\n",
       "      <td>NaN</td>\n",
       "      <td>NaN</td>\n",
       "    </tr>\n",
       "    <tr>\n",
       "      <th>2</th>\n",
       "      <td>test3</td>\n",
       "      <td>ТЕСТ_3 ЛИТРЫ\\n1л 1п 1n</td>\n",
       "      <td>NaN</td>\n",
       "      <td>ТЕСТ_3 ЛИТРЫ\\n1Л 1Л 1Л</td>\n",
       "      <td>NaN</td>\n",
       "      <td>NaN</td>\n",
       "    </tr>\n",
       "    <tr>\n",
       "      <th>3</th>\n",
       "      <td>test4</td>\n",
       "      <td>ТЕСТ_4 МИЛЛИЛИТРЫ\\n1мл 1mn 1мn 1mл 1мп</td>\n",
       "      <td>NaN</td>\n",
       "      <td>ТЕСТ_4 МИЛЛИЛИТРЫ\\n1МЛ 1МЛ 1МЛ 1МЛ 1МЛ</td>\n",
       "      <td>NaN</td>\n",
       "      <td>NaN</td>\n",
       "    </tr>\n",
       "    <tr>\n",
       "      <th>4</th>\n",
       "      <td>test5</td>\n",
       "      <td>ТЕСТ_5 УПАКОВКИ\\n1уп 1yп 1yn 1уn 1ул 1yп\\n</td>\n",
       "      <td>NaN</td>\n",
       "      <td>ТЕСТ_5 УПАКОВКИ\\n1УП 1УП 1УП 1УП 1УП 1УП\\n</td>\n",
       "      <td>NaN</td>\n",
       "      <td>NaN</td>\n",
       "    </tr>\n",
       "    <tr>\n",
       "      <th>5</th>\n",
       "      <td>test6</td>\n",
       "      <td>ТЕСТ_6 ПУСТЫЕ СТРОКИ\\n\\nтретья строка</td>\n",
       "      <td>NaN</td>\n",
       "      <td>ТЕСТ_6 ПУСТЫЕ СТРОКИ\\nтретья строка</td>\n",
       "      <td>NaN</td>\n",
       "      <td>NaN</td>\n",
       "    </tr>\n",
       "    <tr>\n",
       "      <th>6</th>\n",
       "      <td>test7</td>\n",
       "      <td>ТЕСТ_7 СПЕЦСИМВОЛЫ\\n!\"№;%:?*().,}{&lt;&gt;</td>\n",
       "      <td>NaN</td>\n",
       "      <td>ТЕСТ_7 СПЕЦСИМВОЛЫ\\n!\"№;%:?*().,}{&lt;&gt;</td>\n",
       "      <td>NaN</td>\n",
       "      <td>NaN</td>\n",
       "    </tr>\n",
       "    <tr>\n",
       "      <th>7</th>\n",
       "      <td>test8</td>\n",
       "      <td>ТЕСТ_8 НЕ ОБРАБАТЫВАТЬ ТРЕТЬЮ СТРОКУ\\nВТОРАЯ С...</td>\n",
       "      <td>NaN</td>\n",
       "      <td>ТЕСТ_8 НЕ ОБРАБАТЫВАТЬ ТРЕТЬЮ СТРОКУ\\nВТОРАЯ С...</td>\n",
       "      <td>NaN</td>\n",
       "      <td>NaN</td>\n",
       "    </tr>\n",
       "    <tr>\n",
       "      <th>8</th>\n",
       "      <td>names/930.jpg</td>\n",
       "      <td>Молоко КРАСНАЯ ЦЕНА\\n800мл</td>\n",
       "      <td>2.055</td>\n",
       "      <td>МОЛОКО КРАСНАЯ ЦЕНА\\n800МЛ</td>\n",
       "      <td>0.0017</td>\n",
       "      <td>Молоко КРАСНАЯ ЦЕНА\\n800мл\\nмит.паст.2,5%</td>\n",
       "    </tr>\n",
       "  </tbody>\n",
       "</table>\n",
       "</div>"
      ],
      "text/plain": [
       "       file_name                                               text  \\\n",
       "0          test1                                ТЕСТ_1 ГРАММЫ\\n1r\\n   \n",
       "1          test2                 ТЕСТ_2 КИЛОГРАММЫ\\n1кг 1кr 1kr 1кr   \n",
       "2          test3                             ТЕСТ_3 ЛИТРЫ\\n1л 1п 1n   \n",
       "3          test4             ТЕСТ_4 МИЛЛИЛИТРЫ\\n1мл 1mn 1мn 1mл 1мп   \n",
       "4          test5         ТЕСТ_5 УПАКОВКИ\\n1уп 1yп 1yn 1уn 1ул 1yп\\n   \n",
       "5          test6              ТЕСТ_6 ПУСТЫЕ СТРОКИ\\n\\nтретья строка   \n",
       "6          test7               ТЕСТ_7 СПЕЦСИМВОЛЫ\\n!\"№;%:?*().,}{<>   \n",
       "7          test8  ТЕСТ_8 НЕ ОБРАБАТЫВАТЬ ТРЕТЬЮ СТРОКУ\\nВТОРАЯ С...   \n",
       "8  names/930.jpg                         Молоко КРАСНАЯ ЦЕНА\\n800мл   \n",
       "\n",
       "   elapsed_time                                     corrected_text  \\\n",
       "0           NaN                                ТЕСТ_1 ГРАММЫ\\n1Г\\n   \n",
       "1           NaN                 ТЕСТ_2 КИЛОГРАММЫ\\n1КГ 1КГ 1КГ 1КГ   \n",
       "2           NaN                             ТЕСТ_3 ЛИТРЫ\\n1Л 1Л 1Л   \n",
       "3           NaN             ТЕСТ_4 МИЛЛИЛИТРЫ\\n1МЛ 1МЛ 1МЛ 1МЛ 1МЛ   \n",
       "4           NaN         ТЕСТ_5 УПАКОВКИ\\n1УП 1УП 1УП 1УП 1УП 1УП\\n   \n",
       "5           NaN                ТЕСТ_6 ПУСТЫЕ СТРОКИ\\nтретья строка   \n",
       "6           NaN               ТЕСТ_7 СПЕЦСИМВОЛЫ\\n!\"№;%:?*().,}{<>   \n",
       "7           NaN  ТЕСТ_8 НЕ ОБРАБАТЫВАТЬ ТРЕТЬЮ СТРОКУ\\nВТОРАЯ С...   \n",
       "8         2.055                         МОЛОКО КРАСНАЯ ЦЕНА\\n800МЛ   \n",
       "\n",
       "   elapsed_time_corrected                              original_text  \n",
       "0                     NaN                                        NaN  \n",
       "1                     NaN                                        NaN  \n",
       "2                     NaN                                        NaN  \n",
       "3                     NaN                                        NaN  \n",
       "4                     NaN                                        NaN  \n",
       "5                     NaN                                        NaN  \n",
       "6                     NaN                                        NaN  \n",
       "7                     NaN                                        NaN  \n",
       "8                  0.0017  Молоко КРАСНАЯ ЦЕНА\\n800мл\\nмит.паст.2,5%  "
      ]
     },
     "execution_count": 39,
     "metadata": {},
     "output_type": "execute_result"
    }
   ],
   "source": [
    "df_test_correction"
   ]
  },
  {
   "cell_type": "markdown",
   "id": "457f8d6b-10b1-4959-a3ba-d9b62c3bee51",
   "metadata": {},
   "source": [
    "# Корректор"
   ]
  },
  {
   "cell_type": "code",
   "execution_count": 40,
   "id": "c957323a-2c2f-42b9-a7c7-44d9d36a6214",
   "metadata": {},
   "outputs": [],
   "source": [
    "corrector = PhraseCorrectorByWords(\"data/words.txt\")"
   ]
  },
  {
   "cell_type": "markdown",
   "id": "9e5509ad-b957-4855-a26e-ed329d430696",
   "metadata": {},
   "source": [
    "## Проверяем работу корректора\n"
   ]
  },
  {
   "cell_type": "code",
   "execution_count": 41,
   "id": "30d34864",
   "metadata": {},
   "outputs": [
    {
     "name": "stderr",
     "output_type": "stream",
     "text": [
      "100%|██████████| 9/9 [00:00<00:00, 202.26it/s]\n"
     ]
    }
   ],
   "source": [
    "with open(f\"results_correction.tsv\", \"w\", encoding=\"utf-8\") as f:\n",
    "        writer = csv.writer(f, delimiter=\"\\t\", quoting=csv.QUOTE_MINIMAL)\n",
    "        writer.writerow(CSVRow.model_fields.keys())\n",
    "    \n",
    "        for index, row in tqdm(df_test_correction.iterrows(), total=len(df_test_correction)):\n",
    "            txt = row['text']\n",
    "            original_text = str(row['original_text'])\n",
    "\n",
    "\n",
    "\n",
    "            with Timer() as timer_corrected:\n",
    "                corrected_text , _ = correct_text(txt, corrector)\n",
    "            elapsed_time_corrected = timer_corrected.elapsed\n",
    "\n",
    "\n",
    "            csv_row = CSVRow(\n",
    "                file_name=row['file_name'],\n",
    "                text=txt,\n",
    "                elapsed_time=0,\n",
    "                corrected_text=corrected_text,\n",
    "                elapsed_time_corrected=elapsed_time_corrected,\n",
    "                original_text=original_text\n",
    "    )\n",
    "\n",
    "\n",
    "            writer.writerow(csv_row.model_dump().values())\n",
    "            f.flush()"
   ]
  },
  {
   "cell_type": "code",
   "execution_count": 42,
   "id": "c92bc465",
   "metadata": {},
   "outputs": [
    {
     "name": "stdout",
     "output_type": "stream",
     "text": [
      "1.0001\n"
     ]
    }
   ],
   "source": [
    "with Timer() as t:\n",
    "    time.sleep(1)\n",
    "\n",
    "print(t.elapsed)"
   ]
  },
  {
   "cell_type": "code",
   "execution_count": 43,
   "id": "ffe32cbf-c410-4d04-834c-a43c08c8c32b",
   "metadata": {},
   "outputs": [],
   "source": [
    "DATA_BASE_DIR = Path(\"/home/jovyan/work/data\")"
   ]
  },
  {
   "cell_type": "code",
   "execution_count": 44,
   "id": "0b26a51b-ef26-4035-a5cd-df22094d701d",
   "metadata": {},
   "outputs": [],
   "source": [
    "with open(DATA_BASE_DIR / \"test_dataset.json\", \"r\") as f:\n",
    "    test_data = json.load(f)"
   ]
  },
  {
   "cell_type": "code",
   "execution_count": 45,
   "id": "23b57c55-b2dc-4e59-94f1-570691759b35",
   "metadata": {},
   "outputs": [
    {
     "data": {
      "text/plain": [
       "[{'image_path': 'names/930.jpg',\n",
       "  'text': 'Молоко КРАСНАЯ ЦЕНА\\n800мл\\nмит.паст.2,5%'}]"
      ]
     },
     "execution_count": 45,
     "metadata": {},
     "output_type": "execute_result"
    }
   ],
   "source": [
    "test_data[:1]"
   ]
  },
  {
   "cell_type": "code",
   "execution_count": 46,
   "id": "07288c4d",
   "metadata": {},
   "outputs": [
    {
     "name": "stdout",
     "output_type": "stream",
     "text": [
      "Loaded as API: http://qwen_api:7860/ ✔\n"
     ]
    }
   ],
   "source": [
    "client = Client(\"http://qwen_api:7860/\")"
   ]
  },
  {
   "cell_type": "code",
   "execution_count": 47,
   "id": "fbe73f00",
   "metadata": {},
   "outputs": [],
   "source": [
    "SYSTEM_PROMPT = '''\n",
    "Ты система распознавания текста, которая распознает текст с русских ценников в супермаркетах. В тексте могут встречаться названия на английском.\n",
    "Выведи только текст, построчно, в точности как на изображении. Без дополнительной информации. Не переводи слова на другой язык.\n",
    "'''"
   ]
  },
  {
   "cell_type": "code",
   "execution_count": 48,
   "id": "945feb27",
   "metadata": {},
   "outputs": [],
   "source": [
    "def  predict(file_path, model_name = \"Qwen2_5-7b\"):    \n",
    "    result = client.predict(\n",
    "\t\tsystem_prompt =SYSTEM_PROMPT,\n",
    "\t\tuser_prompt=\"\",\n",
    "\t\timage=handle_file(file_path),\n",
    "        #image=None,\n",
    "\t\tselected_model=model_name,\n",
    "\t\ttemperature=0.2,\n",
    "\t\tapi_name=\"/predict\"\n",
    "\t)\n",
    "    return result"
   ]
  },
  {
   "cell_type": "code",
   "execution_count": 49,
   "id": "8b8317fd-569c-4713-b8bb-30337fc31c64",
   "metadata": {},
   "outputs": [
    {
     "data": {
      "text/plain": [
       "'Вода святой источник\\n1.0л\\nприродная питьевая негаз.ПЭТ'"
      ]
     },
     "execution_count": 49,
     "metadata": {},
     "output_type": "execute_result"
    }
   ],
   "source": [
    "predict(DATA_BASE_DIR / \"names/1.jpg\")"
   ]
  },
  {
   "cell_type": "code",
   "execution_count": 50,
   "id": "29b6facc",
   "metadata": {},
   "outputs": [],
   "source": [
    "def mass_experiment(model_name, limit=1, debug=False, prefix=\"\"):\n",
    "    with open(f\"results_{prefix}{model_name}.tsv\", \"w\", encoding=\"utf-8\") as f:\n",
    "        writer = csv.writer(f, delimiter=\"\\t\", quoting=csv.QUOTE_MINIMAL)\n",
    "        writer.writerow(CSVRow.model_fields.keys())\n",
    "    \n",
    "        for item in tqdm(test_data[:limit], desc=\"Process images\", unit=\"image\"):\n",
    "            try:\n",
    "                file_name = item[\"image_path\"]\n",
    "                original_text = item[\"text\"]\n",
    "                row = CSVRow(\n",
    "                    file_name=file_name,\n",
    "                    text=\"\",\n",
    "                    elapsed_time=0.0,\n",
    "                    corrected_text=\"\",\n",
    "                    elapsed_time_corrected=0.0,\n",
    "                    original_text=original_text\n",
    "                )\n",
    "    \n",
    "                file_path = DATA_BASE_DIR / file_name\n",
    "    \n",
    "                # Чтение изображения\n",
    "                if debug:\n",
    "                    try:\n",
    "                        img = mpimg.imread(file_path)\n",
    "                        plt.imshow(img)\n",
    "                        plt.axis('off')\n",
    "                        plt.show()\n",
    "                    except Exception as img_error:\n",
    "                        print(f\"[Ошибка изображения] {file_name}: {img_error}\")\n",
    "                        continue  # пропустить эту строку\n",
    "        \n",
    "                # Предсказание\n",
    "                with Timer() as t:\n",
    "                    result = predict(file_path, model_name)\n",
    "                row.elapsed_time = t.elapsed\n",
    "                row.text = result\n",
    "    \n",
    "                # Коррекция\n",
    "                with Timer() as t:\n",
    "                    corrected_result, _ = correct_text(result, corrector)\n",
    "                row.elapsed_time_corrected = t.elapsed\n",
    "                row.corrected_text = corrected_result\n",
    "    \n",
    "                # Лог + запись\n",
    "                if debug:\n",
    "                    print(json.dumps(row.model_dump(), indent=4, ensure_ascii=False))\n",
    "                writer.writerow(row.model_dump().values())\n",
    "                f.flush()\n",
    "    \n",
    "            except Exception as e:\n",
    "                print(f\"[Общая ошибка] {item['image_path']}: {e}\")\n",
    "                continue\n"
   ]
  },
  {
   "cell_type": "code",
   "execution_count": 51,
   "id": "935a4139-fe95-4ec9-814b-94f2c3410a3e",
   "metadata": {},
   "outputs": [],
   "source": [
    "model_names = [\n",
    "    \"Qwen2_5-7b\",\n",
    "    \"Qwen2_5-3b_finetuned\",\n",
    "    \"Qwen2_5-7b_finetuned\",\n",
    "    \"Qwen2-vl-7b_finetuned\",\n",
    "    \"Qwen2_5-3b\",\n",
    "    \"Qwen2-vl-7b\"\n",
    "]"
   ]
  },
  {
   "cell_type": "markdown",
   "id": "5c034303-9614-4e4a-993d-63f8656e8d96",
   "metadata": {},
   "source": [
    "# Запуск экспериментов"
   ]
  },
  {
   "cell_type": "code",
   "execution_count": null,
   "id": "9cf68d7c-38da-4a82-b7f7-8dfb3bcb16a3",
   "metadata": {},
   "outputs": [
    {
     "name": "stdout",
     "output_type": "stream",
     "text": [
      "Qwen2_5-7b\n"
     ]
    },
    {
     "name": "stderr",
     "output_type": "stream",
     "text": [
      "Process images:   2%|▏         | 3/198 [00:04<03:42,  1.14s/image]"
     ]
    },
    {
     "name": "stdout",
     "output_type": "stream",
     "text": [
      "[Общая ошибка] names/577.jpg: The upstream Gradio app has raised an exception but has not enabled verbose error reporting. To enable, set show_error=True in launch().\n"
     ]
    },
    {
     "name": "stderr",
     "output_type": "stream",
     "text": [
      "Process images:  25%|██▌       | 50/198 [01:55<05:15,  2.13s/image]"
     ]
    },
    {
     "name": "stdout",
     "output_type": "stream",
     "text": [
      "[Общая ошибка] names/524.jpg: The upstream Gradio app has raised an exception but has not enabled verbose error reporting. To enable, set show_error=True in launch().\n"
     ]
    },
    {
     "name": "stderr",
     "output_type": "stream",
     "text": [
      "Process images:  39%|███▉      | 77/198 [03:03<05:42,  2.83s/image]"
     ]
    }
   ],
   "source": [
    "for model_name in model_names:\n",
    "    print(model_name)\n",
    "    mass_experiment(model_name, -1, False, \"\")"
   ]
  },
  {
   "cell_type": "code",
   "execution_count": null,
   "id": "567bd37b-6338-4a63-b35d-056d7c0f0ae3",
   "metadata": {},
   "outputs": [],
   "source": []
  }
 ],
 "metadata": {
  "kernelspec": {
   "display_name": "Python 3 (ipykernel)",
   "language": "python",
   "name": "python3"
  },
  "language_info": {
   "codemirror_mode": {
    "name": "ipython",
    "version": 3
   },
   "file_extension": ".py",
   "mimetype": "text/x-python",
   "name": "python",
   "nbconvert_exporter": "python",
   "pygments_lexer": "ipython3",
   "version": "3.11.6"
  }
 },
 "nbformat": 4,
 "nbformat_minor": 5
}
