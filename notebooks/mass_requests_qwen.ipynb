{
 "cells": [
  {
   "cell_type": "code",
   "execution_count": null,
   "id": "92951c1c",
   "metadata": {},
   "outputs": [],
   "source": [
    "from gradio_client import Client, handle_file   \n",
    "# импорт contenxtmanager\n",
    "from contextlib import contextmanager\n",
    "import time\n",
    "import os\n",
    "from pydantic import BaseModel, Field\n",
    "import csv\n",
    "from rapidfuzz import process, fuzz\n",
    "import re\n",
    "\n",
    "from tqdm import tqdm\n",
    "from matplotlib import pyplot as plt\n",
    "import matplotlib.image as mpimg\n",
    "import pandas as pd\n",
    "import json\n",
    "from pathlib import Path"
   ]
  },
  {
   "cell_type": "code",
   "execution_count": 34,
   "id": "e38d5848",
   "metadata": {},
   "outputs": [],
   "source": [
    "class Timer:\n",
    "    def __enter__(self):\n",
    "        self.start = time.time()\n",
    "        return self  # возвращаем self, чтобы получить доступ к elapsed_time\n",
    "\n",
    "    def __exit__(self, exc_type, exc_val, exc_tb):\n",
    "        self.end = time.time()\n",
    "        self.elapsed = round(self.end - self.start,4)\n",
    "        #print(f\"Cell execution time: {self.elapsed:.4f} seconds\")\n"
   ]
  },
  {
   "cell_type": "code",
   "execution_count": 30,
   "id": "a2a84b9e-2b7a-47ea-9820-3803927f9783",
   "metadata": {},
   "outputs": [],
   "source": [
    "from packages.word_corrector.src.core import   PhraseCorrectorByWords, PhraseCorrectorNgrams, correct_text"
   ]
  },
  {
   "cell_type": "markdown",
   "id": "457f8d6b-10b1-4959-a3ba-d9b62c3bee51",
   "metadata": {},
   "source": [
    "# Корректор"
   ]
  },
  {
   "cell_type": "code",
   "execution_count": 31,
   "id": "c957323a-2c2f-42b9-a7c7-44d9d36a6214",
   "metadata": {},
   "outputs": [],
   "source": [
    "corrector = PhraseCorrectorByWords(\"data/words.txt\")"
   ]
  },
  {
   "cell_type": "code",
   "execution_count": 32,
   "id": "7f3795ce-1e18-46e2-99c5-dade0cea27fa",
   "metadata": {},
   "outputs": [
    {
     "name": "stdout",
     "output_type": "stream",
     "text": [
      "Исходный текст:\n",
      " \n",
      "Пюре Фрутонята\n",
      "Пюре Фруктоня\n",
      "Цыпленок 80г\n",
      "Цыпденок 80r\n",
      "Мясое изделие для детского питания\n",
      "\n",
      "Исправленный текст:\n",
      " \n",
      "ПЮРЕ ФРУТОНЯНЯ\n",
      "Пюре Фруктоня\n",
      "Цыпленок 80г\n",
      "Цыпденок 80r\n",
      "Мясое изделие для детского питания\n",
      "\n",
      "Лог исправлений:\n",
      " ['', 'ПЮРЕ ФРУТОНЯНЯ', 'Пюре Фруктоня', 'Цыпленок 80г', 'Цыпденок 80r', 'Мясое изделие для детского питания', '']\n",
      "--------------------------------------------------\n",
      "Исходный текст:\n",
      " \n",
      "Пюре фруктоня\n",
      "цыбленок 80000г\n",
      "мясное для детского питания\n",
      "\n",
      "Исправленный текст:\n",
      " \n",
      "ПЮРЕ ФРУТОНЯНЯ\n",
      "цыбленок 80000г\n",
      "мясное для детского питания\n",
      "\n",
      "Лог исправлений:\n",
      " ['', 'ПЮРЕ ФРУТОНЯНЯ', 'цыбленок 80000г', 'мясное для детского питания', '']\n",
      "--------------------------------------------------\n",
      "Исходный текст:\n",
      " \n",
      "бальзам ШАУМ 7\n",
      "ТРАВ 300мл \n",
      "для нормальных и жирных волос\n",
      "\n",
      "Исправленный текст:\n",
      " \n",
      "БАЛЬЗАМ ШАУМ 7\n",
      "ТРАВ 300мл \n",
      "для нормальных и жирных волос\n",
      "\n",
      "Лог исправлений:\n",
      " ['', 'БАЛЬЗАМ ШАУМ 7', 'ТРАВ 300мл ', 'для нормальных и жирных волос', '']\n",
      "--------------------------------------------------\n",
      "Исходный текст:\n",
      " \n",
      "Тютюнок Занукелия\n",
      "500 мг\n",
      "\n",
      "Исправленный текст:\n",
      " \n",
      "ТЮТЮНОК ЗАНУКЕЛИЯ\n",
      "500 мг\n",
      "\n",
      "Лог исправлений:\n",
      " ['', 'ТЮТЮНОК ЗАНУКЕЛИЯ', '500 мг', '']\n",
      "--------------------------------------------------\n",
      "Исходный текст:\n",
      " \n",
      "Вино АБРАУ-ДЮРОСО\n",
      "0.75л\n",
      "13% объёмное, белое п/с\n",
      "\n",
      "Исправленный текст:\n",
      " \n",
      "ВИНО АБРАУ-ДЮРСО\n",
      "0.75л\n",
      "13% объёмное, белое п/с\n",
      "\n",
      "Лог исправлений:\n",
      " ['', 'ВИНО АБРАУ-ДЮРСО', '0.75л', '13% объёмное, белое п/с', '']\n",
      "--------------------------------------------------\n"
     ]
    }
   ],
   "source": [
    "to_be_corerected_corpus  = []\n",
    "to_be_corerected_corpus.append( '''\n",
    "Пюре Фрутонята\n",
    "Пюре Фруктоня\n",
    "Цыпленок 80г\n",
    "Цыпденок 80r\n",
    "Мясое изделие для детского питания\n",
    "''')\n",
    "to_be_corerected_corpus.append('''\n",
    "Пюре фруктоня\n",
    "цыбленок 80000г\n",
    "мясное для детского питания\n",
    "''')\n",
    "to_be_corerected_corpus.append('''\n",
    "бальзам ШАУМ 7\n",
    "ТРАВ 300мл \n",
    "для нормальных и жирных волос\n",
    "''')\n",
    "to_be_corerected_corpus.append('''\n",
    "Тютюнок Занукелия\n",
    "500 мг\n",
    "''')\n",
    "to_be_corerected_corpus.append('''\n",
    "Вино АБРАУ-ДЮРОСО\n",
    "0.75л\n",
    "13% объёмное, белое п/с\n",
    "''')\n",
    "\n",
    "for text in to_be_corerected_corpus:\n",
    "    print(\"Исходный текст:\\n\", text)\n",
    "    corrected_text, corrections_log = correct_text(text, corrector)\n",
    "    print(\"Исправленный текст:\\n\", corrected_text)\n",
    "    print(\"Лог исправлений:\\n\", corrections_log)\n",
    "    print(\"-\" * 50)\n",
    "\n",
    "\n"
   ]
  },
  {
   "cell_type": "code",
   "execution_count": 35,
   "id": "c92bc465",
   "metadata": {},
   "outputs": [
    {
     "name": "stdout",
     "output_type": "stream",
     "text": [
      "1.0001\n"
     ]
    }
   ],
   "source": [
    "with Timer() as t:\n",
    "    time.sleep(1)\n",
    "\n",
    "print(t.elapsed)"
   ]
  },
  {
   "cell_type": "code",
   "execution_count": 36,
   "id": "ffe32cbf-c410-4d04-834c-a43c08c8c32b",
   "metadata": {},
   "outputs": [],
   "source": [
    "DATA_BASE_DIR = Path(\"/home/jovyan/work/data\")"
   ]
  },
  {
   "cell_type": "code",
   "execution_count": 37,
   "id": "0b26a51b-ef26-4035-a5cd-df22094d701d",
   "metadata": {},
   "outputs": [],
   "source": [
    "with open(DATA_BASE_DIR / \"test_dataset.json\", \"r\") as f:\n",
    "    test_data = json.load(f)"
   ]
  },
  {
   "cell_type": "code",
   "execution_count": 39,
   "id": "23b57c55-b2dc-4e59-94f1-570691759b35",
   "metadata": {},
   "outputs": [
    {
     "data": {
      "text/plain": [
       "[{'image_path': 'names/930.jpg',\n",
       "  'text': 'Молоко КРАСНАЯ ЦЕНА\\n800мл\\nмит.паст.2,5%'}]"
      ]
     },
     "execution_count": 39,
     "metadata": {},
     "output_type": "execute_result"
    }
   ],
   "source": [
    "test_data[:1]"
   ]
  },
  {
   "cell_type": "code",
   "execution_count": 40,
   "id": "07288c4d",
   "metadata": {},
   "outputs": [
    {
     "name": "stdout",
     "output_type": "stream",
     "text": [
      "Loaded as API: http://qwen_api:7860/ ✔\n"
     ]
    }
   ],
   "source": [
    "client = Client(\"http://qwen_api:7860/\")"
   ]
  },
  {
   "cell_type": "code",
   "execution_count": 41,
   "id": "fbe73f00",
   "metadata": {},
   "outputs": [],
   "source": [
    "SYSTEM_PROMPT = '''\n",
    "Ты система распознавания текста, которая распознает текст с русских ценников в супермаркетах. В тексте могут встречаться названия на английском.\n",
    "Выведи только текст, построчно, в точности как на изображении. Без дополнительной информации. Не переводи слова на другой язык.\n",
    "'''"
   ]
  },
  {
   "cell_type": "code",
   "execution_count": 42,
   "id": "945feb27",
   "metadata": {},
   "outputs": [],
   "source": [
    "def  predict(file_path, model_name = \"Qwen2_5-7b\"):    \n",
    "    result = client.predict(\n",
    "\t\tsystem_prompt =SYSTEM_PROMPT,\n",
    "\t\tuser_prompt=\"\",\n",
    "\t\timage=handle_file(file_path),\n",
    "        #image=None,\n",
    "\t\tselected_model=model_name,\n",
    "\t\ttemperature=0.2,\n",
    "\t\tapi_name=\"/predict\"\n",
    "\t)\n",
    "    return result"
   ]
  },
  {
   "cell_type": "code",
   "execution_count": 43,
   "id": "8b8317fd-569c-4713-b8bb-30337fc31c64",
   "metadata": {},
   "outputs": [
    {
     "data": {
      "text/plain": [
       "'Вода святой источник\\n1.0л\\nприродная питьевая негаз.ПЭТ'"
      ]
     },
     "execution_count": 43,
     "metadata": {},
     "output_type": "execute_result"
    }
   ],
   "source": [
    "predict(DATA_BASE_DIR / \"names/1.jpg\")"
   ]
  },
  {
   "cell_type": "code",
   "execution_count": 45,
   "id": "86d61a57",
   "metadata": {},
   "outputs": [],
   "source": [
    "class CSVRow(BaseModel):\n",
    "    file_name: str\n",
    "    text: str\n",
    "    elapsed_time: float\n",
    "    corrected_text: str\n",
    "    elapsed_time_corrected: float\n",
    "    original_text:str\n"
   ]
  },
  {
   "cell_type": "code",
   "execution_count": 49,
   "id": "29b6facc",
   "metadata": {},
   "outputs": [],
   "source": [
    "def mass_experiment(model_name, limit=1, debug=False, prefix=\"\"):\n",
    "    with open(f\"results_{prefix}{model_name}.tsv\", \"w\", encoding=\"utf-8\") as f:\n",
    "        writer = csv.writer(f, delimiter=\"\\t\", quoting=csv.QUOTE_MINIMAL)\n",
    "        writer.writerow(CSVRow.model_fields.keys())\n",
    "    \n",
    "        for item in tqdm(test_data[:limit], desc=\"Process images\", unit=\"image\"):\n",
    "            try:\n",
    "                file_name = item[\"image_path\"]\n",
    "                original_text = item[\"text\"]\n",
    "                row = CSVRow(\n",
    "                    file_name=file_name,\n",
    "                    text=\"\",\n",
    "                    elapsed_time=0.0,\n",
    "                    corrected_text=\"\",\n",
    "                    elapsed_time_corrected=0.0,\n",
    "                    original_text=original_text\n",
    "                )\n",
    "    \n",
    "                file_path = DATA_BASE_DIR / file_name\n",
    "    \n",
    "                # Чтение изображения\n",
    "                if debug:\n",
    "                    try:\n",
    "                        img = mpimg.imread(file_path)\n",
    "                        plt.imshow(img)\n",
    "                        plt.axis('off')\n",
    "                        plt.show()\n",
    "                    except Exception as img_error:\n",
    "                        print(f\"[Ошибка изображения] {file_name}: {img_error}\")\n",
    "                        continue  # пропустить эту строку\n",
    "        \n",
    "                # Предсказание\n",
    "                with Timer() as t:\n",
    "                    result = predict(file_path, model_name)\n",
    "                row.elapsed_time = t.elapsed\n",
    "                row.text = result\n",
    "    \n",
    "                # Коррекция\n",
    "                with Timer() as t:\n",
    "                    corrected_result, _ = correct_text(result, corrector)\n",
    "                row.elapsed_time_corrected = t.elapsed\n",
    "                row.corrected_text = corrected_result\n",
    "    \n",
    "                # Лог + запись\n",
    "                if debug:\n",
    "                    print(json.dumps(row.model_dump(), indent=4, ensure_ascii=False))\n",
    "                writer.writerow(row.model_dump().values())\n",
    "                f.flush()\n",
    "    \n",
    "            except Exception as e:\n",
    "                print(f\"[Общая ошибка] {item['image_path']}: {e}\")\n",
    "                continue\n"
   ]
  },
  {
   "cell_type": "code",
   "execution_count": 47,
   "id": "935a4139-fe95-4ec9-814b-94f2c3410a3e",
   "metadata": {},
   "outputs": [],
   "source": [
    "model_names = [\n",
    "    \"Qwen2_5-3b_finetuned\",\n",
    "    \"Qwen2_5-7b_finetuned\",\n",
    "    \"Qwen2-vl-7b_finetuned\",\n",
    "    \"Qwen2_5-3b\",\n",
    "    \"Qwen2_5-7b\",\n",
    "    \"Qwen2-vl-7b\"\n",
    "]"
   ]
  },
  {
   "cell_type": "markdown",
   "id": "5c034303-9614-4e4a-993d-63f8656e8d96",
   "metadata": {},
   "source": [
    "# Запуск экспериментов"
   ]
  },
  {
   "cell_type": "code",
   "execution_count": null,
   "id": "9cf68d7c-38da-4a82-b7f7-8dfb3bcb16a3",
   "metadata": {},
   "outputs": [
    {
     "name": "stdout",
     "output_type": "stream",
     "text": [
      "Qwen2_5-3b_finetuned\n"
     ]
    },
    {
     "name": "stderr",
     "output_type": "stream",
     "text": [
      "Process images:   2%|▏         | 3/198 [00:26<25:35,  7.87s/image]"
     ]
    },
    {
     "name": "stdout",
     "output_type": "stream",
     "text": [
      "[Общая ошибка] names/577.jpg: The upstream Gradio app has raised an exception but has not enabled verbose error reporting. To enable, set show_error=True in launch().\n"
     ]
    },
    {
     "name": "stderr",
     "output_type": "stream",
     "text": [
      "Process images:  14%|█▍        | 28/198 [02:37<17:07,  6.04s/image]"
     ]
    }
   ],
   "source": [
    "for model_name in model_names:\n",
    "    print(model_name)\n",
    "    mass_experiment(model_name, -1, False, \"wordscorrection_\")"
   ]
  }
 ],
 "metadata": {
  "kernelspec": {
   "display_name": "Python 3 (ipykernel)",
   "language": "python",
   "name": "python3"
  },
  "language_info": {
   "codemirror_mode": {
    "name": "ipython",
    "version": 3
   },
   "file_extension": ".py",
   "mimetype": "text/x-python",
   "name": "python",
   "nbconvert_exporter": "python",
   "pygments_lexer": "ipython3",
   "version": "3.11.6"
  }
 },
 "nbformat": 4,
 "nbformat_minor": 5
}
