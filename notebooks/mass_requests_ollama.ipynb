{
 "cells": [
  {
   "cell_type": "code",
   "execution_count": 6,
   "id": "92951c1c",
   "metadata": {},
   "outputs": [],
   "source": [
    "from gradio_client import Client, handle_file   \n",
    "# импорт contenxtmanager\n",
    "from contextlib import contextmanager\n",
    "import time\n",
    "import os\n",
    "from pydantic import BaseModel, Field\n",
    "import csv\n",
    "from rapidfuzz import process, fuzz\n",
    "import re\n",
    "\n",
    "from tqdm import tqdm\n",
    "from matplotlib import pyplot as plt\n",
    "import matplotlib.image as mpimg\n",
    "import pandas as pd\n",
    "import json"
   ]
  },
  {
   "cell_type": "code",
   "execution_count": 2,
   "id": "e38d5848",
   "metadata": {},
   "outputs": [],
   "source": [
    "class Timer:\n",
    "    def __enter__(self):\n",
    "        self.start = time.time()\n",
    "        return self  # возвращаем self, чтобы получить доступ к elapsed_time\n",
    "\n",
    "    def __exit__(self, exc_type, exc_val, exc_tb):\n",
    "        self.end = time.time()\n",
    "        self.elapsed = round(self.end - self.start,4)\n",
    "        #print(f\"Cell execution time: {self.elapsed:.4f} seconds\")\n"
   ]
  },
  {
   "cell_type": "code",
   "execution_count": 3,
   "id": "c92bc465",
   "metadata": {},
   "outputs": [
    {
     "name": "stdout",
     "output_type": "stream",
     "text": [
      "1.0001\n"
     ]
    }
   ],
   "source": [
    "with Timer() as t:\n",
    "    time.sleep(1)\n",
    "\n",
    "print(t.elapsed)"
   ]
  },
  {
   "cell_type": "code",
   "execution_count": 4,
   "id": "ffe32cbf-c410-4d04-834c-a43c08c8c32b",
   "metadata": {},
   "outputs": [],
   "source": [
    "DATA_BASE_DIR = \"/home/jovyan/names\""
   ]
  },
  {
   "cell_type": "code",
   "execution_count": 5,
   "id": "5fb4dcfc",
   "metadata": {},
   "outputs": [],
   "source": [
    "# Get all jpg files\n",
    "def get_all_files():\n",
    "    files = []\n",
    "    for root, dirs, filenames in os.walk(DATA_BASE_DIR):\n",
    "        for filename in filenames:\n",
    "            if filename.endswith(\".jpg\"):\n",
    "                files.append(os.path.join(root, filename))\n",
    "    return files"
   ]
  },
  {
   "cell_type": "code",
   "execution_count": 6,
   "id": "e92c7994",
   "metadata": {},
   "outputs": [
    {
     "data": {
      "text/plain": [
       "['/home/jovyan/names/267.jpg',\n",
       " '/home/jovyan/names/879.jpg',\n",
       " '/home/jovyan/names/102.jpg',\n",
       " '/home/jovyan/names/861.jpg',\n",
       " '/home/jovyan/names/785.jpg',\n",
       " '/home/jovyan/names/162.jpg',\n",
       " '/home/jovyan/names/490.jpg',\n",
       " '/home/jovyan/names/872.jpg',\n",
       " '/home/jovyan/names/39.jpg',\n",
       " '/home/jovyan/names/797.jpg']"
      ]
     },
     "execution_count": 6,
     "metadata": {},
     "output_type": "execute_result"
    }
   ],
   "source": [
    "all_files = get_all_files()\n",
    "all_files[:10]"
   ]
  },
  {
   "cell_type": "code",
   "execution_count": 7,
   "id": "07288c4d",
   "metadata": {},
   "outputs": [
    {
     "name": "stdout",
     "output_type": "stream",
     "text": [
      "Loaded as API: http://api:7860/ ✔\n"
     ]
    }
   ],
   "source": [
    "client = Client(\"http://api:7860/\")"
   ]
  },
  {
   "cell_type": "code",
   "execution_count": 8,
   "id": "fbe73f00",
   "metadata": {},
   "outputs": [],
   "source": [
    "SYSTEM_PROMPT = '''\n",
    "Вы — ассистент, который извлекает информацию с русских товарных этикеток на изображениях. В тексте могут встречаться названия на английском.\n",
    "Выведи Только текст, без лишних слов. Никаких объяснений.\n",
    "'''"
   ]
  },
  {
   "cell_type": "code",
   "execution_count": 9,
   "id": "945feb27",
   "metadata": {},
   "outputs": [],
   "source": [
    "def  predict(file_path, model_name = \"gemma3:4b\"):    \n",
    "    result = client.predict(\n",
    "\t\tsystem_prompt =SYSTEM_PROMPT,\n",
    "\t\tuser_prompt=\"\",\n",
    "\t\timage=handle_file(file_path),\n",
    "        #image=None,\n",
    "\t\tselected_model=model_name,\n",
    "\t\ttemperator=0.2,\n",
    "\t\tapi_name=\"/predict\"\n",
    "\t)\n",
    "    return result"
   ]
  },
  {
   "cell_type": "code",
   "execution_count": 10,
   "id": "e1e6485f",
   "metadata": {},
   "outputs": [],
   "source": [
    "\n",
    "\n",
    "class PhraseCorrector:\n",
    "    def __init__(self, words_file=\"words.csv\",score_cutoff=70, min_len = 5):\n",
    "        with open(words_file, \"r\", encoding=\"utf-8\") as f:\n",
    "            self.reference_words = [line.strip() for line in f]\n",
    "        self.score_cutoff = score_cutoff\n",
    "        self.min_len = min_len\n",
    "\n",
    "\n",
    "\n",
    "\n",
    "\n",
    "    def correct_words_in_text(self,text):\n",
    "        corrected_lines = []\n",
    "        for line in text.strip().split('\\n'):\n",
    "            corrected_words = []\n",
    "            words = re.split(r\"[ \\t\\f\\v.,!?;:()\\\"«»—–\\-\\/]+\", line.upper().replace(\"Ё\", \"Е\"))\n",
    "            words = list(filter(None, words))  # убираем пустые строки, если они есть\n",
    "        \n",
    "            for word in words:\n",
    "                if len(word) < self.min_len:\n",
    "                    corrected_words.append(word)\n",
    "                    continue\n",
    "                # Ищем наиболее близкое слово из словаря\n",
    "                match = process.extractOne(word, self.reference_words, scorer=fuzz.ratio, score_cutoff=self.score_cutoff)\n",
    "                #print(match)\n",
    "                corrected_word = match[0] if match else word\n",
    "                corrected_words.append(corrected_word)\n",
    "            corrected_lines.append(' '.join(corrected_words))\n",
    "        return '\\n'.join(corrected_lines)"
   ]
  },
  {
   "cell_type": "code",
   "execution_count": 11,
   "id": "a984660b",
   "metadata": {},
   "outputs": [],
   "source": [
    "phrase_corrector = PhraseCorrector(\"words.txt\")"
   ]
  },
  {
   "cell_type": "code",
   "execution_count": null,
   "id": "86d61a57",
   "metadata": {},
   "outputs": [],
   "source": [
    "class CSVRow(BaseModel):\n",
    "    file_name: str\n",
    "    text: str\n",
    "    elapsed_time: float\n",
    "    corrected_text: str\n",
    "    elapsed_time_corrected: float\n"
   ]
  },
  {
   "cell_type": "code",
   "execution_count": 23,
   "id": "29b6facc",
   "metadata": {},
   "outputs": [
    {
     "name": "stderr",
     "output_type": "stream",
     "text": [
      "Process images:   0%|          | 0/10 [00:00<?, ?image/s]"
     ]
    },
    {
     "data": {
      "image/png": "[encoded data removed]",
      "text/plain": [
       "<Figure size 640x480 with 1 Axes>"
      ]
     },
     "metadata": {},
     "output_type": "display_data"
    },
    {
     "name": "stderr",
     "output_type": "stream",
     "text": [
      "Process images:   0%|          | 0/10 [00:03<?, ?image/s]\n"
     ]
    },
    {
     "ename": "KeyboardInterrupt",
     "evalue": "",
     "output_type": "error",
     "traceback": [
      "\u001b[0;31m---------------------------------------------------------------------------\u001b[0m",
      "\u001b[0;31mKeyboardInterrupt\u001b[0m                         Traceback (most recent call last)",
      "Cell \u001b[0;32mIn[23], line 24\u001b[0m\n\u001b[1;32m     21\u001b[0m plt\u001b[38;5;241m.\u001b[39mshow() \n\u001b[1;32m     23\u001b[0m \u001b[38;5;28;01mwith\u001b[39;00m Timer() \u001b[38;5;28;01mas\u001b[39;00m t:\n\u001b[0;32m---> 24\u001b[0m     result \u001b[38;5;241m=\u001b[39m \u001b[43mpredict\u001b[49m\u001b[43m(\u001b[49m\u001b[43mfile_path\u001b[49m\u001b[43m)\u001b[49m\n\u001b[1;32m     25\u001b[0m     \u001b[38;5;66;03m#result = \"_test_result_\\n\" + file_name + \"\\n\" + \"Тестовый результат\"\u001b[39;00m\n\u001b[1;32m     26\u001b[0m row\u001b[38;5;241m.\u001b[39melapsed_time \u001b[38;5;241m=\u001b[39m t\u001b[38;5;241m.\u001b[39melapsed\n",
      "Cell \u001b[0;32mIn[9], line 2\u001b[0m, in \u001b[0;36mpredict\u001b[0;34m(file_path, model_name)\u001b[0m\n\u001b[1;32m      1\u001b[0m \u001b[38;5;28;01mdef\u001b[39;00m  \u001b[38;5;21mpredict\u001b[39m(file_path, model_name \u001b[38;5;241m=\u001b[39m \u001b[38;5;124m\"\u001b[39m\u001b[38;5;124mgemma3:4b\u001b[39m\u001b[38;5;124m\"\u001b[39m):    \n\u001b[0;32m----> 2\u001b[0m     result \u001b[38;5;241m=\u001b[39m \u001b[43mclient\u001b[49m\u001b[38;5;241;43m.\u001b[39;49m\u001b[43mpredict\u001b[49m\u001b[43m(\u001b[49m\n\u001b[1;32m      3\u001b[0m \u001b[43m\t\t\u001b[49m\u001b[43msystem_prompt\u001b[49m\u001b[43m \u001b[49m\u001b[38;5;241;43m=\u001b[39;49m\u001b[43mSYSTEM_PROMPT\u001b[49m\u001b[43m,\u001b[49m\n\u001b[1;32m      4\u001b[0m \u001b[43m\t\t\u001b[49m\u001b[43muser_prompt\u001b[49m\u001b[38;5;241;43m=\u001b[39;49m\u001b[38;5;124;43m\"\u001b[39;49m\u001b[38;5;124;43m\"\u001b[39;49m\u001b[43m,\u001b[49m\n\u001b[1;32m      5\u001b[0m \u001b[43m\t\t\u001b[49m\u001b[43mimage\u001b[49m\u001b[38;5;241;43m=\u001b[39;49m\u001b[43mhandle_file\u001b[49m\u001b[43m(\u001b[49m\u001b[43mfile_path\u001b[49m\u001b[43m)\u001b[49m\u001b[43m,\u001b[49m\n\u001b[1;32m      6\u001b[0m \u001b[43m        \u001b[49m\u001b[38;5;66;43;03m#image=None,\u001b[39;49;00m\n\u001b[1;32m      7\u001b[0m \u001b[43m\t\t\u001b[49m\u001b[43mselected_model\u001b[49m\u001b[38;5;241;43m=\u001b[39;49m\u001b[43mmodel_name\u001b[49m\u001b[43m,\u001b[49m\n\u001b[1;32m      8\u001b[0m \u001b[43m\t\t\u001b[49m\u001b[43mtemperator\u001b[49m\u001b[38;5;241;43m=\u001b[39;49m\u001b[38;5;241;43m0.2\u001b[39;49m\u001b[43m,\u001b[49m\n\u001b[1;32m      9\u001b[0m \u001b[43m\t\t\u001b[49m\u001b[43mapi_name\u001b[49m\u001b[38;5;241;43m=\u001b[39;49m\u001b[38;5;124;43m\"\u001b[39;49m\u001b[38;5;124;43m/predict\u001b[39;49m\u001b[38;5;124;43m\"\u001b[39;49m\n\u001b[1;32m     10\u001b[0m \u001b[43m\t\u001b[49m\u001b[43m)\u001b[49m\n\u001b[1;32m     11\u001b[0m     \u001b[38;5;28;01mreturn\u001b[39;00m result\n",
      "File \u001b[0;32m/opt/conda/lib/python3.11/site-packages/gradio_client/client.py:478\u001b[0m, in \u001b[0;36mClient.predict\u001b[0;34m(self, api_name, fn_index, *args, **kwargs)\u001b[0m\n\u001b[1;32m    460\u001b[0m \u001b[38;5;250m\u001b[39m\u001b[38;5;124;03m\"\"\"\u001b[39;00m\n\u001b[1;32m    461\u001b[0m \u001b[38;5;124;03mCalls the Gradio API and returns the result (this is a blocking call).\u001b[39;00m\n\u001b[1;32m    462\u001b[0m \n\u001b[0;32m   (...)\u001b[0m\n\u001b[1;32m    473\u001b[0m \u001b[38;5;124;03m    >> 9.0\u001b[39;00m\n\u001b[1;32m    474\u001b[0m \u001b[38;5;124;03m\"\"\"\u001b[39;00m\n\u001b[1;32m    475\u001b[0m \u001b[38;5;28mself\u001b[39m\u001b[38;5;241m.\u001b[39m_infer_fn_index(api_name, fn_index)\n\u001b[1;32m    476\u001b[0m \u001b[38;5;28;01mreturn\u001b[39;00m \u001b[38;5;28;43mself\u001b[39;49m\u001b[38;5;241;43m.\u001b[39;49m\u001b[43msubmit\u001b[49m\u001b[43m(\u001b[49m\n\u001b[1;32m    477\u001b[0m \u001b[43m    \u001b[49m\u001b[38;5;241;43m*\u001b[39;49m\u001b[43margs\u001b[49m\u001b[43m,\u001b[49m\u001b[43m \u001b[49m\u001b[43mapi_name\u001b[49m\u001b[38;5;241;43m=\u001b[39;49m\u001b[43mapi_name\u001b[49m\u001b[43m,\u001b[49m\u001b[43m \u001b[49m\u001b[43mfn_index\u001b[49m\u001b[38;5;241;43m=\u001b[39;49m\u001b[43mfn_index\u001b[49m\u001b[43m,\u001b[49m\u001b[43m \u001b[49m\u001b[38;5;241;43m*\u001b[39;49m\u001b[38;5;241;43m*\u001b[39;49m\u001b[43mkwargs\u001b[49m\n\u001b[0;32m--> 478\u001b[0m \u001b[43m\u001b[49m\u001b[43m)\u001b[49m\u001b[38;5;241;43m.\u001b[39;49m\u001b[43mresult\u001b[49m\u001b[43m(\u001b[49m\u001b[43m)\u001b[49m\n",
      "File \u001b[0;32m/opt/conda/lib/python3.11/site-packages/gradio_client/client.py:1539\u001b[0m, in \u001b[0;36mJob.result\u001b[0;34m(self, timeout)\u001b[0m\n\u001b[1;32m   1524\u001b[0m \u001b[38;5;28;01mdef\u001b[39;00m \u001b[38;5;21mresult\u001b[39m(\u001b[38;5;28mself\u001b[39m, timeout: \u001b[38;5;28mfloat\u001b[39m \u001b[38;5;241m|\u001b[39m \u001b[38;5;28;01mNone\u001b[39;00m \u001b[38;5;241m=\u001b[39m \u001b[38;5;28;01mNone\u001b[39;00m) \u001b[38;5;241m-\u001b[39m\u001b[38;5;241m>\u001b[39m Any:\n\u001b[1;32m   1525\u001b[0m \u001b[38;5;250m    \u001b[39m\u001b[38;5;124;03m\"\"\"\u001b[39;00m\n\u001b[1;32m   1526\u001b[0m \u001b[38;5;124;03m    Return the result of the call that the future represents. Raises CancelledError: If the future was cancelled, TimeoutError: If the future didn't finish executing before the given timeout, and Exception: If the call raised then that exception will be raised.\u001b[39;00m\n\u001b[1;32m   1527\u001b[0m \n\u001b[0;32m   (...)\u001b[0m\n\u001b[1;32m   1537\u001b[0m \u001b[38;5;124;03m        >> 9\u001b[39;00m\n\u001b[1;32m   1538\u001b[0m \u001b[38;5;124;03m    \"\"\"\u001b[39;00m\n\u001b[0;32m-> 1539\u001b[0m     \u001b[38;5;28;01mreturn\u001b[39;00m \u001b[38;5;28;43msuper\u001b[39;49m\u001b[43m(\u001b[49m\u001b[43m)\u001b[49m\u001b[38;5;241;43m.\u001b[39;49m\u001b[43mresult\u001b[49m\u001b[43m(\u001b[49m\u001b[43mtimeout\u001b[49m\u001b[38;5;241;43m=\u001b[39;49m\u001b[43mtimeout\u001b[49m\u001b[43m)\u001b[49m\n",
      "File \u001b[0;32m/opt/conda/lib/python3.11/concurrent/futures/_base.py:451\u001b[0m, in \u001b[0;36mFuture.result\u001b[0;34m(self, timeout)\u001b[0m\n\u001b[1;32m    448\u001b[0m \u001b[38;5;28;01melif\u001b[39;00m \u001b[38;5;28mself\u001b[39m\u001b[38;5;241m.\u001b[39m_state \u001b[38;5;241m==\u001b[39m FINISHED:\n\u001b[1;32m    449\u001b[0m     \u001b[38;5;28;01mreturn\u001b[39;00m \u001b[38;5;28mself\u001b[39m\u001b[38;5;241m.\u001b[39m__get_result()\n\u001b[0;32m--> 451\u001b[0m \u001b[38;5;28;43mself\u001b[39;49m\u001b[38;5;241;43m.\u001b[39;49m\u001b[43m_condition\u001b[49m\u001b[38;5;241;43m.\u001b[39;49m\u001b[43mwait\u001b[49m\u001b[43m(\u001b[49m\u001b[43mtimeout\u001b[49m\u001b[43m)\u001b[49m\n\u001b[1;32m    453\u001b[0m \u001b[38;5;28;01mif\u001b[39;00m \u001b[38;5;28mself\u001b[39m\u001b[38;5;241m.\u001b[39m_state \u001b[38;5;129;01min\u001b[39;00m [CANCELLED, CANCELLED_AND_NOTIFIED]:\n\u001b[1;32m    454\u001b[0m     \u001b[38;5;28;01mraise\u001b[39;00m CancelledError()\n",
      "File \u001b[0;32m/opt/conda/lib/python3.11/threading.py:327\u001b[0m, in \u001b[0;36mCondition.wait\u001b[0;34m(self, timeout)\u001b[0m\n\u001b[1;32m    325\u001b[0m \u001b[38;5;28;01mtry\u001b[39;00m:    \u001b[38;5;66;03m# restore state no matter what (e.g., KeyboardInterrupt)\u001b[39;00m\n\u001b[1;32m    326\u001b[0m     \u001b[38;5;28;01mif\u001b[39;00m timeout \u001b[38;5;129;01mis\u001b[39;00m \u001b[38;5;28;01mNone\u001b[39;00m:\n\u001b[0;32m--> 327\u001b[0m         \u001b[43mwaiter\u001b[49m\u001b[38;5;241;43m.\u001b[39;49m\u001b[43macquire\u001b[49m\u001b[43m(\u001b[49m\u001b[43m)\u001b[49m\n\u001b[1;32m    328\u001b[0m         gotit \u001b[38;5;241m=\u001b[39m \u001b[38;5;28;01mTrue\u001b[39;00m\n\u001b[1;32m    329\u001b[0m     \u001b[38;5;28;01melse\u001b[39;00m:\n",
      "\u001b[0;31mKeyboardInterrupt\u001b[0m: "
     ]
    }
   ],
   "source": [
    "with open(\"results.tsv\", \"w\", encoding=\"utf-8\") as f:\n",
    "    writer = csv.writer(f, delimiter=\"\\t\", quoting=csv.QUOTE_MINIMAL)\n",
    "    writer.writerow(CSVRow.model_fields.keys())\n",
    "    \n",
    "\n",
    "    for file_path in tqdm(all_files[200:210], desc=\"Process images\", unit=\"image\"):\n",
    "        \n",
    "        row = CSVRow(\n",
    "            file_name=\"\",\n",
    "            text=\"\",\n",
    "            elapsed_time=0.0,\n",
    "            corrected_text=\"\",\n",
    "            elapsed_time_corrected=0.0\n",
    "        )\n",
    "    \n",
    "        file_name = os.path.basename(file_path)\n",
    "        row.file_name = file_name\n",
    "        \n",
    "        img = mpimg.imread(file_path)\n",
    "        plt.imshow(img)\n",
    "        plt.show() \n",
    "        \n",
    "        with Timer() as t:\n",
    "            result = predict(file_path)\n",
    "            #result = \"_test_result_\\n\" + file_name + \"\\n\" + \"Тестовый результат\"\n",
    "        row.elapsed_time = t.elapsed\n",
    "        row.text = result\n",
    "        \n",
    "        with Timer() as t:\n",
    "            corrected_result = phrase_corrector.correct_words_in_text(result)\n",
    "            #corrected_result = \"_test_corrected_result_\\n\" + file_name + \"\\n\" + \"Тестовый исправленный результат\"\n",
    "        row.elapsed_time_corrected = t.elapsed\n",
    "        row.corrected_text = corrected_result\n",
    "        print(json.dumps(row.model_dump(), indent=4, ensure_ascii=False))\n",
    "        writer.writerow(row.model_dump().values())\n",
    "        f.flush()  \n",
    "    "
   ]
  },
  {
   "cell_type": "code",
   "execution_count": null,
   "id": "92837cc2",
   "metadata": {},
   "outputs": [
    {
     "data": {
      "text/html": [
       "<div>\n",
       "<style scoped>\n",
       "    .dataframe tbody tr th:only-of-type {\n",
       "        vertical-align: middle;\n",
       "    }\n",
       "\n",
       "    .dataframe tbody tr th {\n",
       "        vertical-align: top;\n",
       "    }\n",
       "\n",
       "    .dataframe thead th {\n",
       "        text-align: right;\n",
       "    }\n",
       "</style>\n",
       "<table border=\"1\" class=\"dataframe\">\n",
       "  <thead>\n",
       "    <tr style=\"text-align: right;\">\n",
       "      <th></th>\n",
       "      <th>file_name</th>\n",
       "      <th>text</th>\n",
       "      <th>elapsed_time</th>\n",
       "      <th>corrected_text</th>\n",
       "      <th>elapsed_time_corrected</th>\n",
       "    </tr>\n",
       "  </thead>\n",
       "  <tbody>\n",
       "    <tr>\n",
       "      <th>0</th>\n",
       "      <td>694.jpg</td>\n",
       "      <td>_test_result_</td>\n",
       "      <td>0.0</td>\n",
       "      <td>_test_corrected_result_</td>\n",
       "      <td>0.0</td>\n",
       "    </tr>\n",
       "    <tr>\n",
       "      <th>1</th>\n",
       "      <td>675.jpg</td>\n",
       "      <td>_test_result_</td>\n",
       "      <td>0.0</td>\n",
       "      <td>_test_corrected_result_</td>\n",
       "      <td>0.0</td>\n",
       "    </tr>\n",
       "    <tr>\n",
       "      <th>2</th>\n",
       "      <td>376.jpg</td>\n",
       "      <td>_test_result_</td>\n",
       "      <td>0.0</td>\n",
       "      <td>_test_corrected_result_</td>\n",
       "      <td>0.0</td>\n",
       "    </tr>\n",
       "    <tr>\n",
       "      <th>3</th>\n",
       "      <td>836.jpg</td>\n",
       "      <td>_test_result_</td>\n",
       "      <td>0.0</td>\n",
       "      <td>_test_corrected_result_</td>\n",
       "      <td>0.0</td>\n",
       "    </tr>\n",
       "    <tr>\n",
       "      <th>4</th>\n",
       "      <td>423.jpg</td>\n",
       "      <td>_test_result_</td>\n",
       "      <td>0.0</td>\n",
       "      <td>_test_corrected_result_</td>\n",
       "      <td>0.0</td>\n",
       "    </tr>\n",
       "    <tr>\n",
       "      <th>5</th>\n",
       "      <td>850.jpg</td>\n",
       "      <td>_test_result_</td>\n",
       "      <td>0.0</td>\n",
       "      <td>_test_corrected_result_</td>\n",
       "      <td>0.0</td>\n",
       "    </tr>\n",
       "    <tr>\n",
       "      <th>6</th>\n",
       "      <td>72.jpg</td>\n",
       "      <td>_test_result_</td>\n",
       "      <td>0.0</td>\n",
       "      <td>_test_corrected_result_</td>\n",
       "      <td>0.0</td>\n",
       "    </tr>\n",
       "    <tr>\n",
       "      <th>7</th>\n",
       "      <td>612.jpg</td>\n",
       "      <td>_test_result_</td>\n",
       "      <td>0.0</td>\n",
       "      <td>_test_corrected_result_</td>\n",
       "      <td>0.0</td>\n",
       "    </tr>\n",
       "    <tr>\n",
       "      <th>8</th>\n",
       "      <td>268.jpg</td>\n",
       "      <td>_test_result_</td>\n",
       "      <td>0.0</td>\n",
       "      <td>_test_corrected_result_</td>\n",
       "      <td>0.0</td>\n",
       "    </tr>\n",
       "    <tr>\n",
       "      <th>9</th>\n",
       "      <td>18.jpg</td>\n",
       "      <td>_test_result_</td>\n",
       "      <td>0.0</td>\n",
       "      <td>_test_corrected_result_</td>\n",
       "      <td>0.0</td>\n",
       "    </tr>\n",
       "  </tbody>\n",
       "</table>\n",
       "</div>"
      ],
      "text/plain": [
       "  file_name           text  elapsed_time           corrected_text  \\\n",
       "0   694.jpg  _test_result_           0.0  _test_corrected_result_   \n",
       "1   675.jpg  _test_result_           0.0  _test_corrected_result_   \n",
       "2   376.jpg  _test_result_           0.0  _test_corrected_result_   \n",
       "3   836.jpg  _test_result_           0.0  _test_corrected_result_   \n",
       "4   423.jpg  _test_result_           0.0  _test_corrected_result_   \n",
       "5   850.jpg  _test_result_           0.0  _test_corrected_result_   \n",
       "6    72.jpg  _test_result_           0.0  _test_corrected_result_   \n",
       "7   612.jpg  _test_result_           0.0  _test_corrected_result_   \n",
       "8   268.jpg  _test_result_           0.0  _test_corrected_result_   \n",
       "9    18.jpg  _test_result_           0.0  _test_corrected_result_   \n",
       "\n",
       "   elapsed_time_corrected  \n",
       "0                     0.0  \n",
       "1                     0.0  \n",
       "2                     0.0  \n",
       "3                     0.0  \n",
       "4                     0.0  \n",
       "5                     0.0  \n",
       "6                     0.0  \n",
       "7                     0.0  \n",
       "8                     0.0  \n",
       "9                     0.0  "
      ]
     },
     "execution_count": 15,
     "metadata": {},
     "output_type": "execute_result"
    }
   ],
   "source": [
    "df = pd.read_csv(\"results.tsv\", sep=\"\\t\")\n",
    "df.head(10)"
   ]
  },
  {
   "cell_type": "markdown",
   "id": "0a71bc32",
   "metadata": {},
   "source": [
    "# Дополнение результата колонком с оригинальным текстом"
   ]
  },
  {
   "cell_type": "code",
   "execution_count": 17,
   "id": "b99f6f2e",
   "metadata": {},
   "outputs": [],
   "source": [
    "saved_xlsx = \"https://docs.google.com/spreadsheets/d/1E92a3fsSQM_Lp13hjONme5aGaWTxRYcWBQussVfE8yE/export?format=xlsx\"\n"
   ]
  },
  {
   "cell_type": "code",
   "execution_count": 18,
   "id": "1d2526c0",
   "metadata": {},
   "outputs": [
    {
     "name": "stdout",
     "output_type": "stream",
     "text": [
      "--2025-04-24 10:17:13--  https://docs.google.com/spreadsheets/d/1E92a3fsSQM_Lp13hjONme5aGaWTxRYcWBQussVfE8yE/export?format=xlsx\n",
      "Resolving docs.google.com (docs.google.com)... 216.58.211.238, 2a00:1450:4026:808::200e\n",
      "Connecting to docs.google.com (docs.google.com)|216.58.211.238|:443... connected.\n",
      "HTTP request sent, awaiting response... 307 Temporary Redirect\n",
      "Location: https://doc-08-1s-sheets.googleusercontent.com/export/54bogvaave6cua4cdnls17ksc4/n8skbugnht4jk3ksslp2bm6q8g/1745489830000/117963286932567830463/*/1E92a3fsSQM_Lp13hjONme5aGaWTxRYcWBQussVfE8yE?format=xlsx [following]\n",
      "Warning: wildcards not supported in HTTP.\n",
      "--2025-04-24 10:17:13--  https://doc-08-1s-sheets.googleusercontent.com/export/54bogvaave6cua4cdnls17ksc4/n8skbugnht4jk3ksslp2bm6q8g/1745489830000/117963286932567830463/*/1E92a3fsSQM_Lp13hjONme5aGaWTxRYcWBQussVfE8yE?format=xlsx\n",
      "Resolving doc-08-1s-sheets.googleusercontent.com (doc-08-1s-sheets.googleusercontent.com)... 216.58.211.225, 2a00:1450:4026:808::2001\n",
      "Connecting to doc-08-1s-sheets.googleusercontent.com (doc-08-1s-sheets.googleusercontent.com)|216.58.211.225|:443... connected.\n",
      "HTTP request sent, awaiting response... 200 OK\n",
      "Length: unspecified [application/vnd.openxmlformats-officedocument.spreadsheetml.sheet]\n",
      "Saving to: ‘results.xlsx’\n",
      "\n",
      "results.xlsx            [     <=>            ] 465.90K   507KB/s    in 0.9s    \n",
      "\n",
      "2025-04-24 10:17:15 (507 KB/s) - ‘results.xlsx’ saved [477086]\n",
      "\n"
     ]
    }
   ],
   "source": [
    "!wget -O results.xlsx $saved_xlsx"
   ]
  },
  {
   "cell_type": "code",
   "execution_count": 19,
   "id": "087198be",
   "metadata": {},
   "outputs": [],
   "source": [
    "df = pd.read_excel(\"results.xlsx\")"
   ]
  },
  {
   "cell_type": "code",
   "execution_count": 20,
   "id": "dcbf3452",
   "metadata": {},
   "outputs": [
    {
     "data": {
      "text/html": [
       "<div>\n",
       "<style scoped>\n",
       "    .dataframe tbody tr th:only-of-type {\n",
       "        vertical-align: middle;\n",
       "    }\n",
       "\n",
       "    .dataframe tbody tr th {\n",
       "        vertical-align: top;\n",
       "    }\n",
       "\n",
       "    .dataframe thead th {\n",
       "        text-align: right;\n",
       "    }\n",
       "</style>\n",
       "<table border=\"1\" class=\"dataframe\">\n",
       "  <thead>\n",
       "    <tr style=\"text-align: right;\">\n",
       "      <th></th>\n",
       "      <th>file_name</th>\n",
       "      <th>text</th>\n",
       "      <th>elapsed_time</th>\n",
       "      <th>corrected_text</th>\n",
       "      <th>elapsed_time_corrected</th>\n",
       "      <th>Unnamed: 5</th>\n",
       "      <th>Unnamed: 6</th>\n",
       "      <th>Unnamed: 7</th>\n",
       "    </tr>\n",
       "  </thead>\n",
       "  <tbody>\n",
       "    <tr>\n",
       "      <th>0</th>\n",
       "      <td>1</td>\n",
       "      <td>Вода СВЯТОЙ ИСТОЧНИК\\n1.0л\\nПригодна пить всем</td>\n",
       "      <td>5.1053</td>\n",
       "      <td>ВОДА СВЯТОЙ ИСТОЧНИК\\n1 0Л\\nПРИРОДНАЯ ПИТЬ ВСЕМ</td>\n",
       "      <td>0.0004</td>\n",
       "      <td>NaN</td>\n",
       "      <td>NaN</td>\n",
       "      <td>NaN</td>\n",
       "    </tr>\n",
       "    <tr>\n",
       "      <th>1</th>\n",
       "      <td>2</td>\n",
       "      <td>Вода Святой источник\\n0,75л\\nнегазированная вода</td>\n",
       "      <td>4.2579</td>\n",
       "      <td>ВОДА СВЯТОЙ ИСТОЧНИК\\n0 75Л\\nНЕГАЗИРОВАННАЯ ВОДА</td>\n",
       "      <td>0.0004</td>\n",
       "      <td>NaN</td>\n",
       "      <td>NaN</td>\n",
       "      <td>NaN</td>\n",
       "    </tr>\n",
       "    <tr>\n",
       "      <th>2</th>\n",
       "      <td>3</td>\n",
       "      <td>Вода ШИШКИН ЛЕС\\nпитьевая 1л\\nАО «Заирoколина»</td>\n",
       "      <td>5.2103</td>\n",
       "      <td>ВОДА ШИШКИН ЛЕС\\nПИТЬЕВАЯ 1Л\\nАО ЗАИРOКОЛИНА</td>\n",
       "      <td>0.0006</td>\n",
       "      <td>NaN</td>\n",
       "      <td>NaN</td>\n",
       "      <td>NaN</td>\n",
       "    </tr>\n",
       "    <tr>\n",
       "      <th>3</th>\n",
       "      <td>4</td>\n",
       "      <td>Цена красная</td>\n",
       "      <td>3.4990</td>\n",
       "      <td>ЦЕНА КРАСНАЯ</td>\n",
       "      <td>0.0001</td>\n",
       "      <td>NaN</td>\n",
       "      <td>NaN</td>\n",
       "      <td>NaN</td>\n",
       "    </tr>\n",
       "    <tr>\n",
       "      <th>4</th>\n",
       "      <td>5</td>\n",
       "      <td>Вода Святой Источник\\n1.5л\\nх.почечен. без сах...</td>\n",
       "      <td>5.0172</td>\n",
       "      <td>ВОДА СВЯТОЙ ИСТОЧНИК\\n1 5Л\\nХ ПЕЧЕН БЕЗ САХ ПИЛ Б</td>\n",
       "      <td>0.0005</td>\n",
       "      <td>NaN</td>\n",
       "      <td>NaN</td>\n",
       "      <td>NaN</td>\n",
       "    </tr>\n",
       "    <tr>\n",
       "      <th>5</th>\n",
       "      <td>6</td>\n",
       "      <td>Пода СНЕЖСКАЯ \\nпитьевая 1.5л</td>\n",
       "      <td>4.6530</td>\n",
       "      <td>ПОДА СЕНЕЖСКАЯ\\nПИТЬЕВАЯ 1 5Л</td>\n",
       "      <td>0.0003</td>\n",
       "      <td>вода</td>\n",
       "      <td>NaN</td>\n",
       "      <td>NaN</td>\n",
       "    </tr>\n",
       "    <tr>\n",
       "      <th>6</th>\n",
       "      <td>7</td>\n",
       "      <td>Чипсы LAY'S\\n120г\\nВкус Красная Икра</td>\n",
       "      <td>4.6045</td>\n",
       "      <td>ЧИПСЫ LAYS\\n120Г\\nВКУС КРАСНАЯ ИКРА</td>\n",
       "      <td>0.0003</td>\n",
       "      <td>lay's</td>\n",
       "      <td>NaN</td>\n",
       "      <td>NaN</td>\n",
       "    </tr>\n",
       "    <tr>\n",
       "      <th>7</th>\n",
       "      <td>8</td>\n",
       "      <td>Lay's\\n105г\\nнат.кар/риб.акл.ребеш.cn/n.c.</td>\n",
       "      <td>5.4041</td>\n",
       "      <td>LAYS\\n105Г\\nНАТ КАР РИБ АКЛ ГРЕБЕШ CN N C</td>\n",
       "      <td>0.0006</td>\n",
       "      <td>NaN</td>\n",
       "      <td>NaN</td>\n",
       "      <td>NaN</td>\n",
       "    </tr>\n",
       "    <tr>\n",
       "      <th>8</th>\n",
       "      <td>9</td>\n",
       "      <td>Чипсы РУССКАЯ КАРТОШКА\\n190г \\nкартофель со вк...</td>\n",
       "      <td>5.7602</td>\n",
       "      <td>ЧИПСЫ РУССКАЯ КАРТОШКА\\n190Г\\nКАРТОФЕЛЬ СО ВКУ...</td>\n",
       "      <td>0.0003</td>\n",
       "      <td>NaN</td>\n",
       "      <td>NaN</td>\n",
       "      <td>NaN</td>\n",
       "    </tr>\n",
       "    <tr>\n",
       "      <th>9</th>\n",
       "      <td>10</td>\n",
       "      <td>Чипсы LAYS 85г\\nкар.со вкус.лысички в сметане</td>\n",
       "      <td>4.7511</td>\n",
       "      <td>ЧИПСЫ LAYS 85Г\\nКАР СО ВКУС ЛИСИЧКИ В СМЕТАНЕ</td>\n",
       "      <td>0.0005</td>\n",
       "      <td>lays</td>\n",
       "      <td>NaN</td>\n",
       "      <td>NaN</td>\n",
       "    </tr>\n",
       "  </tbody>\n",
       "</table>\n",
       "</div>"
      ],
      "text/plain": [
       "   file_name                                               text  elapsed_time  \\\n",
       "0          1     Вода СВЯТОЙ ИСТОЧНИК\\n1.0л\\nПригодна пить всем        5.1053   \n",
       "1          2   Вода Святой источник\\n0,75л\\nнегазированная вода        4.2579   \n",
       "2          3     Вода ШИШКИН ЛЕС\\nпитьевая 1л\\nАО «Заирoколина»        5.2103   \n",
       "3          4                                       Цена красная        3.4990   \n",
       "4          5  Вода Святой Источник\\n1.5л\\nх.почечен. без сах...        5.0172   \n",
       "5          6                      Пода СНЕЖСКАЯ \\nпитьевая 1.5л        4.6530   \n",
       "6          7               Чипсы LAY'S\\n120г\\nВкус Красная Икра        4.6045   \n",
       "7          8         Lay's\\n105г\\nнат.кар/риб.акл.ребеш.cn/n.c.        5.4041   \n",
       "8          9  Чипсы РУССКАЯ КАРТОШКА\\n190г \\nкартофель со вк...        5.7602   \n",
       "9         10      Чипсы LAYS 85г\\nкар.со вкус.лысички в сметане        4.7511   \n",
       "\n",
       "                                      corrected_text  elapsed_time_corrected  \\\n",
       "0    ВОДА СВЯТОЙ ИСТОЧНИК\\n1 0Л\\nПРИРОДНАЯ ПИТЬ ВСЕМ                  0.0004   \n",
       "1   ВОДА СВЯТОЙ ИСТОЧНИК\\n0 75Л\\nНЕГАЗИРОВАННАЯ ВОДА                  0.0004   \n",
       "2       ВОДА ШИШКИН ЛЕС\\nПИТЬЕВАЯ 1Л\\nАО ЗАИРOКОЛИНА                  0.0006   \n",
       "3                                       ЦЕНА КРАСНАЯ                  0.0001   \n",
       "4  ВОДА СВЯТОЙ ИСТОЧНИК\\n1 5Л\\nХ ПЕЧЕН БЕЗ САХ ПИЛ Б                  0.0005   \n",
       "5                      ПОДА СЕНЕЖСКАЯ\\nПИТЬЕВАЯ 1 5Л                  0.0003   \n",
       "6                ЧИПСЫ LAYS\\n120Г\\nВКУС КРАСНАЯ ИКРА                  0.0003   \n",
       "7          LAYS\\n105Г\\nНАТ КАР РИБ АКЛ ГРЕБЕШ CN N C                  0.0006   \n",
       "8  ЧИПСЫ РУССКАЯ КАРТОШКА\\n190Г\\nКАРТОФЕЛЬ СО ВКУ...                  0.0003   \n",
       "9      ЧИПСЫ LAYS 85Г\\nКАР СО ВКУС ЛИСИЧКИ В СМЕТАНЕ                  0.0005   \n",
       "\n",
       "  Unnamed: 5 Unnamed: 6 Unnamed: 7  \n",
       "0        NaN        NaN        NaN  \n",
       "1        NaN        NaN        NaN  \n",
       "2        NaN        NaN        NaN  \n",
       "3        NaN        NaN        NaN  \n",
       "4        NaN        NaN        NaN  \n",
       "5       вода        NaN        NaN  \n",
       "6      lay's        NaN        NaN  \n",
       "7        NaN        NaN        NaN  \n",
       "8        NaN        NaN        NaN  \n",
       "9       lays        NaN        NaN  "
      ]
     },
     "execution_count": 20,
     "metadata": {},
     "output_type": "execute_result"
    }
   ],
   "source": [
    "df.head(10)"
   ]
  }
 ],
 "metadata": {
  "kernelspec": {
   "display_name": "base",
   "language": "python",
   "name": "python3"
  },
  "language_info": {
   "codemirror_mode": {
    "name": "ipython",
    "version": 3
   },
   "file_extension": ".py",
   "mimetype": "text/x-python",
   "name": "python",
   "nbconvert_exporter": "python",
   "pygments_lexer": "ipython3",
   "version": "3.11.6"
  }
 },
 "nbformat": 4,
 "nbformat_minor": 5
}
