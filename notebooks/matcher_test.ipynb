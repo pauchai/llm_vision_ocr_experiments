{
 "cells": [
  {
   "cell_type": "code",
   "execution_count": 13,
   "id": "2f6967ec",
   "metadata": {},
   "outputs": [],
   "source": [
    "import requests\n",
    "import json\n",
    "\n",
    "# Конфигурация\n",
    "BASE_URL = \"http://matching-api:3000\"  # Замените на ваш URL\n",
    "ENDPOINT = \"/api/matching\"\n",
    "\n",
    "def test_matching_service(query, threshold=80):\n",
    "    \"\"\"\n",
    "    Отправляет запрос к сервису matching\n",
    "    \n",
    "    Args:\n",
    "        query (str): Поисковый запрос\n",
    "        threshold (int): Порог совпадения (по умолчанию 80)\n",
    "    \n",
    "    Returns:\n",
    "        dict: Ответ от сервера\n",
    "    \"\"\"\n",
    "    url = f\"{BASE_URL}{ENDPOINT}\"\n",
    "    \n",
    "    payload = {\n",
    "        \"query\": query,\n",
    "        \"threshold\": threshold\n",
    "    }\n",
    "    \n",
    "    headers = {\n",
    "        \"Content-Type\": \"application/json\"\n",
    "    }\n",
    "    \n",
    "    try:\n",
    "        response = requests.post(url, json=payload, headers=headers)\n",
    "        \n",
    "        # Проверяем статус ответа\n",
    "        if response.status_code == 200:\n",
    "            return {\n",
    "                \"success\": True,\n",
    "                \"data\": response.json()\n",
    "            }\n",
    "        else:\n",
    "            return {\n",
    "                \"success\": False,\n",
    "                \"status_code\": response.status_code,\n",
    "                \"error\": response.json() if response.content else \"Нет содержимого\"\n",
    "            }\n",
    "            \n",
    "    except requests.exceptions.RequestException as e:\n",
    "        return {\n",
    "            \"success\": False,\n",
    "            \"error\": f\"Ошибка соединения: {str(e)}\"\n",
    "        }\n"
   ]
  },
  {
   "cell_type": "code",
   "execution_count": 26,
   "id": "aed8a402",
   "metadata": {},
   "outputs": [
    {
     "data": {
      "text/plain": [
       "{'success': True,\n",
       " 'data': {'query': 'Капуста белокочанная 1кг.',\n",
       "  'result': {'sku': '100329137', 'description': 'Капуста, кг'},\n",
       "  'score': 82,\n",
       "  'found': True}}"
      ]
     },
     "execution_count": 26,
     "metadata": {},
     "output_type": "execute_result"
    }
   ],
   "source": [
    "test_matching_service(\"Капуста белокочанная 1кг.\", 40)"
   ]
  }
 ],
 "metadata": {
  "kernelspec": {
   "display_name": "base",
   "language": "python",
   "name": "python3"
  },
  "language_info": {
   "codemirror_mode": {
    "name": "ipython",
    "version": 3
   },
   "file_extension": ".py",
   "mimetype": "text/x-python",
   "name": "python",
   "nbconvert_exporter": "python",
   "pygments_lexer": "ipython3",
   "version": "3.11.6"
  }
 },
 "nbformat": 4,
 "nbformat_minor": 5
}
