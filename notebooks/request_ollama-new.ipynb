{
 "cells": [
  {
   "cell_type": "code",
   "execution_count": 41,
   "id": "222e908e-46f4-4a2f-aae3-619c151a41af",
   "metadata": {},
   "outputs": [
    {
     "data": {
      "text/plain": [
       "<module 'packages.word_corrector.src.core' from '/home/jovyan/work/packages/word_corrector/src/core.py'>"
      ]
     },
     "execution_count": 41,
     "metadata": {},
     "output_type": "execute_result"
    }
   ],
   "source": [
    "import importlib\n",
    "import packages.word_corrector.src.core as core\n",
    "\n",
    "importlib.reload(core)"
   ]
  },
  {
   "cell_type": "code",
   "execution_count": 1,
   "id": "92951c1c",
   "metadata": {},
   "outputs": [],
   "source": [
    "from gradio_client import Client, handle_file   \n",
    "# импорт contenxtmanager\n",
    "from contextlib import contextmanager\n",
    "import time\n",
    "import os\n",
    "from pydantic import BaseModel, Field\n",
    "import csv\n",
    "from rapidfuzz import process, fuzz\n",
    "import re\n",
    "\n",
    "from tqdm import tqdm\n",
    "from matplotlib import pyplot as plt\n",
    "import matplotlib.image as mpimg\n",
    "import pandas as pd\n",
    "import json\n",
    "from pathlib import Path"
   ]
  },
  {
   "cell_type": "code",
   "execution_count": 2,
   "id": "e38d5848",
   "metadata": {},
   "outputs": [],
   "source": [
    "class Timer:\n",
    "    def __enter__(self):\n",
    "        self.start = time.time()\n",
    "        return self  # возвращаем self, чтобы получить доступ к elapsed_time\n",
    "\n",
    "    def __exit__(self, exc_type, exc_val, exc_tb):\n",
    "        self.end = time.time()\n",
    "        self.elapsed = round(self.end - self.start,4)\n",
    "        #print(f\"Cell execution time: {self.elapsed:.4f} seconds\")\n"
   ]
  },
  {
   "cell_type": "code",
   "execution_count": 3,
   "id": "c92bc465",
   "metadata": {},
   "outputs": [
    {
     "name": "stdout",
     "output_type": "stream",
     "text": [
      "1.0002\n"
     ]
    }
   ],
   "source": [
    "with Timer() as t:\n",
    "    time.sleep(1)\n",
    "\n",
    "print(t.elapsed)"
   ]
  },
  {
   "cell_type": "code",
   "execution_count": 7,
   "id": "07288c4d",
   "metadata": {},
   "outputs": [
    {
     "name": "stdout",
     "output_type": "stream",
     "text": [
      "Loaded as API: http://api:7860/ ✔\n"
     ]
    }
   ],
   "source": [
    "client = Client(\"http://api:7860/\")"
   ]
  },
  {
   "cell_type": "code",
   "execution_count": 21,
   "id": "d364775b-fde1-45af-81d2-f4de9ba6f4a4",
   "metadata": {},
   "outputs": [],
   "source": [
    "from IPython.display import Markdown, display\n"
   ]
  },
  {
   "cell_type": "code",
   "execution_count": 29,
   "id": "1ffb3428-6141-42ca-a039-ffecdcffb8ef",
   "metadata": {},
   "outputs": [
    {
     "name": "stdout",
     "output_type": "stream",
     "text": [
      "Client.predict() Usage Info\n",
      "---------------------------\n",
      "Named API endpoints: 2\n",
      "\n",
      " - predict(system_prompt, user_prompt, image, selected_model, temperator, api_name=\"/chat_with_ollama\") -> (результат, время_обработки)\n",
      "    Parameters:\n",
      "     - [Textbox] system_prompt: str (not required, defaults to:   \n",
      "Вы — ассистент OCR , который извлекает информацию с русских товарных этикеток на изображениях. В тексте могут встречаться названия на английском.\n",
      ")  \n",
      "     - [Textbox] user_prompt: str (not required, defaults to:   \n",
      "Пожалуйста, извлеките весь текст на изображении и ничего больше без комментариев. \n",
      ")  \n",
      "     - [Image] image: dict(path: str | None (Path to a local file), url: str | None (Publicly available url or base64 encoded image), size: int | None (Size of image in bytes), orig_name: str | None (Original filename), mime_type: str | None (mime type of image), is_stream: bool (Can always be set to False), meta: dict(str, Any)) (required)  (For input, either path or url must be provided. For output, path is always provided.) \n",
      "     - [Dropdown] selected_model: Literal['gemma3:12b', 'gemma3:4b', 'qwen2.5vl:32b', 'qwen2.5vl:3b', 'qwen2.5vl:7b'] (not required, defaults to:   gemma3:12b)  \n",
      "     - [Slider] temperator: float (not required, defaults to:   0.2)  \n",
      "    Returns:\n",
      "     - [Textbox] результат: str \n",
      "     - [Textbox] время_обработки: str \n",
      "\n",
      " - predict(api_name=\"/get_system_info\") -> value_2\n",
      "    Parameters:\n",
      "     - None\n",
      "    Returns:\n",
      "     - [Markdown] value_2: str \n",
      "\n",
      "None\n"
     ]
    }
   ],
   "source": [
    "print(client.view_api())\n"
   ]
  },
  {
   "cell_type": "code",
   "execution_count": 10,
   "id": "fbe73f00",
   "metadata": {},
   "outputs": [],
   "source": [
    "SYSTEM_PROMPT = '''\n",
    "Вы — ассистент OCR , который извлекает информацию с русских товарных этикеток на изображениях. В тексте могут встречаться названия на английском.\n",
    "'''\n",
    "USER_PROMPT = '''\n",
    "Пожалуйста, извлеките весь текст на изображении и ничего больше без комментариев. \n",
    "'''"
   ]
  },
  {
   "cell_type": "code",
   "execution_count": 30,
   "id": "945feb27",
   "metadata": {},
   "outputs": [],
   "source": [
    "def  predict(file_path, model_name = \"gemma3:4b\"):    \n",
    "    result = client.predict(\n",
    "\t\tsystem_prompt =SYSTEM_PROMPT,\n",
    "\t\tuser_prompt= USER_PROMPT,\n",
    "\t\timage=handle_file(file_path),\n",
    "        #image=None,\n",
    "\t\tselected_model=model_name,\n",
    "\t\ttemperator=0.2,\n",
    "        api_name=\"/chat_with_ollama\"\n",
    "\t)\n",
    "    return result"
   ]
  },
  {
   "cell_type": "code",
   "execution_count": 18,
   "id": "06716050-3158-459c-95ac-41eddee3de3f",
   "metadata": {},
   "outputs": [
    {
     "data": {
      "text/plain": [
       "('Вода святой источник 1.0л природная питьевая негаз.ПЭТ', '0.33 секунд')"
      ]
     },
     "execution_count": 18,
     "metadata": {},
     "output_type": "execute_result"
    }
   ],
   "source": [
    "predict(DATA_BASE_DIR / \"names/1.jpg\", \"qwen2.5vl:7b\")"
   ]
  },
  {
   "cell_type": "code",
   "execution_count": null,
   "id": "8629dd53-9cd0-41c0-983d-1fde4ed58e9c",
   "metadata": {},
   "outputs": [],
   "source": []
  }
 ],
 "metadata": {
  "kernelspec": {
   "display_name": "Python 3 (ipykernel)",
   "language": "python",
   "name": "python3"
  },
  "language_info": {
   "codemirror_mode": {
    "name": "ipython",
    "version": 3
   },
   "file_extension": ".py",
   "mimetype": "text/x-python",
   "name": "python",
   "nbconvert_exporter": "python",
   "pygments_lexer": "ipython3",
   "version": "3.11.6"
  }
 },
 "nbformat": 4,
 "nbformat_minor": 5
}
