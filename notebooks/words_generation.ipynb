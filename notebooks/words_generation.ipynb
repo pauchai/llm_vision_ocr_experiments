{
 "cells": [
  {
   "cell_type": "code",
   "execution_count": 59,
   "id": "02133358",
   "metadata": {},
   "outputs": [],
   "source": [
    "google_document_xlsx = \"https://docs.google.com/spreadsheets/d/1riSLCvdlQ8kC5DshtqlRAsVEa7R7N2kD/export?format=xlsx\""
   ]
  },
  {
   "cell_type": "code",
   "execution_count": null,
   "id": "6932aab3",
   "metadata": {},
   "outputs": [
    {
     "name": "stdout",
     "output_type": "stream",
     "text": [
      "--2025-04-17 13:04:35--  https://docs.google.com/spreadsheets/d/1riSLCvdlQ8kC5DshtqlRAsVEa7R7N2kD/export?format=xlsx\n",
      "Resolving docs.google.com (docs.google.com)... 216.58.211.238, 2a00:1450:4026:808::200e\n",
      "Connecting to docs.google.com (docs.google.com)|216.58.211.238|:443... connected.\n",
      "HTTP request sent, awaiting response... 307 Temporary Redirect\n",
      "Location: https://doc-0k-3k-sheets.googleusercontent.com/export/54bogvaave6cua4cdnls17ksc4/trjeh51b241a24lkos29aof15c/1744895075000/113369956649761615778/*/1riSLCvdlQ8kC5DshtqlRAsVEa7R7N2kD?format=xlsx [following]\n",
      "Warning: wildcards not supported in HTTP.\n",
      "--2025-04-17 13:04:36--  https://doc-0k-3k-sheets.googleusercontent.com/export/54bogvaave6cua4cdnls17ksc4/trjeh51b241a24lkos29aof15c/1744895075000/113369956649761615778/*/1riSLCvdlQ8kC5DshtqlRAsVEa7R7N2kD?format=xlsx\n",
      "Resolving doc-0k-3k-sheets.googleusercontent.com (doc-0k-3k-sheets.googleusercontent.com)... 216.58.211.225, 2a00:1450:4026:808::2001\n",
      "Connecting to doc-0k-3k-sheets.googleusercontent.com (doc-0k-3k-sheets.googleusercontent.com)|216.58.211.225|:443... connected.\n",
      "HTTP request sent, awaiting response... 200 OK\n",
      "Length: unspecified [application/vnd.openxmlformats-officedocument.spreadsheetml.sheet]\n",
      "Saving to: ‘/home/jovyan/work/prices_scans.xlsx’\n",
      "\n",
      "/home/jovyan/work/p     [  <=>               ]  53.79K   252KB/s    in 0.2s    \n",
      "\n",
      "2025-04-17 13:04:37 (252 KB/s) - ‘/home/jovyan/work/prices_scans.xlsx’ saved [55079]\n",
      "\n"
     ]
    }
   ],
   "source": [
    "!wget {google_document_xlsx} -O /tmp/prices_scans.xlsx"
   ]
  },
  {
   "cell_type": "code",
   "execution_count": 61,
   "id": "6ff741ec",
   "metadata": {},
   "outputs": [],
   "source": [
    "import pandas as pd"
   ]
  },
  {
   "cell_type": "code",
   "execution_count": null,
   "id": "9a6b519f",
   "metadata": {},
   "outputs": [],
   "source": [
    "df = pd.read_excel('/tmp/prices_scans.xlsx', header=1)"
   ]
  },
  {
   "cell_type": "code",
   "execution_count": 64,
   "id": "a43f32db",
   "metadata": {},
   "outputs": [],
   "source": [
    "df.set_index(\"Номер картинки\",  inplace=True)"
   ]
  },
  {
   "cell_type": "code",
   "execution_count": 10,
   "id": "86572b59",
   "metadata": {},
   "outputs": [
    {
     "data": {
      "text/html": [
       "<div>\n",
       "<style scoped>\n",
       "    .dataframe tbody tr th:only-of-type {\n",
       "        vertical-align: middle;\n",
       "    }\n",
       "\n",
       "    .dataframe tbody tr th {\n",
       "        vertical-align: top;\n",
       "    }\n",
       "\n",
       "    .dataframe thead th {\n",
       "        text-align: right;\n",
       "    }\n",
       "</style>\n",
       "<table border=\"1\" class=\"dataframe\">\n",
       "  <thead>\n",
       "    <tr style=\"text-align: right;\">\n",
       "      <th></th>\n",
       "      <th>Цена правильная</th>\n",
       "      <th>Цена нейросеть</th>\n",
       "      <th>Ошибка</th>\n",
       "      <th>Строка 1</th>\n",
       "      <th>Строка 2</th>\n",
       "      <th>Строка 3</th>\n",
       "      <th>Строка 4</th>\n",
       "      <th>Строка 5</th>\n",
       "    </tr>\n",
       "    <tr>\n",
       "      <th>Номер картинки</th>\n",
       "      <th></th>\n",
       "      <th></th>\n",
       "      <th></th>\n",
       "      <th></th>\n",
       "      <th></th>\n",
       "      <th></th>\n",
       "      <th></th>\n",
       "      <th></th>\n",
       "    </tr>\n",
       "  </thead>\n",
       "  <tbody>\n",
       "    <tr>\n",
       "      <th>1</th>\n",
       "      <td>54.99</td>\n",
       "      <td>54.99</td>\n",
       "      <td>0.0</td>\n",
       "      <td>Вода СВЯТОЙ ИСТОЧНИК</td>\n",
       "      <td>1.0л</td>\n",
       "      <td>природная питьевая негаз.ПЭТ</td>\n",
       "      <td>NaN</td>\n",
       "      <td>NaN</td>\n",
       "    </tr>\n",
       "    <tr>\n",
       "      <th>2</th>\n",
       "      <td>59.99</td>\n",
       "      <td>59.99</td>\n",
       "      <td>0.0</td>\n",
       "      <td>Вода Святой источник</td>\n",
       "      <td>0,75л</td>\n",
       "      <td>негазированная спорт</td>\n",
       "      <td>NaN</td>\n",
       "      <td>NaN</td>\n",
       "    </tr>\n",
       "    <tr>\n",
       "      <th>3</th>\n",
       "      <td>51.99</td>\n",
       "      <td>51.99</td>\n",
       "      <td>0.0</td>\n",
       "      <td>Вода ШИШКИН ЛЕС</td>\n",
       "      <td>питьевая 1л</td>\n",
       "      <td>негазированная</td>\n",
       "      <td>NaN</td>\n",
       "      <td>NaN</td>\n",
       "    </tr>\n",
       "    <tr>\n",
       "      <th>4</th>\n",
       "      <td>24.99</td>\n",
       "      <td>24.99</td>\n",
       "      <td>0.0</td>\n",
       "      <td>Вода КРАСНАЯ ЦЕНА</td>\n",
       "      <td>1,5л</td>\n",
       "      <td>негазированная</td>\n",
       "      <td>NaN</td>\n",
       "      <td>NaN</td>\n",
       "    </tr>\n",
       "  </tbody>\n",
       "</table>\n",
       "</div>"
      ],
      "text/plain": [
       "                Цена правильная  Цена нейросеть  Ошибка              Строка 1  \\\n",
       "Номер картинки                                                                  \n",
       "1                         54.99           54.99     0.0  Вода СВЯТОЙ ИСТОЧНИК   \n",
       "2                         59.99           59.99     0.0  Вода Святой источник   \n",
       "3                         51.99           51.99     0.0       Вода ШИШКИН ЛЕС   \n",
       "4                         24.99           24.99     0.0     Вода КРАСНАЯ ЦЕНА   \n",
       "\n",
       "                   Строка 2                      Строка 3 Строка 4  Строка 5  \n",
       "Номер картинки                                                                \n",
       "1                      1.0л  природная питьевая негаз.ПЭТ      NaN       NaN  \n",
       "2                     0,75л          негазированная спорт      NaN       NaN  \n",
       "3               питьевая 1л                негазированная      NaN       NaN  \n",
       "4                      1,5л                негазированная      NaN       NaN  "
      ]
     },
     "execution_count": 10,
     "metadata": {},
     "output_type": "execute_result"
    }
   ],
   "source": [
    "df.head(4)"
   ]
  },
  {
   "cell_type": "code",
   "execution_count": 65,
   "id": "bded55cf",
   "metadata": {},
   "outputs": [],
   "source": [
    "import re\n",
    "from collections import Counter\n",
    "\n",
    "def generate_words_from_phrases(phrases, len_min=1, do_sort=True):\n",
    "    word_counter = Counter()\n",
    "\n",
    "    for phrase in phrases:\n",
    "        if not isinstance(phrase, str):\n",
    "            continue  # пропускаем нестроковые значения\n",
    "\n",
    "        \n",
    "        words = re.split(r\"[ \\t\\n\\r\\f\\v.,!?;:()\\\"«»—–\\-\\/]+\", phrase.upper().replace(\"Ё\", \"Е\"))\n",
    "        words = list(filter(None, words))  # убираем пустые строки, если они есть\n",
    "        \n",
    "        # Оставляем только слова без цифр\n",
    "        filtered_words = [\n",
    "            word for word in words\n",
    "            if len(word) > len_min and not re.search(r\"\\d\", word)\n",
    "        ]\n",
    "        word_counter.update(filtered_words)\n",
    "\n",
    "    if do_sort:\n",
    "        return sorted(word_counter.items(), key=lambda x: x[1], reverse=True)\n",
    "    else:\n",
    "        return word_counter.items()\n"
   ]
  },
  {
   "cell_type": "code",
   "execution_count": 66,
   "id": "650ba302",
   "metadata": {},
   "outputs": [],
   "source": [
    "# Здесь у нас все фразы из таблицы\n",
    "phrases = pd.concat([df[\"Строка 1\"].dropna(), df[\"Строка 2\"].dropna(), df[\"Строка 3\"].dropna()]).astype(str).unique()\n"
   ]
  },
  {
   "cell_type": "code",
   "execution_count": 67,
   "id": "83632d93",
   "metadata": {},
   "outputs": [],
   "source": [
    "sorted_word_counters = generate_words_from_phrases(phrases)\n"
   ]
  },
  {
   "cell_type": "code",
   "execution_count": 74,
   "id": "4c9198db",
   "metadata": {},
   "outputs": [
    {
     "data": {
      "text/html": [
       "<div>\n",
       "<style scoped>\n",
       "    .dataframe tbody tr th:only-of-type {\n",
       "        vertical-align: middle;\n",
       "    }\n",
       "\n",
       "    .dataframe tbody tr th {\n",
       "        vertical-align: top;\n",
       "    }\n",
       "\n",
       "    .dataframe thead th {\n",
       "        text-align: right;\n",
       "    }\n",
       "</style>\n",
       "<table border=\"1\" class=\"dataframe\">\n",
       "  <thead>\n",
       "    <tr style=\"text-align: right;\">\n",
       "      <th></th>\n",
       "      <th>word</th>\n",
       "      <th>count</th>\n",
       "    </tr>\n",
       "  </thead>\n",
       "  <tbody>\n",
       "    <tr>\n",
       "      <th>0</th>\n",
       "      <td>ИЗ</td>\n",
       "      <td>46</td>\n",
       "    </tr>\n",
       "    <tr>\n",
       "      <th>1</th>\n",
       "      <td>СО</td>\n",
       "      <td>35</td>\n",
       "    </tr>\n",
       "    <tr>\n",
       "      <th>2</th>\n",
       "      <td>ДЛЯ</td>\n",
       "      <td>30</td>\n",
       "    </tr>\n",
       "    <tr>\n",
       "      <th>3</th>\n",
       "      <td>ДЕТ</td>\n",
       "      <td>27</td>\n",
       "    </tr>\n",
       "    <tr>\n",
       "      <th>4</th>\n",
       "      <td>ПЭТ</td>\n",
       "      <td>26</td>\n",
       "    </tr>\n",
       "    <tr>\n",
       "      <th>...</th>\n",
       "      <td>...</td>\n",
       "      <td>...</td>\n",
       "    </tr>\n",
       "    <tr>\n",
       "      <th>1793</th>\n",
       "      <td>КАРЕНАЯ</td>\n",
       "      <td>1</td>\n",
       "    </tr>\n",
       "    <tr>\n",
       "      <th>1794</th>\n",
       "      <td>РОССИЙСКИЙ</td>\n",
       "      <td>1</td>\n",
       "    </tr>\n",
       "    <tr>\n",
       "      <th>1795</th>\n",
       "      <td>РАЖЕ</td>\n",
       "      <td>1</td>\n",
       "    </tr>\n",
       "    <tr>\n",
       "      <th>1796</th>\n",
       "      <td>ШАРИКИ</td>\n",
       "      <td>1</td>\n",
       "    </tr>\n",
       "    <tr>\n",
       "      <th>1797</th>\n",
       "      <td>АК</td>\n",
       "      <td>1</td>\n",
       "    </tr>\n",
       "  </tbody>\n",
       "</table>\n",
       "<p>1798 rows × 2 columns</p>\n",
       "</div>"
      ],
      "text/plain": [
       "            word  count\n",
       "0             ИЗ     46\n",
       "1             СО     35\n",
       "2            ДЛЯ     30\n",
       "3            ДЕТ     27\n",
       "4            ПЭТ     26\n",
       "...          ...    ...\n",
       "1793     КАРЕНАЯ      1\n",
       "1794  РОССИЙСКИЙ      1\n",
       "1795        РАЖЕ      1\n",
       "1796      ШАРИКИ      1\n",
       "1797          АК      1\n",
       "\n",
       "[1798 rows x 2 columns]"
      ]
     },
     "execution_count": 74,
     "metadata": {},
     "output_type": "execute_result"
    }
   ],
   "source": [
    "new_df = pd.DataFrame(sorted_word_counters, columns=[\"word\", \"count\"])\n",
    "new_df"
   ]
  },
  {
   "cell_type": "code",
   "execution_count": 75,
   "id": "a844b65c",
   "metadata": {},
   "outputs": [],
   "source": [
    "new_df.drop_duplicates(subset=['word'], inplace=True)\n"
   ]
  },
  {
   "cell_type": "code",
   "execution_count": 81,
   "id": "18100a3a",
   "metadata": {},
   "outputs": [
    {
     "data": {
      "text/html": [
       "<div>\n",
       "<style scoped>\n",
       "    .dataframe tbody tr th:only-of-type {\n",
       "        vertical-align: middle;\n",
       "    }\n",
       "\n",
       "    .dataframe tbody tr th {\n",
       "        vertical-align: top;\n",
       "    }\n",
       "\n",
       "    .dataframe thead th {\n",
       "        text-align: right;\n",
       "    }\n",
       "</style>\n",
       "<table border=\"1\" class=\"dataframe\">\n",
       "  <thead>\n",
       "    <tr style=\"text-align: right;\">\n",
       "      <th></th>\n",
       "      <th>word</th>\n",
       "      <th>count</th>\n",
       "    </tr>\n",
       "  </thead>\n",
       "  <tbody>\n",
       "    <tr>\n",
       "      <th>41</th>\n",
       "      <td>ФРУТОНЯНЯ</td>\n",
       "      <td>11</td>\n",
       "    </tr>\n",
       "    <tr>\n",
       "      <th>88</th>\n",
       "      <td>ФРУТО</td>\n",
       "      <td>6</td>\n",
       "    </tr>\n",
       "  </tbody>\n",
       "</table>\n",
       "</div>"
      ],
      "text/plain": [
       "         word  count\n",
       "41  ФРУТОНЯНЯ     11\n",
       "88      ФРУТО      6"
      ]
     },
     "execution_count": 81,
     "metadata": {},
     "output_type": "execute_result"
    }
   ],
   "source": [
    "new_df[new_df['word'].str.contains(\"фруто\", case=False, na=False)]"
   ]
  },
  {
   "cell_type": "code",
   "execution_count": null,
   "id": "12b25ab9",
   "metadata": {},
   "outputs": [],
   "source": [
    "del(new_df['count'])\n",
    "new_df.reset_index(drop=True, inplace=True)\n",
    "new_df.to_csv('/home/jovyan/work/words.txt', index=False, encoding='utf-8', header=False)"
   ]
  }
 ],
 "metadata": {
  "kernelspec": {
   "display_name": "base",
   "language": "python",
   "name": "python3"
  },
  "language_info": {
   "codemirror_mode": {
    "name": "ipython",
    "version": 3
   },
   "file_extension": ".py",
   "mimetype": "text/x-python",
   "name": "python",
   "nbconvert_exporter": "python",
   "pygments_lexer": "ipython3",
   "version": "3.11.6"
  }
 },
 "nbformat": 4,
 "nbformat_minor": 5
}
