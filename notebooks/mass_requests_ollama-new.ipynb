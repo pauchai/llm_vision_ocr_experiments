{
 "cells": [
  {
   "cell_type": "code",
   "execution_count": 41,
   "id": "222e908e-46f4-4a2f-aae3-619c151a41af",
   "metadata": {},
   "outputs": [
    {
     "data": {
      "text/plain": [
       "<module 'packages.word_corrector.src.core' from '/home/jovyan/work/packages/word_corrector/src/core.py'>"
      ]
     },
     "execution_count": 41,
     "metadata": {},
     "output_type": "execute_result"
    }
   ],
   "source": [
    "import importlib\n",
    "import packages.word_corrector.src.core as core\n",
    "\n",
    "importlib.reload(core)"
   ]
  },
  {
   "cell_type": "code",
   "execution_count": 7,
   "id": "92951c1c",
   "metadata": {},
   "outputs": [],
   "source": [
    "from gradio_client import Client, handle_file   \n",
    "# импорт contenxtmanager\n",
    "from contextlib import contextmanager\n",
    "import time\n",
    "import os\n",
    "from pydantic import BaseModel, Field\n",
    "import csv\n",
    "from rapidfuzz import process, fuzz\n",
    "import re\n",
    "\n",
    "from tqdm import tqdm\n",
    "from matplotlib import pyplot as plt\n",
    "import matplotlib.image as mpimg\n",
    "import pandas as pd\n",
    "import json\n",
    "from pathlib import Path"
   ]
  },
  {
   "cell_type": "code",
   "execution_count": 2,
   "id": "e38d5848",
   "metadata": {},
   "outputs": [],
   "source": [
    "class Timer:\n",
    "    def __enter__(self):\n",
    "        self.start = time.time()\n",
    "        return self  # возвращаем self, чтобы получить доступ к elapsed_time\n",
    "\n",
    "    def __exit__(self, exc_type, exc_val, exc_tb):\n",
    "        self.end = time.time()\n",
    "        self.elapsed = round(self.end - self.start,4)\n",
    "        #print(f\"Cell execution time: {self.elapsed:.4f} seconds\")\n"
   ]
  },
  {
   "cell_type": "code",
   "execution_count": 3,
   "id": "c92bc465",
   "metadata": {},
   "outputs": [
    {
     "name": "stdout",
     "output_type": "stream",
     "text": [
      "1.0001\n"
     ]
    }
   ],
   "source": [
    "with Timer() as t:\n",
    "    time.sleep(1)\n",
    "\n",
    "print(t.elapsed)"
   ]
  },
  {
   "cell_type": "code",
   "execution_count": 12,
   "id": "ffe32cbf-c410-4d04-834c-a43c08c8c32b",
   "metadata": {},
   "outputs": [],
   "source": [
    "DATA_BASE_DIR = Path(\"/home/jovyan/work/data\")"
   ]
  },
  {
   "cell_type": "code",
   "execution_count": 13,
   "id": "22cada11-eeec-42b9-820b-8feb76293842",
   "metadata": {},
   "outputs": [],
   "source": [
    "with open(DATA_BASE_DIR / \"test_dataset.json\") as f:\n",
    "    test_dataset = json.load(f)"
   ]
  },
  {
   "cell_type": "code",
   "execution_count": 14,
   "id": "e92c7994",
   "metadata": {},
   "outputs": [
    {
     "data": {
      "text/plain": [
       "[{'image_path': 'names/930.jpg',\n",
       "  'text': 'Молоко КРАСНАЯ ЦЕНА\\n800мл\\nмит.паст.2,5%'},\n",
       " {'image_path': 'names/535.jpg',\n",
       "  'text': 'Говядина СЕМЕЙНЫЙ\\nБЮДЖЕТ   500г\\nтушеная в/с'},\n",
       " {'image_path': 'names/577.jpg',\n",
       "  'text': 'Капуста БЕЛОКОЧАННАЯ  1кг\\nnan\\nnan'},\n",
       " {'image_path': 'names/666.jpg',\n",
       "  'text': 'Кексики МАННИК с \\nизюмом   300г\\nnan'},\n",
       " {'image_path': 'names/927.jpg', 'text': 'Чеснок 100г\\nnan\\nnan'},\n",
       " {'image_path': 'names/438.jpg',\n",
       "  'text': 'Огурцы Среднеплодные\\n600г\\nGLOBAL VILLADE'},\n",
       " {'image_path': 'names/867.jpg',\n",
       "  'text': 'Лапка BIG BON\\n85г\\nЯКИСОБА В СОУСЕ ПО-ЯПОНС.греч.'},\n",
       " {'image_path': 'names/721.jpg',\n",
       "  'text': 'Пюре ФРУТОНЯНЯ\\n80г\\nиз мяса цыплен.с говядиной дет.'},\n",
       " {'image_path': 'names/178.jpg',\n",
       "  'text': 'Sos-маска ARGANA\\nOIL  270мл\\nPROFESSIONAL д/волос'},\n",
       " {'image_path': 'names/614.jpg', 'text': 'Кетчуп МАХЕЕВЪ ЛЕЧО\\n500г\\nnan'}]"
      ]
     },
     "execution_count": 14,
     "metadata": {},
     "output_type": "execute_result"
    }
   ],
   "source": [
    "test_dataset[:10]"
   ]
  },
  {
   "cell_type": "code",
   "execution_count": 25,
   "id": "a39c4831-5139-454f-9f76-0607676205b7",
   "metadata": {},
   "outputs": [],
   "source": [
    "model_list = [\n",
    "    \"gemma3:4b\",\n",
    "    \"gemma3:12b\",\n",
    "    \"qwen2.5vl:32b\",\n",
    "    \"qwen2.5vl:3b\",\n",
    "    \"qwen2.5vl:7b\"\n",
    "]"
   ]
  },
  {
   "cell_type": "code",
   "execution_count": 15,
   "id": "07288c4d",
   "metadata": {},
   "outputs": [
    {
     "name": "stdout",
     "output_type": "stream",
     "text": [
      "Loaded as API: http://api:7860/ ✔\n"
     ]
    }
   ],
   "source": [
    "client = Client(\"http://api:7860/\")"
   ]
  },
  {
   "cell_type": "code",
   "execution_count": 16,
   "id": "fbe73f00",
   "metadata": {},
   "outputs": [],
   "source": [
    "SYSTEM_PROMPT = '''\n",
    "Вы — ассистент OCR , который извлекает информацию с русских товарных этикеток на изображениях. В тексте могут встречаться названия на английском.\n",
    "'''\n",
    "USER_PROMPT = '''\n",
    "Пожалуйста, извлеките весь текст на изображении и ничего больше без комментариев. \n",
    "'''"
   ]
  },
  {
   "cell_type": "code",
   "execution_count": 28,
   "id": "945feb27",
   "metadata": {},
   "outputs": [],
   "source": [
    "def  predict(file_path, model_name = \"gemma3:4b\"):    \n",
    "    result = client.predict(\n",
    "\t\tsystem_prompt =SYSTEM_PROMPT,\n",
    "\t\tuser_prompt= USER_PROMPT,\n",
    "\t\timage=handle_file(file_path),\n",
    "        #image=None,\n",
    "\t\tselected_model=model_name,\n",
    "\t\ttemperator=0.2,\n",
    "\t\tapi_name=\"/chat_with_ollama\"\n",
    "\t)\n",
    "    return result"
   ]
  },
  {
   "cell_type": "code",
   "execution_count": 18,
   "id": "e1e6485f",
   "metadata": {},
   "outputs": [],
   "source": [
    "\n",
    "\n",
    "class PhraseCorrector:\n",
    "    def __init__(self, words_file=\"words.csv\",score_cutoff=70, min_len = 5):\n",
    "        with open(words_file, \"r\", encoding=\"utf-8\") as f:\n",
    "            self.reference_words = [line.strip() for line in f]\n",
    "        self.score_cutoff = score_cutoff\n",
    "        self.min_len = min_len\n",
    "\n",
    "\n",
    "\n",
    "\n",
    "\n",
    "    def correct_words_in_text(self,text):\n",
    "        corrected_lines = []\n",
    "        for line in text.strip().split('\\n'):\n",
    "            corrected_words = []\n",
    "            words = re.split(r\"[ \\t\\f\\v.,!?;:()\\\"«»—–\\-\\/]+\", line.upper().replace(\"Ё\", \"Е\"))\n",
    "            words = list(filter(None, words))  # убираем пустые строки, если они есть\n",
    "        \n",
    "            for word in words:\n",
    "                if len(word) < self.min_len:\n",
    "                    corrected_words.append(word)\n",
    "                    continue\n",
    "                # Ищем наиболее близкое слово из словаря\n",
    "                match = process.extractOne(word, self.reference_words, scorer=fuzz.ratio, score_cutoff=self.score_cutoff)\n",
    "                #print(match)\n",
    "                corrected_word = match[0] if match else word\n",
    "                corrected_words.append(corrected_word)\n",
    "            corrected_lines.append(' '.join(corrected_words))\n",
    "        return '\\n'.join(corrected_lines)"
   ]
  },
  {
   "cell_type": "code",
   "execution_count": 20,
   "id": "a984660b",
   "metadata": {},
   "outputs": [],
   "source": [
    "phrase_corrector = PhraseCorrector(DATA_BASE_DIR / \"words.txt\")"
   ]
  },
  {
   "cell_type": "code",
   "execution_count": 58,
   "id": "86d61a57",
   "metadata": {},
   "outputs": [],
   "source": [
    "class CSVRow(BaseModel):\n",
    "    file_name: str\n",
    "    text: str\n",
    "    elapsed_time: float\n",
    "    corrected_text: str\n",
    "    elapsed_time_corrected: float\n",
    "    original_text: str\n"
   ]
  },
  {
   "cell_type": "code",
   "execution_count": 31,
   "id": "06716050-3158-459c-95ac-41eddee3de3f",
   "metadata": {},
   "outputs": [
    {
     "data": {
      "text/plain": [
       "('Вода святой источник 1.0л природная питьевая негаз.ПЭТ', '0.30 секунд')"
      ]
     },
     "execution_count": 31,
     "metadata": {},
     "output_type": "execute_result"
    }
   ],
   "source": [
    "predict(DATA_BASE_DIR / \"names/1.jpg\", \"qwen2.5vl:7b\")"
   ]
  },
  {
   "cell_type": "code",
   "execution_count": 43,
   "id": "ed43b198-a680-4134-82e1-9d8335ff2a2d",
   "metadata": {},
   "outputs": [],
   "source": [
    "importlib.reload(core)\n",
    "from packages.word_corrector.src.core import   PhraseCorrectorByWords, PhraseCorrectorNgrams, correct_text"
   ]
  },
  {
   "cell_type": "code",
   "execution_count": 44,
   "id": "96f08331-e18b-402b-bf6f-a31fd9756229",
   "metadata": {},
   "outputs": [],
   "source": [
    "corrector = PhraseCorrectorByWords(\"data/words.txt\")"
   ]
  },
  {
   "cell_type": "code",
   "execution_count": 63,
   "id": "29b6facc",
   "metadata": {},
   "outputs": [],
   "source": [
    "def do_experiment(model_name, end_idx = 10):\n",
    "    print(f\"Start experiment with model {model_name}\")\n",
    "    with open(f\"results_{model_name}.tsv\", \"w\", encoding=\"utf-8\") as f:\n",
    "        writer = csv.writer(f, delimiter=\"\\t\", quoting=csv.QUOTE_MINIMAL)\n",
    "        writer.writerow(CSVRow.model_fields.keys())\n",
    "        \n",
    "    \n",
    "        for test_row in tqdm(test_dataset[:end_idx], desc=\"Process images\", unit=\"image\"):\n",
    "            image_path = DATA_BASE_DIR / test_row[\"image_path\"]\n",
    "            row_output = CSVRow(\n",
    "                file_name=\"\",\n",
    "                text=\"\",\n",
    "                elapsed_time=0.0,\n",
    "                corrected_text=\"\",\n",
    "                elapsed_time_corrected=0.0,\n",
    "                original_text = test_row[\"text\"]\n",
    "            )\n",
    "        \n",
    "            row_output.file_name = os.path.basename(test_row[\"image_path\"])\n",
    "            \n",
    "            #img = mpimg.imread(image_path)\n",
    "            #plt.imshow(img)\n",
    "            #plt.show() \n",
    "            \n",
    "            with Timer() as t:\n",
    "                result = predict(image_path, model_name)[0]\n",
    "                #result = \"_test_result_\\n\" + file_name + \"\\n\" + \"Тестовый результат\"\n",
    "            row_output.elapsed_time = t.elapsed\n",
    "            row_output.text = result\n",
    "            \n",
    "            with Timer() as t:\n",
    "                 corrected_result, _ = correct_text(result, corrector)                #corrected_result = \"_test_corrected_result_\\n\" + file_name + \"\\n\" + \"Тестовый исправленный результат\"\n",
    "            row_output.elapsed_time_corrected = t.elapsed\n",
    "            row_output.corrected_text = corrected_result\n",
    "            #print(json.dumps(row_output.model_dump(), indent=4, ensure_ascii=False))\n",
    "            writer.writerow(row_output.model_dump().values())\n",
    "            f.flush()  \n",
    "        "
   ]
  },
  {
   "cell_type": "markdown",
   "id": "d5ef28d4-606a-44a3-ac43-55165bc3d3eb",
   "metadata": {},
   "source": [
    "## Эксперименты"
   ]
  },
  {
   "cell_type": "code",
   "execution_count": 64,
   "id": "6517b3bb-d69b-4aeb-9c62-7d9962168037",
   "metadata": {},
   "outputs": [
    {
     "name": "stdout",
     "output_type": "stream",
     "text": [
      "Start experiment with model qwen2.5vl:3b\n"
     ]
    },
    {
     "name": "stderr",
     "output_type": "stream",
     "text": [
      "Process images: 100%|██████████| 198/198 [02:18<00:00,  1.43image/s]\n"
     ]
    }
   ],
   "source": [
    "do_experiment(\"qwen2.5vl:3b\", end_idx = -1)"
   ]
  },
  {
   "cell_type": "code",
   "execution_count": null,
   "id": "c41fd89e-6b18-4ddb-8e97-335a8733b462",
   "metadata": {},
   "outputs": [
    {
     "name": "stdout",
     "output_type": "stream",
     "text": [
      "Start experiment with model qwen2.5vl:7b\n"
     ]
    },
    {
     "name": "stderr",
     "output_type": "stream",
     "text": [
      "Process images: 100%|██████████| 198/198 [01:55<00:00,  1.72image/s]\n"
     ]
    },
    {
     "name": "stdout",
     "output_type": "stream",
     "text": [
      "Start experiment with model qwen2.5vl:32b\n"
     ]
    },
    {
     "name": "stderr",
     "output_type": "stream",
     "text": [
      "Process images:  22%|██▏       | 44/198 [03:39<06:42,  2.62s/image]  "
     ]
    }
   ],
   "source": [
    "do_experiment(\"qwen2.5vl:7b\", end_idx = -1)\n",
    "do_experiment(\"qwen2.5vl:32b\", end_idx = -1)"
   ]
  },
  {
   "cell_type": "code",
   "execution_count": null,
   "id": "8629dd53-9cd0-41c0-983d-1fde4ed58e9c",
   "metadata": {},
   "outputs": [],
   "source": []
  }
 ],
 "metadata": {
  "kernelspec": {
   "display_name": "Python 3 (ipykernel)",
   "language": "python",
   "name": "python3"
  },
  "language_info": {
   "codemirror_mode": {
    "name": "ipython",
    "version": 3
   },
   "file_extension": ".py",
   "mimetype": "text/x-python",
   "name": "python",
   "nbconvert_exporter": "python",
   "pygments_lexer": "ipython3",
   "version": "3.11.6"
  }
 },
 "nbformat": 4,
 "nbformat_minor": 5
}
