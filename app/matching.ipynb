{
 "cells": [
  {
   "cell_type": "code",
   "execution_count": 1,
   "id": "3158ace2",
   "metadata": {},
   "outputs": [
    {
     "name": "stdout",
     "output_type": "stream",
     "text": [
      "Collecting openpyxl\n",
      "  Downloading openpyxl-3.1.5-py2.py3-none-any.whl.metadata (2.5 kB)\n",
      "Collecting et-xmlfile (from openpyxl)\n",
      "  Downloading et_xmlfile-2.0.0-py3-none-any.whl.metadata (2.7 kB)\n",
      "Downloading openpyxl-3.1.5-py2.py3-none-any.whl (250 kB)\n",
      "Downloading et_xmlfile-2.0.0-py3-none-any.whl (18 kB)\n",
      "Installing collected packages: et-xmlfile, openpyxl\n",
      "Successfully installed et-xmlfile-2.0.0 openpyxl-3.1.5\n",
      "\u001b[33mWARNING: Running pip as the 'root' user can result in broken permissions and conflicting behaviour with the system package manager, possibly rendering your system unusable. It is recommended to use a virtual environment instead: https://pip.pypa.io/warnings/venv. Use the --root-user-action option if you know what you are doing and want to suppress this warning.\u001b[0m\u001b[33m\n",
      "\u001b[0m\n",
      "\u001b[1m[\u001b[0m\u001b[34;49mnotice\u001b[0m\u001b[1;39;49m]\u001b[0m\u001b[39;49m A new release of pip is available: \u001b[0m\u001b[31;49m25.0.1\u001b[0m\u001b[39;49m -> \u001b[0m\u001b[32;49m25.1.1\u001b[0m\n",
      "\u001b[1m[\u001b[0m\u001b[34;49mnotice\u001b[0m\u001b[1;39;49m]\u001b[0m\u001b[39;49m To update, run: \u001b[0m\u001b[32;49mpip install --upgrade pip\u001b[0m\n"
     ]
    }
   ],
   "source": [
    "!pip install openpyxl\n"
   ]
  },
  {
   "cell_type": "code",
   "execution_count": 2,
   "id": "76eaa78d",
   "metadata": {},
   "outputs": [],
   "source": [
    "import pandas as pd"
   ]
  },
  {
   "cell_type": "code",
   "execution_count": 3,
   "id": "91db1665",
   "metadata": {},
   "outputs": [
    {
     "name": "stdout",
     "output_type": "stream",
     "text": [
      "dict_keys(['База товаров', 'Товары для проверки', 'Соответсвия товаров'])\n"
     ]
    }
   ],
   "source": [
    "# Показать все листы в Excel\n",
    "df = pd.read_excel(\"data/Товары для мэтчинга.xlsx\", sheet_name=None)\n",
    "print(df.keys())"
   ]
  },
  {
   "cell_type": "code",
   "execution_count": 4,
   "id": "d7d18dc0",
   "metadata": {},
   "outputs": [],
   "source": [
    "df = pd.read_excel(\"data/Товары для мэтчинга.xlsx\", sheet_name=\"База товаров\")"
   ]
  },
  {
   "cell_type": "code",
   "execution_count": 5,
   "id": "1ca0a8ae",
   "metadata": {},
   "outputs": [],
   "source": [
    "df_test = pd.read_excel(\"data/Товары для мэтчинга.xlsx\", sheet_name=\"Соответсвия товаров\")"
   ]
  },
  {
   "cell_type": "code",
   "execution_count": 6,
   "id": "43e2e3f8",
   "metadata": {},
   "outputs": [],
   "source": [
    "del(df_test[\"Наименование\"])"
   ]
  },
  {
   "cell_type": "code",
   "execution_count": 7,
   "id": "d3c6527b",
   "metadata": {},
   "outputs": [],
   "source": [
    "df_test[\"test_name\"] = df_test[\"Unnamed: 2\"]\n",
    "del(df_test[\"Unnamed: 2\"])"
   ]
  },
  {
   "cell_type": "code",
   "execution_count": 8,
   "id": "a62f6889",
   "metadata": {},
   "outputs": [],
   "source": [
    "del(df_test[\"Unnamed: 3\"])    "
   ]
  },
  {
   "cell_type": "code",
   "execution_count": 9,
   "id": "5baa7ad2",
   "metadata": {},
   "outputs": [],
   "source": [
    "del(df_test[\"Unnamed: 4\"])    "
   ]
  },
  {
   "cell_type": "code",
   "execution_count": 10,
   "id": "9403fff0",
   "metadata": {},
   "outputs": [
    {
     "data": {
      "text/html": [
       "<div>\n",
       "<style scoped>\n",
       "    .dataframe tbody tr th:only-of-type {\n",
       "        vertical-align: middle;\n",
       "    }\n",
       "\n",
       "    .dataframe tbody tr th {\n",
       "        vertical-align: top;\n",
       "    }\n",
       "\n",
       "    .dataframe thead th {\n",
       "        text-align: right;\n",
       "    }\n",
       "</style>\n",
       "<table border=\"1\" class=\"dataframe\">\n",
       "  <thead>\n",
       "    <tr style=\"text-align: right;\">\n",
       "      <th></th>\n",
       "      <th>Артикул</th>\n",
       "      <th>Наименование</th>\n",
       "    </tr>\n",
       "  </thead>\n",
       "  <tbody>\n",
       "    <tr>\n",
       "      <th>0</th>\n",
       "      <td>Т0000017607</td>\n",
       "      <td>Абрикос, кг</td>\n",
       "    </tr>\n",
       "    <tr>\n",
       "      <th>1</th>\n",
       "      <td>102058684</td>\n",
       "      <td>Авокадо, вес</td>\n",
       "    </tr>\n",
       "    <tr>\n",
       "      <th>2</th>\n",
       "      <td>Т0000051246</td>\n",
       "      <td>Апельсины, кг</td>\n",
       "    </tr>\n",
       "    <tr>\n",
       "      <th>3</th>\n",
       "      <td>Т0000012233</td>\n",
       "      <td>Бананы Эквадор, кг</td>\n",
       "    </tr>\n",
       "    <tr>\n",
       "      <th>4</th>\n",
       "      <td>101988505</td>\n",
       "      <td>Бедро цыпленка-бройлера охл. вес.</td>\n",
       "    </tr>\n",
       "  </tbody>\n",
       "</table>\n",
       "</div>"
      ],
      "text/plain": [
       "       Артикул                       Наименование\n",
       "0  Т0000017607                        Абрикос, кг\n",
       "1    102058684                       Авокадо, вес\n",
       "2  Т0000051246                      Апельсины, кг\n",
       "3  Т0000012233                 Бананы Эквадор, кг\n",
       "4    101988505  Бедро цыпленка-бройлера охл. вес."
      ]
     },
     "execution_count": 10,
     "metadata": {},
     "output_type": "execute_result"
    }
   ],
   "source": [
    "df.head()"
   ]
  },
  {
   "cell_type": "code",
   "execution_count": 12,
   "id": "924e8a75",
   "metadata": {},
   "outputs": [],
   "source": [
    "df.to_csv(\"data/products.tsv\", index=False, sep=\"\\t\", encoding=\"utf-8-sig\")"
   ]
  },
  {
   "cell_type": "code",
   "execution_count": 13,
   "id": "9d38ed99",
   "metadata": {},
   "outputs": [],
   "source": [
    "df_test.dropna(subset=[\"test_name\"], inplace=True)"
   ]
  },
  {
   "cell_type": "code",
   "execution_count": 14,
   "id": "9c090690",
   "metadata": {},
   "outputs": [
    {
     "name": "stdout",
     "output_type": "stream",
     "text": [
      "Index([], dtype='object')\n"
     ]
    }
   ],
   "source": [
    "# df_test вывести все не текстовые колонки\n",
    "print(df_test.select_dtypes(exclude=['object']).columns)"
   ]
  },
  {
   "cell_type": "code",
   "execution_count": 15,
   "id": "c69b0b80",
   "metadata": {},
   "outputs": [
    {
     "name": "stdout",
     "output_type": "stream",
     "text": [
      "Артикул      0\n",
      "test_name    0\n",
      "dtype: int64\n",
      "Empty DataFrame\n",
      "Columns: [Артикул, test_name]\n",
      "Index: []\n"
     ]
    }
   ],
   "source": [
    "# df_test пустые колонки\n",
    "print(df_test.isnull().sum())\n",
    "# вывести их\n",
    "print(df_test[df_test.isnull().any(axis=1)])\n"
   ]
  },
  {
   "cell_type": "code",
   "execution_count": 16,
   "id": "2ecd7976",
   "metadata": {},
   "outputs": [
    {
     "data": {
      "text/plain": [
       "Артикул      object\n",
       "test_name    object\n",
       "dtype: object"
      ]
     },
     "execution_count": 16,
     "metadata": {},
     "output_type": "execute_result"
    }
   ],
   "source": [
    "df_test.dtypes"
   ]
  },
  {
   "cell_type": "code",
   "execution_count": 40,
   "id": "e26da1e8",
   "metadata": {},
   "outputs": [
    {
     "name": "stdout",
     "output_type": "stream",
     "text": [
      "Requirement already satisfied: fuzzywuzzy in /usr/local/lib/python3.12/site-packages (0.18.0)\n",
      "\u001b[33mWARNING: Running pip as the 'root' user can result in broken permissions and conflicting behaviour with the system package manager, possibly rendering your system unusable. It is recommended to use a virtual environment instead: https://pip.pypa.io/warnings/venv. Use the --root-user-action option if you know what you are doing and want to suppress this warning.\u001b[0m\u001b[33m\n",
      "\u001b[0m\n",
      "\u001b[1m[\u001b[0m\u001b[34;49mnotice\u001b[0m\u001b[1;39;49m]\u001b[0m\u001b[39;49m A new release of pip is available: \u001b[0m\u001b[31;49m25.0.1\u001b[0m\u001b[39;49m -> \u001b[0m\u001b[32;49m25.1.1\u001b[0m\n",
      "\u001b[1m[\u001b[0m\u001b[34;49mnotice\u001b[0m\u001b[1;39;49m]\u001b[0m\u001b[39;49m To update, run: \u001b[0m\u001b[32;49mpip install --upgrade pip\u001b[0m\n"
     ]
    }
   ],
   "source": [
    "!pip install fuzzywuzzy"
   ]
  },
  {
   "cell_type": "code",
   "execution_count": 41,
   "id": "c51d73e2",
   "metadata": {},
   "outputs": [],
   "source": [
    "import fuzzywuzzy\n",
    "import rapidfuzz\n",
    "import logging\n",
    "import time\n"
   ]
  },
  {
   "cell_type": "code",
   "execution_count": 42,
   "id": "1e58d453",
   "metadata": {},
   "outputs": [],
   "source": [
    "class Timer:\n",
    "    def __enter__(self):\n",
    "        self.start = time.time()\n",
    "        return self  # возвращаем self, чтобы получить доступ к elapsed_time\n",
    "\n",
    "    def __exit__(self, exc_type, exc_val, exc_tb):\n",
    "        self.end = time.time()\n",
    "        self.elapsed = round(self.end - self.start,4)\n",
    "        #print(f\"Cell execution time: {self.elapsed:.4f} seconds\")\n"
   ]
  },
  {
   "cell_type": "code",
   "execution_count": 48,
   "id": "b2d372f6",
   "metadata": {},
   "outputs": [],
   "source": [
    "\n",
    "import fuzzywuzzy.process\n",
    "\n",
    "\n",
    "logging.basicConfig(level=logging.INFO)\n",
    "logger = logging.getLogger(__name__)\n",
    "\n",
    "class BaseMatcher:\n",
    "    def __init__(self, df, threshold=80):\n",
    "        self.df = df\n",
    "        self.threshold = threshold\n",
    "\n",
    "    def find_best_match(self, ocr_name):\n",
    "        raise NotImplementedError(\"This method should be overridden by subclasses\")\n",
    "\n",
    "class FuzzyWuzzySimpleMatcher(BaseMatcher):\n",
    "    def __init__(self, df, threshold=80, **kwargs):\n",
    "        self.df = df\n",
    "        self.threshold = threshold\n",
    "        self.kwargs = kwargs\n",
    "\n",
    "    def find_best_match(self, ocr_name):\n",
    "        choices = self.df['Наименование'].tolist()\n",
    "        result = fuzzywuzzy.process.extractOne(ocr_name, choices,  score_cutoff = self.threshold, **self.kwargs)\n",
    "        if result is None:\n",
    "            logging.warning(f\"No match found for: {ocr_name}\")\n",
    "            return None\n",
    "\n",
    "        match, score = result\n",
    "        idx = choices.index(match)\n",
    "\n",
    "        logging.info(f\"Match: {match}, Score: {score}\")\n",
    "        return self.df.iloc[idx],score\n",
    "\n",
    "class FuzzyRapidSimpleMatcher(BaseMatcher):\n",
    "    def __init__(self, df, threshold=80, **kwargs):\n",
    "        self.df = df\n",
    "        self.threshold = threshold\n",
    "        self.kwargs = kwargs\n",
    "    def find_best_match(self, ocr_name):\n",
    "        choices = self.df['Наименование'].tolist()\n",
    "        result = rapidfuzz.process.extractOne(ocr_name, choices, score_cutoff=self.threshold, **self.kwargs)\n",
    "\n",
    "        if result is None:\n",
    "            logging.warning(f\"No match found for: {ocr_name}\")\n",
    "            return None\n",
    "\n",
    "        match, score, idx = result\n",
    "        logging.info(f\"Match: {match}, Score: {score}\")\n",
    "        return self.df.iloc[idx],score\n",
    "\n",
    "\n",
    "class FuzzyRapidByWordsMatcher(BaseMatcher):\n",
    "    def __init__(self, df, threshold=80, **kwargs):\n",
    "        self.df = df\n",
    "        self.threshold = threshold\n",
    "        self.kwargs = kwargs\n",
    "    \n",
    "    def find_best_match(self, ocr_name):\n",
    "        words = ocr_name.split()\n",
    "        best_match = None\n",
    "        best_score = 0\n",
    "        for index, row in self.df.iterrows():\n",
    "            name = row['Наименование']\n",
    "            score = rapidfuzz.fuzz.token_set_ratio(ocr_name, name)\n",
    "            if score > best_score and score >= self.threshold:\n",
    "                best_score = score\n",
    "                best_match = row\n",
    "\n",
    "        logging.info(f\"Best match for {ocr_name}: {best_match['Наименование']} with score {best_score}\")\n",
    "        if best_score >= self.threshold:\n",
    "            return best_match\n",
    "        return None\n",
    "\n",
    "def match_products(test_df,  matcher):\n",
    "    matcher \n",
    "    matches = []\n",
    "    \n",
    "    for index, row in test_df.iterrows():\n",
    "        ocr_name = row['test_name']\n",
    "        with Timer() as t:\n",
    "            match_result = matcher.find_best_match(ocr_name)\n",
    "        \n",
    "        if match_result is not None:\n",
    "            match, score = match_result\n",
    "            matched = False\n",
    "            if match[\"Артикул\"] == row['Артикул']:\n",
    "                matched = True\n",
    "                logging.info(f\"Match found for {ocr_name}: {match['Наименование']} with Article {match['Артикул']}\")\n",
    "            else:\n",
    "                logging.warning(f\"Match found for {ocr_name} but article does not match: {match['Артикул']} vs {row['Артикул']}\")\n",
    "            \n",
    "            matches.append({\n",
    "                'Test Name': ocr_name,\n",
    "                'Matched Name': match['Наименование'],\n",
    "                'Article': match['Артикул'],\n",
    "                \"Ожидаемый Артикул\": row['Артикул'],\n",
    "                \"matched\": matched,\n",
    "                \"score\": score,\n",
    "                \"elapsed_time\": t.elapsed\n",
    "            })\n",
    "          \n",
    "        else:\n",
    "            matched = False\n",
    "            matches.append({\n",
    "                'Test Name': ocr_name,\n",
    "                'Matched Name': None,\n",
    "                'Article': None,\n",
    "                \"Ожидаемый Артикул\": row['Артикул'],\n",
    "                \"matched\": matched,\n",
    "                \"score\": None,\n",
    "                \"elapsed_time\": t.elapsed\n",
    "            })\n",
    "            logging.warning(f\"No match found for {ocr_name}\")\n",
    "\n",
    "    return pd.DataFrame(matches)"
   ]
  },
  {
   "cell_type": "code",
   "execution_count": 49,
   "id": "e43b58e5",
   "metadata": {},
   "outputs": [],
   "source": [
    "\n",
    "\n",
    "fuzzywuzzy_scorers = [\n",
    "    fuzzywuzzy.fuzz.ratio,    \n",
    "    fuzzywuzzy.fuzz.token_sort_ratio,\n",
    "    fuzzywuzzy.fuzz.token_set_ratio,\n",
    "\n",
    "    fuzzywuzzy.fuzz.partial_ratio,\n",
    "    fuzzywuzzy.fuzz.partial_token_sort_ratio,\n",
    "    fuzzywuzzy.fuzz.partial_token_set_ratio,\n",
    "\n",
    "    fuzzywuzzy.fuzz.WRatio,\n",
    "    fuzzywuzzy.fuzz.QRatio,\n",
    "#    rapidfuzz.fuzz.partial_ratio_alignment # Будет ошибка\n",
    "    \n",
    "]"
   ]
  },
  {
   "cell_type": "code",
   "execution_count": 50,
   "id": "1a36223b",
   "metadata": {},
   "outputs": [
    {
     "name": "stderr",
     "output_type": "stream",
     "text": [
      "INFO:root:Match: Бульмени со свининой и говядиной п/п 700г., Score: 68\n"
     ]
    },
    {
     "name": "stdout",
     "output_type": "stream",
     "text": [
      "Match: (Артикул                                          102718021\n",
      "Наименование    Бульмени со свининой и говядиной п/п 700г.\n",
      "Name: 6, dtype: object, 68),\n"
     ]
    }
   ],
   "source": [
    "matcher = FuzzyWuzzySimpleMatcher(df, threshold=20)\n",
    "match = matcher.find_best_match(\"Пельмени\")\n",
    "print(f\"Match: {match},\")"
   ]
  },
  {
   "cell_type": "code",
   "execution_count": 51,
   "id": "f9fc8b0c",
   "metadata": {},
   "outputs": [
    {
     "name": "stdout",
     "output_type": "stream",
     "text": [
      "Using scorer: ratio\n",
      "Accuracy: 78.67%\n",
      "Using scorer: token_sort_ratio\n",
      "Accuracy: 74.67%\n",
      "Using scorer: token_set_ratio\n",
      "Accuracy: 89.33%\n",
      "Using scorer: partial_ratio\n",
      "Accuracy: 68.00%\n",
      "Using scorer: partial_token_sort_ratio\n",
      "Accuracy: 73.33%\n",
      "Using scorer: partial_token_set_ratio\n",
      "Accuracy: 28.00%\n",
      "Using scorer: WRatio\n",
      "Accuracy: 49.33%\n",
      "Using scorer: QRatio\n",
      "Accuracy: 78.67%\n"
     ]
    }
   ],
   "source": [
    "logging.disable(logging.CRITICAL + 1)\n",
    "\n",
    "for scorer  in fuzzywuzzy_scorers:\n",
    "    print(f\"Using scorer: {scorer.__name__}\")\n",
    "    matcher = FuzzyWuzzySimpleMatcher(df, threshold=40, scorer=scorer)\n",
    "    #match = matcher.find_best_match(\"Пельмени\")\n",
    "    #print(f\"Match: {match},\")\n",
    "    \n",
    "    result_df = match_products(df_test, matcher)\n",
    "    # result_df посчитать accuracy по колонке matched\n",
    "    accuracy = result_df['matched'].mean() * 100\n",
    "    print(f\"Accuracy: {accuracy:.2f}%\")\n",
    "    result_df.to_excel(f\"data/Результаты мэтчинга_fuzzwuzzy_{scorer.__name__}_{accuracy:.2f}.xlsx\", index=False)\n"
   ]
  },
  {
   "cell_type": "code",
   "execution_count": 227,
   "id": "19afc783",
   "metadata": {},
   "outputs": [],
   "source": [
    "rapidfuzz_scorers = [\n",
    "    rapidfuzz.fuzz.ratio,    \n",
    "    rapidfuzz.fuzz.token_sort_ratio,\n",
    "    rapidfuzz.fuzz.token_set_ratio,\n",
    "\n",
    "    rapidfuzz.fuzz.partial_ratio,\n",
    "    rapidfuzz.fuzz.partial_token_sort_ratio,\n",
    "    rapidfuzz.fuzz.partial_token_set_ratio,\n",
    "\n",
    "    rapidfuzz.fuzz.WRatio,\n",
    "    rapidfuzz.fuzz.QRatio,\n",
    "#    rapidfuzz.fuzz.partial_ratio_alignment # Будет ошибка\n",
    "    \n",
    "]"
   ]
  },
  {
   "cell_type": "code",
   "execution_count": null,
   "id": "e47cf30a",
   "metadata": {},
   "outputs": [
    {
     "name": "stdout",
     "output_type": "stream",
     "text": [
      "Using scorer: QRatio\n",
      "Accuracy: 69.33%\n",
      "Using scorer: QRatio\n",
      "Accuracy: 62.67%\n",
      "Using scorer: QRatio\n",
      "Accuracy: 72.00%\n",
      "Using scorer: QRatio\n",
      "Accuracy: 65.33%\n",
      "Using scorer: QRatio\n",
      "Accuracy: 69.33%\n",
      "Using scorer: QRatio\n",
      "Accuracy: 42.67%\n",
      "Using scorer: QRatio\n",
      "Accuracy: 58.67%\n",
      "Using scorer: QRatio\n",
      "Accuracy: 69.33%\n"
     ]
    }
   ],
   "source": [
    "logging.disable(logging.CRITICAL + 1)\n",
    "\n",
    "for scorer in rapidfuzz_scorers:\n",
    "    print(f\"Using scorer: {scorer.__name__}\")\n",
    "    matcher = FuzzyRapidSimpleMatcher(df, threshold=40, scorer=scorer)\n",
    "    #match = matcher.find_best_match(\"Пельмени\")\n",
    "    #print(f\"Match: {match},\")\n",
    "    \n",
    "    result_df = match_products(df_test, matcher)\n",
    "    # result_df посчитать accuracy по колонке matched\n",
    "    accuracy = result_df['matched'].mean() * 100\n",
    "    print(f\"Accuracy: {accuracy:.2f}%\")\n",
    "    result_df.to_excel(f\"data/Результаты мэтчинга_rapidfuzz_{scorer.__name__}_{accuracy:.2f}.xlsx\", index=False)\n"
   ]
  }
 ],
 "metadata": {
  "kernelspec": {
   "display_name": "Python 3",
   "language": "python",
   "name": "python3"
  },
  "language_info": {
   "codemirror_mode": {
    "name": "ipython",
    "version": 3
   },
   "file_extension": ".py",
   "mimetype": "text/x-python",
   "name": "python",
   "nbconvert_exporter": "python",
   "pygments_lexer": "ipython3",
   "version": "3.12.11"
  }
 },
 "nbformat": 4,
 "nbformat_minor": 5
}
